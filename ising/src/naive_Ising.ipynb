{
 "cells": [
  {
   "cell_type": "code",
   "execution_count": 3,
   "id": "6ba5e9e5-9595-4156-b85d-1e3e0f75fdb9",
   "metadata": {},
   "outputs": [
    {
     "name": "stderr",
     "output_type": "stream",
     "text": [
      "/home/cesc/Desktop/miniconda3/lib/python3.9/site-packages/scipy/__init__.py:146: UserWarning: A NumPy version >=1.16.5 and <1.23.0 is required for this version of SciPy (detected version 1.24.3\n",
      "  warnings.warn(f\"A NumPy version >={np_minversion} and <{np_maxversion}\"\n"
     ]
    }
   ],
   "source": [
    "from tqdm import tqdm\n",
    "import numpy as np\n",
    "from scipy.linalg import fractional_matrix_power\n",
    "from scipy.linalg import expm"
   ]
  },
  {
   "cell_type": "markdown",
   "id": "ec7a8852-7af1-4363-b8ce-2e4a93ada2e6",
   "metadata": {},
   "source": [
    "# Definition of the NKTgp"
   ]
  },
  {
   "cell_type": "code",
   "execution_count": 4,
   "id": "61187b36-091e-4a8c-b84b-7f8d0ad200c0",
   "metadata": {},
   "outputs": [],
   "source": [
    "sigma_w = np.sqrt(1.5)\n",
    "sigma_b = 1.\n",
    "Mu = 0.\n",
    "STD = 1.\n",
    "input_size = 1\n",
    "eta = 0.1\n",
    "n0 = 1\n",
    "depth = 3\n",
    "\n",
    "time = 1000"
   ]
  },
  {
   "cell_type": "markdown",
   "id": "ca6f3931-f3db-4c65-9ca2-f021057279e7",
   "metadata": {},
   "source": [
    "For the activation function $\\phi = {\\rm erf}$, we have:"
   ]
  },
  {
   "cell_type": "code",
   "execution_count": 66,
   "id": "b19cfa50-0924-4f47-a285-57056d47a416",
   "metadata": {},
   "outputs": [],
   "source": [
    "def mathT(a, b, c, d):\n",
    "    return 2./np.pi * np.arcsin( 2.* b / np.sqrt((1+2*a)*(1+2*d)))\n",
    "\n",
    "def mathTp(a, b, c, d):\n",
    "    #det = a*c - b*d\n",
    "    auxMat = np.empty((2,2))\n",
    "    auxMat[0,0] = a\n",
    "    auxMat[0,1] = b\n",
    "    auxMat[1,0] = c\n",
    "    auxMat[1,1] = d\n",
    "    return 4./ np.pi * np.linalg.det(fractional_matrix_power(np.eye(2) + 2*auxMat, -1./2.))\n",
    "    #return 4./ np.pi / (np.linalg.det(np.eye(2) + 2*auxMat))**2."
   ]
  },
  {
   "cell_type": "markdown",
   "id": "7a3642be-a9f7-4b1f-9d84-b732fcb9e511",
   "metadata": {},
   "source": [
    "For the activation function ReLU $\\phi(x) = \\max(x, 0)$, we have:"
   ]
  },
  {
   "cell_type": "code",
   "execution_count": 6,
   "id": "526aa0ef-899b-43db-982e-972db0c4006a",
   "metadata": {},
   "outputs": [],
   "source": [
    "def mathT(a, b, c, d):\n",
    "    a = np.linalg.norm(a)\n",
    "    d = np.linalg.norm(d)\n",
    "    fact_or = b/np.sqrt(a*d)\n",
    "    output = np.sin(np.arccos(fact_or)) + (np.pi - np.arccos(fact_or))*fact_or\n",
    "    return 1./2./np.pi * np.sqrt(a*d) * output\n",
    "\n",
    "\n",
    "def mathTp(a, b, c, d):\n",
    "    a = np.linalg.norm(a)\n",
    "    d = np.linalg.norm(d)\n",
    "    return 1./2./np.pi * (np.pi - np.arccos(b/np.sqrt(a*d)))"
   ]
  },
  {
   "cell_type": "code",
   "execution_count": 7,
   "id": "15562a5c-ae8a-4847-adff-345041450021",
   "metadata": {},
   "outputs": [],
   "source": [
    "def Kappa(arr1, arr2, l_index, sigma_w, sigma_b, n0):\n",
    "    if l_index == 1:\n",
    "        return np.dot(arr1,arr2)/n0*sigma_w**2. + sigma_b**2.\n",
    "    else:\n",
    "        T11 = Kappa(arr1, arr1, l_index-1, sigma_w, sigma_b, n0)\n",
    "        T12 = Kappa(arr1, arr2, l_index-1, sigma_w, sigma_b, n0)\n",
    "        T21 = T12\n",
    "        T22 = Kappa(arr2, arr2, l_index-1, sigma_w, sigma_b, n0)\n",
    "        return sigma_w**2.*mathT(T11, T12, T21, T22) + sigma_b**2.\n",
    "\n",
    "    \n",
    "    \n",
    "def Theta(arr1, arr2, l_index, sigma_w, sigma_b, n0):\n",
    "    if l_index == 1:\n",
    "        return np.dot(arr1,arr2)/n0*sigma_w**2. + sigma_b**2.\n",
    "    else:\n",
    "        T11 = Kappa(arr1, arr1, l_index-1, sigma_w, sigma_b, n0)\n",
    "        T12 = Kappa(arr1, arr2, l_index-1, sigma_w, sigma_b, n0)\n",
    "        T21 = T12\n",
    "        T22 = Kappa(arr2, arr2, l_index-1, sigma_w, sigma_b, n0)\n",
    "        return sigma_w**2.*mathTp(T11, T12, T21, T22)*Theta(arr1, arr2, l_index-1, sigma_w, sigma_b, n0)"
   ]
  },
  {
   "cell_type": "code",
   "execution_count": 68,
   "id": "5a2589c6-23ec-4135-bca9-dd04b2049043",
   "metadata": {},
   "outputs": [],
   "source": [
    "def distribNKTgp(time, x, input_train, output_train, eta, n_layer, sigma_w, sigma_b, n0):\n",
    "    tdim = len(input_train)\n",
    "    Kxx = Kappa(x, x, n_layer+1, sigma_w, sigma_b, n0)\n",
    "    KxCalX = np.empty((tdim))\n",
    "    TxCalX = np.empty((tdim))\n",
    "    KCalXCalX = np.empty((tdim, tdim))\n",
    "    TCalXCalX = np.empty((tdim, tdim))\n",
    "    \n",
    "    for index, elem in enumerate(input_train):\n",
    "        KxCalX[index] = Kappa(x, elem, n_layer+1, sigma_w, sigma_b, n0)\n",
    "        TxCalX[index] = Theta(x, elem, n_layer+1, sigma_w, sigma_b, n0)\n",
    "        for jndex in range(index,tdim):\n",
    "            KCalXCalX[index, jndex] = Kappa(elem, input_train[jndex], n_layer+1, sigma_w, sigma_b, n0)\n",
    "            KCalXCalX[jndex, index] = KCalXCalX[index, jndex]\n",
    "            TCalXCalX[index, jndex] = Theta(elem, input_train[jndex], n_layer+1, sigma_w, sigma_b, n0)\n",
    "            TCalXCalX[jndex, index] = TCalXCalX[index, jndex]\n",
    "\n",
    "    T_inverse = np.linalg.inv(TCalXCalX)\n",
    "    Aux = np.eye(tdim) - expm(-eta*TCalXCalX*time)\n",
    "    \n",
    "    mean = np.matmul(TxCalX, np.matmul(T_inverse, np.matmul(Aux, output_train)))\n",
    "    variance = Kxx + np.matmul(TxCalX, np.matmul(T_inverse, np.matmul(Aux, np.matmul(KCalXCalX, np.matmul(Aux, np.matmul(T_inverse, TxCalX))))))\n",
    "    vaux = np.matmul(TxCalX, np.matmul(T_inverse, np.matmul(Aux, KxCalX)))\n",
    "    variance -= vaux + np.conj(vaux)\n",
    "    return mean, np.sqrt(abs(variance))"
   ]
  },
  {
   "cell_type": "markdown",
   "id": "46975020-0d71-4aca-9bf6-19f01120d4cb",
   "metadata": {},
   "source": [
    "# Initial steps for the NKT Ising"
   ]
  },
  {
   "cell_type": "markdown",
   "id": "62142c5d-ebd0-46ca-9b63-f8dde39083c7",
   "metadata": {},
   "source": [
    "### Data Preparation\n",
    "\n",
    "+ N = # of spins\n",
    "+ g = transverse field\n",
    "+ h = longitudinal field\n",
    "+ Mx = longitudinal Magnetization\n",
    "+ energy "
   ]
  },
  {
   "cell_type": "code",
   "execution_count": 69,
   "id": "79f8af6e-33b0-4f87-94ae-4d311c9b793f",
   "metadata": {},
   "outputs": [],
   "source": [
    "N, g, h, Mx, energy = np.loadtxt(\"../data/data.dat\", unpack=True)"
   ]
  },
  {
   "cell_type": "code",
   "execution_count": 70,
   "id": "87228479-34f5-4a2e-bc6a-fdaf6325d31e",
   "metadata": {},
   "outputs": [
    {
     "name": "stdout",
     "output_type": "stream",
     "text": [
      "[10.   1.8  0.5]\n",
      "[10.   1.8  0.5] [0.66771903]\n"
     ]
    }
   ],
   "source": [
    "num_train = len(N) - 1\n",
    "num_test = len(N) - num_train\n",
    "\n",
    "input = np.ndarray(shape = (len(N), 3))\n",
    "for ind, elem in enumerate(input):\n",
    "    input[ind] = np.array([N[ind], g[ind], h[ind]])\n",
    "\n",
    "input_train = input[0:num_train,:]\n",
    "input_test = input[len(N)-1,:]\n",
    "for ind, elem in enumerate(input):\n",
    "    if ind == num_train:\n",
    "        print(elem)\n",
    "\n",
    "Mxout_train = Mx[0:num_train]\n",
    "Mxout_test = Mx[num_train:len(N)]\n",
    "\n",
    "print(input_test, Mxout_test)"
   ]
  },
  {
   "cell_type": "markdown",
   "id": "75cb0ae0-a090-44ad-b75d-b278b2eaabcb",
   "metadata": {},
   "source": [
    "### Application of the NKTgp algorithm\n",
    "the right way is to use the activation function $\\phi = {\\rm erf}\\,\\,$:"
   ]
  },
  {
   "cell_type": "code",
   "execution_count": 73,
   "id": "6df40bff-8dc0-4fd5-8052-a574a906f998",
   "metadata": {},
   "outputs": [
    {
     "name": "stdout",
     "output_type": "stream",
     "text": [
      "(0.676300985115283, 1.0100117012698748)\n"
     ]
    }
   ],
   "source": [
    "sigma_b = 3\n",
    "sigma_w = 2\n",
    "\n",
    "n0 = 3\n",
    "time = 10000\n",
    "eta = 0.1\n",
    "n_layer = 3\n",
    "\n",
    "print(distribNKTgp(time, input_test, input_train, Mxout_train, eta, n_layer, sigma_w, sigma_b, n0))"
   ]
  },
  {
   "cell_type": "code",
   "execution_count": null,
   "id": "64640200-b890-4c1d-9e5f-58e833048e9f",
   "metadata": {},
   "outputs": [],
   "source": []
  }
 ],
 "metadata": {
  "kernelspec": {
   "display_name": "Python 3",
   "language": "python",
   "name": "python3"
  },
  "language_info": {
   "codemirror_mode": {
    "name": "ipython",
    "version": 3
   },
   "file_extension": ".py",
   "mimetype": "text/x-python",
   "name": "python",
   "nbconvert_exporter": "python",
   "pygments_lexer": "ipython3",
   "version": "3.9.12"
  }
 },
 "nbformat": 4,
 "nbformat_minor": 5
}
