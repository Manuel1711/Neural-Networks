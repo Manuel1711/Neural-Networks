{
 "cells": [
  {
   "cell_type": "markdown",
   "id": "5e54329a",
   "metadata": {},
   "source": [
    "# Spin Glass Trade\n",
    "\n",
    "+ 2 possibilità di vedere lo spin{-1,0,1}:\n",
    "    * scende, invariato, sale\n",
    "    * vendo, nulla, compro\n",
    "\n",
    "+ accettanza nelle fluttuazioni termiche nel sistema che avvengono in ogni step di evoluzione del mercato\n",
    "\n",
    "+ volatitilità utilizzata per stimare il valore della temperatura e/o accettanza dei passi Metropolis\n",
    "\n",
    "+ $ H = \\sum _{i,j; i \\neq j} J_{i,j} s_i s_j + h \\sum _k s_k$\n",
    "    * $J_{i,j}$ è la matrice di correlazione (formazione di clustering tra i vari titoli: prendere sezioni di cluster separate o tutte insieme?)\n",
    "    * ?$h$ permette il collasso sullo stato di vuoto di equilibrio statistico associato al crollo della borsa \n",
    "\n",
    "+ Metropolis? $p \\sim e^{-\\Delta H / T}$\n",
    "    * come prendere la temperatura associata al sistema; si potrebbe partire da una condizione iniziale nota e calcolare qualche osservabile per poi confrontare il loro valore ottenuta con quello delle simulazioni;\n",
    "\n",
    "+ strategia\n",
    "scegliere gli $s_k$ che hanno un valore di:\n",
    "$S_k(t=T=n dt) = \\sum_{l=0}^n s_k(l dt) \\simeq n+1$;\n",
    "\n",
    "+ se $T \\sim T_c$ si ha il collasso del mercato con l'opportuna scelta dello stato di vuoto;\n",
    "\n",
    "+ si suppone che la temperatura rimanga invariata e che simuli l'andamento temporale del mercato;"
   ]
  },
  {
   "cell_type": "code",
   "execution_count": null,
   "id": "e5425cf8",
   "metadata": {},
   "outputs": [],
   "source": []
  }
 ],
 "metadata": {
  "kernelspec": {
   "display_name": "Python 3 (ipykernel)",
   "language": "python",
   "name": "python3"
  },
  "language_info": {
   "codemirror_mode": {
    "name": "ipython",
    "version": 3
   },
   "file_extension": ".py",
   "mimetype": "text/x-python",
   "name": "python",
   "nbconvert_exporter": "python",
   "pygments_lexer": "ipython3",
   "version": "3.10.6"
  }
 },
 "nbformat": 4,
 "nbformat_minor": 5
}
