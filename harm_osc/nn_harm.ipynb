{
 "cells": [
  {
   "cell_type": "code",
   "execution_count": 251,
   "id": "a1b963d7",
   "metadata": {},
   "outputs": [],
   "source": [
    "import numpy as np\n",
    "from scipy.stats import norm\n",
    "from scipy.special import erf\n",
    "import torch\n",
    "from torch import nn\n",
    "from torch.optim import lr_scheduler\n",
    "from matplotlib import pyplot as plt\n",
    "from tqdm import tqdm\n",
    "from glob import glob"
   ]
  },
  {
   "cell_type": "markdown",
   "id": "469b4515",
   "metadata": {},
   "source": [
    "## FakeData"
   ]
  },
  {
   "cell_type": "code",
   "execution_count": 258,
   "id": "0535032a",
   "metadata": {},
   "outputs": [
    {
     "name": "stdout",
     "output_type": "stream",
     "text": [
      "10000 2842\n"
     ]
    }
   ],
   "source": [
    "pattern = \"fakedata/Data_*.txt*\"\n",
    "\n",
    "data_files = glob(pattern)\n",
    "\n",
    "#random.shuffle(data_files)\n",
    "\n",
    "tot_max = len(data_files)\n",
    "boot_max = tot_max\n",
    "\n",
    "Ntotdata = len(np.loadtxt(data_files[0], unpack=True))\n",
    "# df = pd.read_csv(data_files[0], header=None, names=['Value'])\n",
    "time_max = 100\n",
    "num_samples = 10000\n",
    "\n",
    "input = np.ndarray(shape = (tot_max, time_max))\n",
    "output = np.ndarray(shape = (tot_max, num_samples))\n",
    "\n",
    "#for ind,file in enumerate(data_files):\n",
    "for ind in range(0,tot_max):\n",
    "    #x_temp = np.loadtxt(file, unpack=True)\n",
    "    x_temp = np.loadtxt(data_files[ind], unpack=True)\n",
    "    input[ind] = x_temp[0:time_max]\n",
    "    output[ind] = x_temp[Ntotdata-num_samples:]\n",
    "\n",
    "print(len(output[boot_max-1]), boot_max)    \n",
    "    \n",
    "num_train = boot_max - 1\n",
    "num_test = boot_max - 1 # boot_max - 1\n",
    "\n",
    "input_train = input[0:num_train,:]\n",
    "input_test = input[num_test,:]\n",
    "\n",
    "\n",
    "out_train = output[0:num_train,:]\n",
    "out_test = output[num_test,:]"
   ]
  },
  {
   "cell_type": "markdown",
   "id": "af43d354",
   "metadata": {},
   "source": [
    "## Harmonic oscillator"
   ]
  },
  {
   "cell_type": "code",
   "execution_count": 259,
   "id": "dfd39ad0",
   "metadata": {},
   "outputs": [
    {
     "name": "stdout",
     "output_type": "stream",
     "text": [
      "[0.49208068 0.46830312 0.44550402 0.42402797 0.40361601 0.38405484\n",
      " 0.36531163 0.3477342  0.33086276 0.31486014 0.29964113 0.28534082\n",
      " 0.27157928 0.25831779 0.24576166 0.23380711 0.22251643 0.21160233\n",
      " 0.20114351 0.19146617 0.18193825 0.17311959 0.16474665 0.15674739\n",
      " 0.14927064 0.14214841 0.13522236 0.12893383 0.12270467 0.11677858\n",
      " 0.11121707 0.105946   0.10076213 0.09594689 0.09121749 0.08664718\n",
      " 0.08238929 0.07835542 0.07465804 0.07097652 0.06745624 0.06405754\n",
      " 0.06086711 0.05775681 0.05498008 0.05226143 0.04961268 0.04712296\n",
      " 0.04485045 0.04248805 0.04031925 0.03836886 0.03660317 0.03476519\n",
      " 0.03324224 0.0317494  0.03027696 0.02889792 0.02753801 0.02624926\n",
      " 0.02495219 0.02382626 0.02282857 0.02170092 0.02076953 0.01972829\n",
      " 0.01888831 0.01796245 0.01712499 0.01638248 0.01556521 0.01501843\n",
      " 0.01423189 0.0136461  0.01297881 0.01241608 0.01198558 0.01147195\n",
      " 0.01113957 0.01063096 0.00998037 0.00976694 0.00922379 0.00884931\n",
      " 0.00859391 0.00821588 0.00785453 0.00753091 0.00731882 0.00715824\n",
      " 0.00693137 0.00684353 0.00665688 0.00654955 0.00665149 0.00653713\n",
      " 0.00651737 0.0064059  0.00629607 0.00636192]\n"
     ]
    }
   ],
   "source": [
    "boot, time, corr = np.loadtxt(\"bootstrap/bootstrap1k_mean_secondofile.dat\", unpack=True)\n",
    "\n",
    "time_max = int(np.max(time) + 1)\n",
    "boot_max = int(np.max(boot))\n",
    "\n",
    "#num_train = boot_max - 1\n",
    "num_test = int(boot_max/2) #boot_max-1 #boot_max - num_train\n",
    "\n",
    "input = np.ndarray(shape = (boot_max, time_max))\n",
    "for ind, elem in enumerate(input):\n",
    "    auxind = ind * time_max\n",
    "    input[ind] = np.array([corr[ii + auxind] for ii in range(0,time_max)])\n",
    "\n",
    "num_test = 0\n",
    "#input_train = input[0:num_train,:]\n",
    "input_test = input[num_test,:]\n",
    "print(input_test)\n",
    "    \n",
    "num_samples = 10000\n",
    "x = np.linspace(0, 0.3, num_samples)\n",
    "etaharm = 0.05\n",
    "smear_sigma = 0.01\n",
    "\n",
    "aux_zeta = 0.5 + 0.5 * erf(etaharm/np.sqrt(2)/smear_sigma)\n",
    "\n",
    "pdf = 1./2.**0.5/aux_zeta*norm.pdf(x, loc = etaharm, scale = smear_sigma)\n",
    "\n",
    "pdf2 = 1./2.**(3./2.)/aux_zeta*( norm.pdf(x, loc = etaharm, scale = smear_sigma) + 1./9.*norm.pdf(x, loc = 3*etaharm, scale = smear_sigma) )\n",
    "##plt.plot(x, pdf)\n",
    "##plt.show()\n",
    "\n",
    "#out_train = np.ndarray(shape = (num_train, num_samples))\n",
    "#for ii in range(0, num_train):\n",
    "#    out_train[ii] = 1./2./np.sqrt(np.pi*smear_sigma)*pdf"
   ]
  },
  {
   "cell_type": "markdown",
   "id": "e86a8268",
   "metadata": {},
   "source": [
    "## Neural Network"
   ]
  },
  {
   "cell_type": "markdown",
   "id": "ba823e31",
   "metadata": {},
   "source": [
    "#### Parameters"
   ]
  },
  {
   "cell_type": "code",
   "execution_count": 281,
   "id": "4c620550",
   "metadata": {},
   "outputs": [],
   "source": [
    "hid_size = 128\n",
    "hid_size2 = 128\n",
    "learning_rate = 0.005"
   ]
  },
  {
   "cell_type": "markdown",
   "id": "84912c82",
   "metadata": {},
   "source": [
    "#### Net"
   ]
  },
  {
   "cell_type": "code",
   "execution_count": 286,
   "id": "c855333f",
   "metadata": {},
   "outputs": [
    {
     "name": "stderr",
     "output_type": "stream",
     "text": [
      "Progress: 100%|████████████████████████████████████████████████| 2841/2841 [00:19<00:00, 145.68it/s]\n",
      "Progress: 100%|████████████████████████████████████████████████| 2841/2841 [00:21<00:00, 134.51it/s]\n",
      "Progress: 100%|████████████████████████████████████████████████| 2841/2841 [00:20<00:00, 140.15it/s]\n",
      "Progress: 100%|████████████████████████████████████████████████| 2841/2841 [00:20<00:00, 137.05it/s]\n"
     ]
    }
   ],
   "source": [
    "class netNeur(nn.Module):\n",
    "\n",
    "    def __init__(self):\n",
    "        super(netNeur, self).__init__()\n",
    "        self.layer1=nn.Linear(len(input_train[0,:]), hid_size)\n",
    "        self.activation1=nn.ReLU()\n",
    "        self.layer2=nn.Linear(hid_size,hid_size2)\n",
    "        self.activation2=nn.ReLU() #nn.GELU() #nn.ReLU() #nn.Tanh()\n",
    "        self.layer3=nn.Linear(hid_size2,hid_size2)\n",
    "        self.layer4=nn.Linear(hid_size2,len(out_train[0,:]))\n",
    "        #self.activation3=torch.norm()\n",
    "\n",
    "    def forward(self, x):\n",
    "        #print(x.dtype)\n",
    "        #print(self.layer1.weight.dtype)\n",
    "        x = x.to(self.layer1.weight.dtype)\n",
    "        x=self.layer1(x)\n",
    "        x=self.activation1(x)\n",
    "        x=self.layer2(x)\n",
    "        x=self.activation2(x)\n",
    "        x=self.layer3(x)\n",
    "        x=self.activation2(x)\n",
    "        x=self.layer4(x)\n",
    "        #x=self.activation2(x)\n",
    "        return x\n",
    "\n",
    "loss_fun=nn.MSELoss()\n",
    "\n",
    "\n",
    "rete=netNeur()\n",
    "\n",
    "losses = []\n",
    "n_discr = int(num_train/1)\n",
    "dstep = int((num_train-1)/n_discr + 1)\n",
    "\n",
    "optimizer = torch.optim.Adam(rete.parameters(), lr=learning_rate)\n",
    "#optimizer = torch.optim.SGD(rete.parameters(), lr=learning_rate)\n",
    "scheduler = lr_scheduler.StepLR(optimizer, step_size=100, gamma=0.1)\n",
    "\n",
    "for j in range(4):\n",
    "    #for i in range(0,n_discr):\n",
    "    for i in tqdm(range(n_discr), desc=\"Progress\", ncols=100):\n",
    "        #optimizer = torch.optim.Adam(rete.parameters(), lr=0.01)\n",
    "        in_train = torch.tensor(input_train[i*dstep:(i+1)*dstep,:])\n",
    "        in_train = in_train.float()\n",
    "        #in_train = in_train.squeeze()\n",
    "        #input_train = input_train.reshape((dstep, len(phi_train[0,:])))\n",
    "        #print(input_train)\n",
    "        #p = torch.randn((100,2))*10\n",
    "        target = torch.tensor(out_train[i*dstep:(i+1)*dstep,:])\n",
    "        target = target.float()\n",
    "        #target = target.squeeze()\n",
    "        #target = target.unsqueeze(1)\n",
    "        #target = torch.tensor([2.0])\n",
    "        result=rete.forward(in_train)\n",
    "        #print(target.dtype)\n",
    "        #print(result.dtype)\n",
    "        #print(target, result)\n",
    "        loss=loss_fun(target, result)\n",
    "        losses.append(loss.item())\n",
    "        optimizer.zero_grad()\n",
    "        #for name, param in rete.named_parameters():\n",
    "        #    print(f\"Parameter name: {name}\")\n",
    "        #    print(f\"Parameter value: {param}\")\n",
    "        #    print(\"-------------\")\n",
    "        loss.backward()\n",
    "        optimizer.step()\n",
    "        #scheduler.step()\n",
    "        #for name, param in rete.named_parameters():\n",
    "        #    print(f\"Parameter name: {name}\")\n",
    "        #    print(f\"Parameter value: {param}\")\n",
    "        #    print(\"-------------\")\n",
    "        #sys.exit()\n",
    "        #print(loss)\n",
    "        #for p in rete.parameters():\n",
    "        #    p.data.sub_(0.001*p.grad)\n",
    "\n",
    "        #rete.zero_grad()"
   ]
  },
  {
   "cell_type": "code",
   "execution_count": 287,
   "id": "582f13b9",
   "metadata": {},
   "outputs": [
    {
     "data": {
      "text/plain": [
       "[<matplotlib.lines.Line2D at 0x7f27cde081f0>]"
      ]
     },
     "execution_count": 287,
     "metadata": {},
     "output_type": "execute_result"
    },
    {
     "data": {
      "image/png": "[encoded data removed]",
      "text/plain": [
       "<Figure size 640x480 with 1 Axes>"
      ]
     },
     "metadata": {},
     "output_type": "display_data"
    }
   ],
   "source": [
    "plt.plot(losses)"
   ]
  },
  {
   "cell_type": "code",
   "execution_count": 288,
   "id": "6bcb7c65",
   "metadata": {},
   "outputs": [
    {
     "name": "stdout",
     "output_type": "stream",
     "text": [
      "100 100\n"
     ]
    }
   ],
   "source": [
    "print(len(input_train[0,:]), len(input_test))\n",
    "\n",
    "#n_discr = num_test\n",
    "#dstep = int((num_test-1)/n_discr + 1)\n",
    "in_test = torch.tensor(input_test)\n",
    "\n",
    "rete.eval()\n",
    "\n",
    "with torch.no_grad():\n",
    "    out_net = rete(in_test)\n",
    "\n",
    "\n",
    "#out_net = distribNTKgp(input_test, input_train, out_train, eta, n_layer, sigma_w, sigma_b, n0)"
   ]
  },
  {
   "cell_type": "code",
   "execution_count": 289,
   "id": "1bbf89aa",
   "metadata": {},
   "outputs": [
    {
     "data": {
      "image/png": "[encoded data removed]",
      "text/plain": [
       "<Figure size 640x480 with 1 Axes>"
      ]
     },
     "metadata": {},
     "output_type": "display_data"
    }
   ],
   "source": [
    "#print(out_net, len(input_test))\n",
    "plt.plot(x, out_net)\n",
    "#plt.xlim([0,10])\n",
    "plt.plot(x, pdf2)#out_test)\n",
    "plt.show()"
   ]
  },
  {
   "cell_type": "code",
   "execution_count": null,
   "id": "2c60af9e",
   "metadata": {},
   "outputs": [],
   "source": []
  }
 ],
 "metadata": {
  "kernelspec": {
   "display_name": "Python 3 (ipykernel)",
   "language": "python",
   "name": "python3"
  },
  "language_info": {
   "codemirror_mode": {
    "name": "ipython",
    "version": 3
   },
   "file_extension": ".py",
   "mimetype": "text/x-python",
   "name": "python",
   "nbconvert_exporter": "python",
   "pygments_lexer": "ipython3",
   "version": "3.10.12"
  }
 },
 "nbformat": 4,
 "nbformat_minor": 5
}
