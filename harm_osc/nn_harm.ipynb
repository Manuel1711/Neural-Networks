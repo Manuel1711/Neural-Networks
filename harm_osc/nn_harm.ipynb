{
 "cells": [
  {
   "cell_type": "code",
   "execution_count": 405,
   "id": "a1b963d7",
   "metadata": {},
   "outputs": [],
   "source": [
    "import numpy as np\n",
    "from scipy.stats import norm\n",
    "from scipy.special import erf\n",
    "import torch\n",
    "from torch import nn\n",
    "from torch.optim import lr_scheduler\n",
    "from matplotlib import pyplot as plt\n",
    "from tqdm import tqdm\n",
    "from glob import glob"
   ]
  },
  {
   "cell_type": "markdown",
   "id": "469b4515",
   "metadata": {},
   "source": [
    "## FakeData"
   ]
  },
  {
   "cell_type": "code",
   "execution_count": 406,
   "id": "0535032a",
   "metadata": {},
   "outputs": [
    {
     "name": "stdout",
     "output_type": "stream",
     "text": [
      "10000 101\n"
     ]
    }
   ],
   "source": [
    "pattern = \"fakedata/*.txt*\"\n",
    "\n",
    "data_files = glob(pattern)\n",
    "\n",
    "#random.shuffle(data_files)\n",
    "\n",
    "tot_max = len(data_files)\n",
    "boot_max = tot_max\n",
    "\n",
    "Ntotdata = len(np.loadtxt(data_files[0], unpack=True))\n",
    "# df = pd.read_csv(data_files[0], header=None, names=['Value'])\n",
    "time_max = 100\n",
    "num_samples = 10000\n",
    "\n",
    "input = np.ndarray(shape = (tot_max, time_max))\n",
    "output = np.ndarray(shape = (tot_max, num_samples))\n",
    "\n",
    "#for ind,file in enumerate(data_files):\n",
    "for ind in range(0,tot_max):\n",
    "    #x_temp = np.loadtxt(file, unpack=True)\n",
    "    x_temp = np.loadtxt(data_files[ind], unpack=True)\n",
    "    input[ind] = x_temp[0:time_max]\n",
    "    output[ind] = x_temp[Ntotdata-num_samples:]\n",
    "\n",
    "print(len(output[boot_max-1]), boot_max)    \n",
    "    \n",
    "num_train = boot_max - 2\n",
    "num_test = boot_max - 1 # boot_max - 1\n",
    "\n",
    "input_train = input[0:num_train,:]\n",
    "input_test = input[num_test,:]\n",
    "\n",
    "\n",
    "out_train = output[0:num_train,:]\n",
    "out_test = output[num_test,:]"
   ]
  },
  {
   "cell_type": "markdown",
   "id": "af43d354",
   "metadata": {},
   "source": [
    "## Harmonic oscillator"
   ]
  },
  {
   "cell_type": "code",
   "execution_count": 413,
   "id": "dfd39ad0",
   "metadata": {},
   "outputs": [],
   "source": [
    "#boot, time, corr = np.loadtxt(\"bootstrap/bootstrap1k_mean_secondofile.dat\", unpack=True)\n",
    "boot, time, corr = np.loadtxt(\"data/corr.txt\", unpack=True)\n",
    "\n",
    "\n",
    "time_max = int(np.max(time) + 1)\n",
    "boot_max = int(np.max(boot))\n",
    "\n",
    "#num_train = boot_max - 1\n",
    "num_test = int(boot_max/2) #boot_max-1 #boot_max - num_train\n",
    "\n",
    "input = np.ndarray(shape = (boot_max, time_max))\n",
    "for ind, elem in enumerate(input):\n",
    "    auxind = ind * time_max\n",
    "    input[ind] = np.array([corr[ii + auxind] for ii in range(0,time_max)])\n",
    "\n",
    "num_test = 0\n",
    "#input_train = input[0:num_train,:]\n",
    "input_test = input[num_test,:]\n",
    "#print(input_test)\n",
    "    \n",
    "num_samples = 10000\n",
    "x = np.linspace(0, 2.5, num_samples)\n",
    "etaharm = 0.05\n",
    "smear_sigma = 0.01\n",
    "\n",
    "aux_zeta = 0.5 + 0.5 * erf(etaharm/np.sqrt(2)/smear_sigma)\n",
    "\n",
    "pdf = 1./2.**0.5/aux_zeta*norm.pdf(x, loc = etaharm, scale = smear_sigma)\n",
    "\n",
    "pdf2 = 1./2.**(3./2.)/aux_zeta*( norm.pdf(x, loc = etaharm, scale = smear_sigma) + 1./9.*norm.pdf(x, loc = 3*etaharm, scale = smear_sigma) )\n",
    "##plt.plot(x, pdf)\n",
    "##plt.show()\n",
    "\n",
    "#out_train = np.ndarray(shape = (num_train, num_samples))\n",
    "#for ii in range(0, num_train):\n",
    "#    out_train[ii] = 1./2./np.sqrt(np.pi*smear_sigma)*pdf"
   ]
  },
  {
   "cell_type": "markdown",
   "id": "e86a8268",
   "metadata": {},
   "source": [
    "## Neural Network"
   ]
  },
  {
   "cell_type": "markdown",
   "id": "ba823e31",
   "metadata": {},
   "source": [
    "#### Parameters"
   ]
  },
  {
   "cell_type": "code",
   "execution_count": 414,
   "id": "4c620550",
   "metadata": {},
   "outputs": [],
   "source": [
    "hid_size = 32\n",
    "hid_size2 = 32\n",
    "learning_rate = 0.5"
   ]
  },
  {
   "cell_type": "markdown",
   "id": "84912c82",
   "metadata": {},
   "source": [
    "#### Net"
   ]
  },
  {
   "cell_type": "code",
   "execution_count": 415,
   "id": "c855333f",
   "metadata": {},
   "outputs": [
    {
     "name": "stderr",
     "output_type": "stream",
     "text": [
      "Progress: 100%|████████████████████████████████████████████████████| 99/99 [00:00<00:00, 746.06it/s]\n"
     ]
    }
   ],
   "source": [
    "class netNeur(nn.Module):\n",
    "\n",
    "    def __init__(self):\n",
    "        super(netNeur, self).__init__()\n",
    "        self.layer1=nn.Linear(len(input_train[0,:]), hid_size)\n",
    "        self.activation1=nn.ReLU()\n",
    "        self.layer2=nn.Linear(hid_size,hid_size2)\n",
    "        self.activation2=nn.ReLU() #nn.GELU() #nn.ReLU() #nn.Tanh()\n",
    "        self.layer3=nn.Linear(hid_size2,hid_size2)\n",
    "        self.layer4=nn.Linear(hid_size2,len(out_train[0,:]))\n",
    "        #self.activation3=torch.norm()\n",
    "\n",
    "    def forward(self, x):\n",
    "        #print(x.dtype)\n",
    "        #print(self.layer1.weight.dtype)\n",
    "        x = x.to(self.layer1.weight.dtype)\n",
    "        x=self.layer1(x)\n",
    "        x=self.activation1(x)\n",
    "        x=self.layer2(x)\n",
    "        x=self.activation2(x)\n",
    "        #x=self.layer3(x)\n",
    "        #x=self.activation2(x)\n",
    "        x=self.layer4(x)\n",
    "        #x=self.activation2(x)\n",
    "        return x\n",
    "\n",
    "loss_fun=nn.MSELoss()\n",
    "\n",
    "\n",
    "rete=netNeur()\n",
    "\n",
    "losses = []\n",
    "n_discr = int(num_train/1)\n",
    "dstep = int((num_train-1)/n_discr + 1)\n",
    "\n",
    "optimizer = torch.optim.Adam(rete.parameters(), lr=learning_rate)\n",
    "#optimizer = torch.optim.SGD(rete.parameters(), lr=learning_rate)\n",
    "scheduler = lr_scheduler.StepLR(optimizer, step_size=500, gamma=0.1)\n",
    "\n",
    "for j in range(1):\n",
    "    #for i in range(0,n_discr):\n",
    "    for i in tqdm(range(n_discr), desc=\"Progress\", ncols=100):\n",
    "        #optimizer = torch.optim.Adam(rete.parameters(), lr=0.01)\n",
    "        in_train = torch.tensor(input_train[i*dstep:(i+1)*dstep,:])\n",
    "        in_train = in_train.float()\n",
    "        #in_train = in_train.squeeze()\n",
    "        #input_train = input_train.reshape((dstep, len(phi_train[0,:])))\n",
    "        #print(input_train)\n",
    "        #p = torch.randn((100,2))*10\n",
    "        target = torch.tensor(out_train[i*dstep:(i+1)*dstep,:])\n",
    "        target = target.float()\n",
    "        #target = target.squeeze()\n",
    "        #target = target.unsqueeze(1)\n",
    "        #target = torch.tensor([2.0])\n",
    "        result=rete.forward(in_train)\n",
    "        #print(target.dtype)\n",
    "        #print(result.dtype)\n",
    "        #print(target, result)\n",
    "        loss=loss_fun(target, result)\n",
    "        losses.append(loss.item())\n",
    "        optimizer.zero_grad()\n",
    "        #for name, param in rete.named_parameters():\n",
    "        #    print(f\"Parameter name: {name}\")\n",
    "        #    print(f\"Parameter value: {param}\")\n",
    "        #    print(\"-------------\")\n",
    "        loss.backward()\n",
    "        optimizer.step()\n",
    "        scheduler.step()\n",
    "        #for name, param in rete.named_parameters():\n",
    "        #    print(f\"Parameter name: {name}\")\n",
    "        #    print(f\"Parameter value: {param}\")\n",
    "        #    print(\"-------------\")\n",
    "        #sys.exit()\n",
    "        #print(loss)\n",
    "        #for p in rete.parameters():\n",
    "        #    p.data.sub_(0.001*p.grad)\n",
    "\n",
    "        #rete.zero_grad()"
   ]
  },
  {
   "cell_type": "code",
   "execution_count": 416,
   "id": "00794173",
   "metadata": {},
   "outputs": [
    {
     "data": {
      "text/plain": [
       "[<matplotlib.lines.Line2D at 0x7f27c6e94ee0>]"
      ]
     },
     "execution_count": 416,
     "metadata": {},
     "output_type": "execute_result"
    },
    {
     "data": {
      "image/png": "[encoded data removed]",
      "text/plain": [
       "<Figure size 640x480 with 1 Axes>"
      ]
     },
     "metadata": {},
     "output_type": "display_data"
    }
   ],
   "source": [
    "plt.plot(losses)"
   ]
  },
  {
   "cell_type": "code",
   "execution_count": 411,
   "id": "2421b7e3",
   "metadata": {},
   "outputs": [
    {
     "name": "stdout",
     "output_type": "stream",
     "text": [
      "100 100\n"
     ]
    }
   ],
   "source": [
    "print(len(input_train[0,:]), len(input_test))\n",
    "\n",
    "#n_discr = num_test\n",
    "#dstep = int((num_test-1)/n_discr + 1)\n",
    "in_test = torch.tensor(input_test)\n",
    "\n",
    "rete.eval()\n",
    "\n",
    "with torch.no_grad():\n",
    "    out_net = rete(in_test)\n",
    "\n",
    "\n",
    "#out_net = distribNTKgp(input_test, input_train, out_train, eta, n_layer, sigma_w, sigma_b, n0)"
   ]
  },
  {
   "cell_type": "code",
   "execution_count": 417,
   "id": "c15960da",
   "metadata": {},
   "outputs": [
    {
     "data": {
      "image/png": "[encoded data removed]",
      "text/plain": [
       "<Figure size 640x480 with 1 Axes>"
      ]
     },
     "metadata": {},
     "output_type": "display_data"
    }
   ],
   "source": [
    "xjj, yjj = np.loadtxt(\"data/spectrum_smeared1.txt\", unpack=\"True\")\n",
    "\n",
    "#print(out_net, len(input_test))\n",
    "plt.xlim(0,2.50)\n",
    "plt.plot(x, out_net)\n",
    "#plt.xlim([0,10])\n",
    "#plt.plot(x, out_test)\n",
    "plt.plot(xjj, yjj)#out_test)\n",
    "plt.show()"
   ]
  },
  {
   "cell_type": "code",
   "execution_count": null,
   "id": "6ba8b65f",
   "metadata": {},
   "outputs": [],
   "source": []
  },
  {
   "cell_type": "code",
   "execution_count": null,
   "id": "a2041e9c",
   "metadata": {},
   "outputs": [],
   "source": []
  }
 ],
 "metadata": {
  "kernelspec": {
   "display_name": "Python 3 (ipykernel)",
   "language": "python",
   "name": "python3"
  },
  "language_info": {
   "codemirror_mode": {
    "name": "ipython",
    "version": 3
   },
   "file_extension": ".py",
   "mimetype": "text/x-python",
   "name": "python",
   "nbconvert_exporter": "python",
   "pygments_lexer": "ipython3",
   "version": "3.10.12"
  }
 },
 "nbformat": 4,
 "nbformat_minor": 5
}
