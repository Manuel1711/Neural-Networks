{
 "cells": [
  {
   "cell_type": "code",
   "execution_count": 1,
   "id": "c19ff73f",
   "metadata": {},
   "outputs": [],
   "source": [
    "import numpy as np\n",
    "from tqdm import tqdm\n",
    "from glob import glob\n",
    "from scipy.stats import norm\n",
    "from scipy.special import erf\n",
    "from matplotlib import pyplot as plt\n",
    "import torch\n",
    "from torch.optim import lr_scheduler\n",
    "import torch.nn as nn\n",
    "import torch.optim as optim\n",
    "from torchvision import datasets, transforms"
   ]
  },
  {
   "cell_type": "code",
   "execution_count": 22,
   "id": "b8dca75a",
   "metadata": {},
   "outputs": [],
   "source": [
    "pattern = \"fakedata/*.txt*\"\n",
    "\n",
    "data_files = glob(pattern)\n",
    "\n",
    "#random.shuffle(data_files)\n",
    "\n",
    "tot_max = len(data_files)\n",
    "boot_max = tot_max\n",
    "\n",
    "Ntotdata = len(np.loadtxt(data_files[0], unpack=True))\n",
    "# df = pd.read_csv(data_files[0], header=None, names=['Value'])\n",
    "time_max = 100\n",
    "num_samples = 10000\n",
    "\n",
    "input = np.ndarray(shape = (tot_max, time_max))\n",
    "output = np.ndarray(shape = (tot_max, num_samples))\n",
    "\n",
    "#for ind,file in enumerate(data_files):\n",
    "for ind in range(0,tot_max):\n",
    "    #x_temp = np.loadtxt(file, unpack=True)\n",
    "    x_temp = np.loadtxt(data_files[ind], unpack=True)\n",
    "    input[ind] = x_temp[0:time_max]\n",
    "    output[ind] = x_temp[Ntotdata-num_samples:]\n",
    "    \n",
    "    \n",
    "num_train = boot_max - 1\n",
    "num_test = 1 # boot_max - 1\n",
    "\n",
    "input_train = input[0:num_train,:]\n",
    "input_test = input[num_test,:]\n",
    "\n",
    "\n",
    "out_train = output[0:num_train,:]\n",
    "out_test = output[num_test,:]"
   ]
  },
  {
   "cell_type": "code",
   "execution_count": 21,
   "id": "ed461215",
   "metadata": {},
   "outputs": [
    {
     "name": "stdout",
     "output_type": "stream",
     "text": [
      "\n"
     ]
    }
   ],
   "source": [
    "boot, time, corr = np.loadtxt(\"bootstrap/bootstrap1k_secondofile.dat\", unpack=True)\n",
    "#boot, time, corr = np.loadtxt(\"data/corr.txt\", unpack=True)\n",
    "\n",
    "\n",
    "time_max = int(np.max(time) + 1)\n",
    "boot_max = int(np.max(boot))\n",
    "\n",
    "#num_train = boot_max - 1\n",
    "num_test = int(boot_max/2) #boot_max-1 #boot_max - num_train\n",
    "\n",
    "input = np.ndarray(shape = (boot_max, time_max))\n",
    "for ind, elem in enumerate(input):\n",
    "    auxind = ind * time_max\n",
    "    input[ind] = np.array([corr[ii + auxind] for ii in range(0,time_max)])\n",
    "\n",
    "num_test = 0\n",
    "#input_train = input[0:num_train,:]\n",
    "input_test = input[num_test,:]\n",
    "#print(input_test)\n",
    "    \n",
    "num_samples = 10000\n",
    "x = np.linspace(0, 0.3, num_samples)\n",
    "etaharm = 0.05\n",
    "smear_sigma = 0.01\n",
    "\n",
    "aux_zeta = 0.5 + 0.5 * erf(etaharm/np.sqrt(2)/smear_sigma)\n",
    "\n",
    "pdf = 1./2.**0.5/aux_zeta*norm.pdf(x, loc = etaharm, scale = smear_sigma)\n",
    "\n",
    "pdf2 = 1./2.**(3./2.)/aux_zeta*( norm.pdf(x, loc = etaharm, scale = smear_sigma) + 1./9.*norm.pdf(x, loc = 3*etaharm, scale = smear_sigma) )\n",
    "##plt.plot(x, pdf)\n",
    "##plt.show()\n",
    "\n",
    "#out_train = np.ndarray(shape = (num_train, num_samples))\n",
    "#for ii in range(0, num_train):\n",
    "#    out_train[ii] = 1./2./np.sqrt(np.pi*smear_sigma)*pdf\n",
    "\n",
    "print()"
   ]
  },
  {
   "cell_type": "code",
   "execution_count": 114,
   "id": "3d79ac26",
   "metadata": {},
   "outputs": [],
   "source": [
    "kernel_size1 = 9\n",
    "kernel_size2 = 3\n",
    "\n",
    "channel_ker1 = 64\n",
    "channel_ker2 = 64\n",
    "\n",
    "fin_layer = 256\n",
    "\n",
    "# Define the Residual Block with Layer Normalization\n",
    "class ResidualBlock(nn.Module):\n",
    "    def __init__(self, in_channels, out_channels, stride=1):\n",
    "        super(ResidualBlock, self).__init__()\n",
    "        self.conv1 = nn.Conv1d(in_channels, out_channels, kernel_size1, stride=stride, padding=1)\n",
    "        self.norm1 = nn.LayerNorm(out_channels)\n",
    "        self.relu = nn.ReLU()\n",
    "        self.conv2 = nn.Conv1d(out_channels, out_channels, kernel_size2, stride=1, padding=1)\n",
    "        self.norm2 = nn.LayerNorm(out_channels)\n",
    "        self.shortcut = nn.Sequential()\n",
    "        if stride != 1 or in_channels != out_channels:\n",
    "            self.shortcut = nn.Sequential(\n",
    "                nn.Conv1d(in_channels, out_channels, kernel_size1, stride=stride, padding=1, bias=False),\n",
    "                nn.Conv1d(out_channels, out_channels, kernel_size2, stride=1, padding=1, bias=False),\n",
    "            )\n",
    "\n",
    "    def forward(self, x):\n",
    "        #print(x.shape, 'd1')\n",
    "        out = self.conv1(x)\n",
    "        #print(out.shape, 'd2')\n",
    "        out = self.norm1(out.permute(0, 2, 1)).permute(0, 2, 1)  # Permute for layer normalization\n",
    "        #print(out.shape, 'd')\n",
    "        out = self.relu(out)\n",
    "        out = self.conv2(out)\n",
    "        #print(out.shape)\n",
    "        out = self.norm2(out.permute(0, 2, 1)).permute(0, 2, 1)\n",
    "        #print(out.shape, self.shortcut(x).shape)\n",
    "        #out += self.shortcut(x)\n",
    "        #print(out.shape)\n",
    "        out = self.relu(out)\n",
    "        return out\n",
    "\n",
    "# Define the CNN with Skip Connection, Dropout, and Layer Normalization\n",
    "class SimpleCNNWithSkipDropoutNorm(nn.Module):\n",
    "    def __init__(self, input_size, output_size, dropout_rate=0.2):\n",
    "        super(SimpleCNNWithSkipDropoutNorm, self).__init__()\n",
    "        # Convolutional layers with skip connection and layer normalization\n",
    "        self.conv1 = ResidualBlock(1, channel_ker1)\n",
    "        self.conv2 = ResidualBlock(channel_ker1, channel_ker2)\n",
    "        # Max pooling layer\n",
    "        self.pool = nn.MaxPool2d(kernel_size=2, stride=2, padding=0)\n",
    "        # Fully connected layers with dropout\n",
    "        self.fc1 = nn.Linear(channel_ker2 * (input_size - 2*(kernel_size1 + kernel_size2 - 6)), fin_layer)\n",
    "        self.dropout = nn.Dropout(p=dropout_rate)\n",
    "        self.fc2 = nn.Linear(fin_layer, output_size)  # Assuming 10 classes for classification\n",
    "        # Activation function and layer normalization\n",
    "        self.relu = nn.ReLU()\n",
    "        self.norm_fc = nn.LayerNorm(fin_layer)\n",
    "\n",
    "    def forward(self, x):\n",
    "        #print(x.shape)\n",
    "        x = self.conv1(x)\n",
    "        #print(x.shape, 'afterRB1')\n",
    "        x = self.conv2(x)\n",
    "        #print(x.shape, 'afterRB2')\n",
    "        #x = x.view(-1, 32 * 16 * 16)  # Reshape for fully connected layer\n",
    "        x = x.reshape(1, 1, -1) #x.view(x.size(0), -1)\n",
    "        #print(x.shape, 'afterLine')\n",
    "        x = self.relu(self.norm_fc(self.fc1(x)))\n",
    "        x = self.dropout(x)\n",
    "        x = self.fc2(x)\n",
    "        return x"
   ]
  },
  {
   "cell_type": "markdown",
   "id": "f1a0d457",
   "metadata": {},
   "source": [
    "### CNN alternative code 1"
   ]
  },
  {
   "cell_type": "code",
   "execution_count": 25,
   "id": "6f707d27",
   "metadata": {},
   "outputs": [],
   "source": [
    "kernel_size1 = 3\n",
    "kernel_size2 = 3\n",
    "\n",
    "channel_ker1 = 32\n",
    "channel_ker2 = 64\n",
    "\n",
    "pool_kernel = 2\n",
    "\n",
    "fin_layer = 512\n",
    "\n",
    "class SimpleCNNWithSkipDropoutNorm(nn.Module):\n",
    "    def __init__(self, input_size, output_size):\n",
    "        super().__init__()\n",
    "        self.conv1 = nn.Conv1d(1, channel_ker1, kernel_size=kernel_size1, stride=1, padding=1)\n",
    "        self.act1 = nn.ReLU()\n",
    "        self.drop1 = nn.Dropout(0.3)\n",
    " \n",
    "        self.conv2 = nn.Conv1d(channel_ker1, channel_ker2, kernel_size=kernel_size2, stride=1, padding=1)\n",
    "        self.act2 = nn.ReLU()\n",
    "        self.pool2 = nn.MaxPool1d(kernel_size=pool_kernel)\n",
    " \n",
    "        self.flat = nn.Flatten()\n",
    " \n",
    "        self.fc3 = nn.Linear(int(channel_ker2*(input_size - (kernel_size1 + kernel_size2 - 6))/pool_kernel), fin_layer)\n",
    "        self.act3 = nn.ReLU()\n",
    "        self.drop3 = nn.Dropout(0.5)\n",
    " \n",
    "        self.fc4 = nn.Linear(fin_layer, output_size)\n",
    " \n",
    "    def forward(self, x):\n",
    "        # input 3x32x32, output 32x32x32\n",
    "        x = self.act1(self.conv1(x))\n",
    "        x = self.drop1(x)\n",
    "        # input 32x32x32, output 32x32x32\n",
    "        x = self.act2(self.conv2(x))\n",
    "        # input 32x32x32, output 32x16x16\n",
    "        x = self.pool2(x)\n",
    "        # input 32x16x16, output 8192\n",
    "        x = self.flat(x)\n",
    "        # input 8192, output 512\n",
    "        x = self.act3(self.fc3(x))\n",
    "        x = self.drop3(x)\n",
    "        # input 512, output 10\n",
    "        x = self.fc4(x)\n",
    "        return x"
   ]
  },
  {
   "cell_type": "markdown",
   "id": "d311cf2f",
   "metadata": {},
   "source": [
    "### CNN alternative code 2"
   ]
  },
  {
   "cell_type": "code",
   "execution_count": 104,
   "id": "a88c24b6",
   "metadata": {},
   "outputs": [],
   "source": [
    "kernel_size_1 = 3\n",
    "stride_size = 1\n",
    "kernel_size_2 = 3\n",
    "depth = 32\n",
    "num_hidden = 64\n",
    "\n",
    "\n",
    "class  SimpleCNNWithSkipDropoutNorm(nn.Module):\n",
    "    def __init__(self, input_size, output_size, dropout_rate=0.2):\n",
    "        super(SimpleCNNWithSkipDropoutNorm, self).__init__()\n",
    "\n",
    "        self.conv1 = nn.Sequential(\n",
    "            nn.Conv1d(1, depth, kernel_size=kernel_size_1, stride=stride_size),\n",
    "            nn.ReLU(),\n",
    "            nn.MaxPool1d(kernel_size=kernel_size_1, stride=stride_size),\n",
    "            nn.Dropout(dropout_rate),\n",
    "        )\n",
    "\n",
    "        self.conv2 = nn.Sequential(\n",
    "            nn.Conv1d(depth, depth, kernel_size=kernel_size_2, stride=stride_size),\n",
    "            nn.ReLU(),\n",
    "            nn.MaxPool1d(kernel_size=kernel_size_2, stride=stride_size),\n",
    "            nn.Dropout(dropout_rate)\n",
    "        )            \n",
    "\n",
    "\n",
    "        self.fc1 = nn.Sequential(\n",
    "            nn.Linear(depth*(input_size - 2*kernel_size_2 - 2*kernel_size_1 + 4), num_hidden),\n",
    "            nn.ReLU(),\n",
    "            nn.Dropout(0.5)\n",
    "        )\n",
    "\n",
    "        self.fc2 = nn.Sequential(\n",
    "            nn.Linear(num_hidden, output_size),\n",
    "            #nn.ReLU(),\n",
    "            nn.Dropout(0.5)\n",
    "        )\n",
    "\n",
    "\n",
    "\n",
    "    def forward(self, x):\n",
    "        out = self.conv1(x)\n",
    "        #print(out.shape, x.shape)\n",
    "        out = self.conv2(out)\n",
    "        #print(out.shape)\n",
    "        # collapse\n",
    "        out = out.view(out.size(0), -1)\n",
    "        #print(out.shape)\n",
    "        # linear layer\n",
    "        out = self.fc1(out)\n",
    "        # output layer\n",
    "        out = self.fc2(out)\n",
    "        #out = self.log_softmax(x,dim=1)\n",
    "\n",
    "        return out"
   ]
  },
  {
   "cell_type": "code",
   "execution_count": 41,
   "id": "980a2d74",
   "metadata": {},
   "outputs": [],
   "source": [
    "learning_rate = 0.001\n",
    "input_size = time_max\n",
    "output_size = num_samples"
   ]
  },
  {
   "cell_type": "code",
   "execution_count": 46,
   "id": "353863f2",
   "metadata": {},
   "outputs": [
    {
     "name": "stderr",
     "output_type": "stream",
     "text": [
      "Progress: 100%|█████████████████████████████████████████████████| 1000/1000 [00:28<00:00, 35.47it/s]\n",
      "Progress: 100%|█████████████████████████████████████████████████| 1000/1000 [00:29<00:00, 34.13it/s]\n",
      "Progress: 100%|█████████████████████████████████████████████████| 1000/1000 [00:31<00:00, 31.56it/s]\n"
     ]
    }
   ],
   "source": [
    "loss_fun=nn.MSELoss() #nn.MSELoss() nn.CrossEntropyLoss() \n",
    "\n",
    "\n",
    "rete=SimpleCNNWithSkipDropoutNorm(input_size, output_size)\n",
    "\n",
    "losses = []\n",
    "n_discr = int(num_train/1)\n",
    "dstep = int((num_train-1)/n_discr + 1)\n",
    "\n",
    "optimizer = torch.optim.Adam(rete.parameters(), lr=learning_rate)\n",
    "#optimizer = torch.optim.SGD(rete.parameters(), lr=learning_rate, momentum=0.9)\n",
    "scheduler = lr_scheduler.StepLR(optimizer, step_size=500, gamma=0.1)\n",
    "\n",
    "for j in range(3):\n",
    "    #for i in range(0,n_discr):\n",
    "    for i in tqdm(range(n_discr), desc=\"Progress\", ncols=100):\n",
    "        #optimizer = torch.optim.Adam(rete.parameters(), lr=0.01)\n",
    "        in_train = torch.tensor(input_train[i*dstep:(i+1)*dstep,:])\n",
    "        in_train = in_train.float().unsqueeze(0)\n",
    "        #print(in_train.shape)\n",
    "        #in_train = in_train.squeeze()\n",
    "        #input_train = input_train.reshape((dstep, len(phi_train[0,:])))\n",
    "        #print(input_train)\n",
    "        #p = torch.randn((100,2))*10\n",
    "        target = torch.tensor(out_train[i*dstep:(i+1)*dstep,:])\n",
    "        target = target.float()\n",
    "        ######attention\n",
    "        #target = target.unsqueeze(0)\n",
    "        ######\n",
    "        #target = target.squeeze()\n",
    "        #target = target.unsqueeze(1)\n",
    "        #target = torch.tensor([2.0])\n",
    "        result=rete(in_train)\n",
    "        #print(target.shape)\n",
    "        #print(result.shape)\n",
    "        exit\n",
    "        #print(target, result)\n",
    "        loss=loss_fun(target, result)\n",
    "        losses.append(loss.item())\n",
    "        optimizer.zero_grad()\n",
    "        #for name, param in rete.named_parameters():\n",
    "        #    print(f\"Parameter name: {name}\")\n",
    "        #    print(f\"Parameter value: {param}\")\n",
    "        #    print(\"-------------\")\n",
    "        loss.backward()\n",
    "        optimizer.step()\n",
    "        #scheduler.step()\n",
    "        #for name, param in rete.named_parameters():\n",
    "        #    print(f\"Parameter name: {name}\")\n",
    "        #    print(f\"Parameter value: {param}\")\n",
    "        #    print(\"-------------\")\n",
    "        #sys.exit()\n",
    "        #print(loss)\n",
    "        #for p in rete.parameters():\n",
    "        #    p.data.sub_(0.001*p.grad)\n",
    "\n",
    "        #rete.zero_grad()"
   ]
  },
  {
   "cell_type": "code",
   "execution_count": 47,
   "id": "d21e5f5a",
   "metadata": {},
   "outputs": [
    {
     "data": {
      "text/plain": [
       "[<matplotlib.lines.Line2D at 0x7f93a55f1480>]"
      ]
     },
     "execution_count": 47,
     "metadata": {},
     "output_type": "execute_result"
    },
    {
     "data": {
      "image/png": "[encoded data removed]",
      "text/plain": [
       "<Figure size 640x480 with 1 Axes>"
      ]
     },
     "metadata": {},
     "output_type": "display_data"
    }
   ],
   "source": [
    "plt.plot(losses)"
   ]
  },
  {
   "cell_type": "code",
   "execution_count": 37,
   "id": "5f2db166",
   "metadata": {},
   "outputs": [
    {
     "name": "stdout",
     "output_type": "stream",
     "text": [
      "boot_max = 1001\n",
      "tensor([51.7068, 51.9038, 51.9792,  ..., 21.7917, 21.7329, 21.6285],\n",
      "       dtype=torch.float64)\n"
     ]
    }
   ],
   "source": [
    "print(f\"boot_max = {boot_max}\")\n",
    "\n",
    "mean_out_test = torch.tensor(np.zeros(len(out_test)))\n",
    "err_out_test = torch.tensor(np.zeros(len(out_test)))\n",
    "\n",
    "#n_discr = num_test\n",
    "#dstep = int((num_test-1)/n_discr + 1)\n",
    "#boot_max = 4\n",
    "for test_num in range(boot_max):\n",
    "    #input_train = input[0:num_train,:]\n",
    "    input_test = input[test_num,:]\n",
    "    in_test = torch.tensor(input_test)\n",
    "    in_test = in_test.float().unsqueeze(0).unsqueeze(0)\n",
    "    #print(in_test.shape)\n",
    "\n",
    "    rete.eval()\n",
    "\n",
    "    with torch.no_grad():\n",
    "        out_net = rete(in_test)\n",
    "        \n",
    "    out_net = out_net.squeeze()\n",
    "\n",
    "    mean_out_test += out_net\n",
    "    err_out_test += torch.square(out_net)\n",
    "\n",
    "\n",
    "mean_out_test = mean_out_test / float(boot_max)\n",
    "err_out_test = torch.sqrt((err_out_test- float(boot_max)*torch.square(mean_out_test))/ (float(boot_max)-1.))\n",
    "#out_net = distribNTKgp(input_test, input_train, out_train, eta, n_layer, sigma_w, sigma_b, n0)\n",
    "\n",
    "print(err_out_test)"
   ]
  },
  {
   "cell_type": "code",
   "execution_count": 48,
   "id": "24c39e4e",
   "metadata": {},
   "outputs": [],
   "source": [
    "in_test = torch.tensor(input_test)\n",
    "in_test = in_test.float().unsqueeze(0).unsqueeze(0)\n",
    "#print(in_test.shape)\n",
    "\n",
    "rete.eval()\n",
    "\n",
    "with torch.no_grad():\n",
    "    out_net = rete(in_test)\n",
    "\n",
    "out_net = out_net.squeeze()"
   ]
  },
  {
   "cell_type": "code",
   "execution_count": 49,
   "id": "54abc2b3",
   "metadata": {},
   "outputs": [
    {
     "data": {
      "image/png": "[encoded data removed]",
      "text/plain": [
       "<Figure size 640x480 with 1 Axes>"
      ]
     },
     "metadata": {},
     "output_type": "display_data"
    }
   ],
   "source": [
    "#xjj, yjj = np.loadtxt(\"data/spectrum_smeared1.txt\", unpack=\"True\")\n",
    "\n",
    "#print(out_net, len(input_test))\n",
    "#plt.xlim(0,0.3)\n",
    "selected_indices = np.arange(0, len(x), 10)\n",
    "selected_x = x[selected_indices]\n",
    "#selected_mean = mean_out_test[selected_indices]\n",
    "#selected_errors = err_out_test[selected_indices]\n",
    "\n",
    "plt.plot(x, out_net)\n",
    "#plt.plot(x, mean_out_test)\n",
    "#plt.errorbar(selected_x, selected_mean, yerr=selected_errors, fmt='.', markersize=3, capsize=1, elinewidth=1)\n",
    "#plt.xlim([0,10])\n",
    "plt.plot(x, out_test)\n",
    "#plt.plot(x, pdf2)\n",
    "#plt.plot(xjj, yjj)#out_test)\n",
    "plt.show()"
   ]
  },
  {
   "cell_type": "code",
   "execution_count": 24,
   "id": "6db9fa56",
   "metadata": {},
   "outputs": [
    {
     "name": "stdout",
     "output_type": "stream",
     "text": [
      "Downloading https://www.cs.toronto.edu/~kriz/cifar-10-python.tar.gz to ./data/cifar-10-python.tar.gz\n"
     ]
    },
    {
     "name": "stderr",
     "output_type": "stream",
     "text": [
      "100%|██████████| 170498071/170498071 [00:08<00:00, 20455608.25it/s]\n"
     ]
    },
    {
     "name": "stdout",
     "output_type": "stream",
     "text": [
      "Extracting ./data/cifar-10-python.tar.gz to ./data\n"
     ]
    },
    {
     "ename": "TypeError",
     "evalue": "SimpleCNNWithSkipDropoutNorm.__init__() missing 2 required positional arguments: 'input_size' and 'output_size'",
     "output_type": "error",
     "traceback": [
      "\u001b[0;31m---------------------------------------------------------------------------\u001b[0m",
      "\u001b[0;31mTypeError\u001b[0m                                 Traceback (most recent call last)",
      "Cell \u001b[0;32mIn[24], line 7\u001b[0m\n\u001b[1;32m      4\u001b[0m train_loader \u001b[38;5;241m=\u001b[39m torch\u001b[38;5;241m.\u001b[39mutils\u001b[38;5;241m.\u001b[39mdata\u001b[38;5;241m.\u001b[39mDataLoader(train_dataset, batch_size\u001b[38;5;241m=\u001b[39m\u001b[38;5;241m64\u001b[39m, shuffle\u001b[38;5;241m=\u001b[39m\u001b[38;5;28;01mTrue\u001b[39;00m)\n\u001b[1;32m      6\u001b[0m \u001b[38;5;66;03m# Instantiate the model with skip connection, dropout, and layer normalization\u001b[39;00m\n\u001b[0;32m----> 7\u001b[0m cnn_model_with_skip_dropout_norm \u001b[38;5;241m=\u001b[39m \u001b[43mSimpleCNNWithSkipDropoutNorm\u001b[49m\u001b[43m(\u001b[49m\u001b[43m)\u001b[49m\n\u001b[1;32m      9\u001b[0m \u001b[38;5;66;03m# Define the loss function and optimizer\u001b[39;00m\n\u001b[1;32m     10\u001b[0m criterion \u001b[38;5;241m=\u001b[39m nn\u001b[38;5;241m.\u001b[39mCrossEntropyLoss()\n",
      "\u001b[0;31mTypeError\u001b[0m: SimpleCNNWithSkipDropoutNorm.__init__() missing 2 required positional arguments: 'input_size' and 'output_size'"
     ]
    }
   ],
   "source": [
    "# Load CIFAR-10 dataset\n",
    "#transform = transforms.Compose([transforms.ToTensor(), transforms.Normalize((0.5, 0.5, 0.5), (0.5, 0.5, 0.5))])\n",
    "#train_dataset = datasets.CIFAR10(root='./data', train=True, download=True, transform=transform)\n",
    "#train_loader = torch.utils.data.DataLoader(train_dataset, batch_size=64, shuffle=True)\n",
    "\n",
    "# Instantiate the model with skip connection, dropout, and layer normalization\n",
    "cnn_model_with_skip_dropout_norm = SimpleCNNWithSkipDropoutNorm()\n",
    "\n",
    "# Define the loss function and optimizer\n",
    "criterion = nn.CrossEntropyLoss()\n",
    "optimizer = optim.Adam(cnn_model_with_skip_dropout_norm.parameters(), lr=0.001)\n",
    "\n",
    "# Training loop\n",
    "num_epochs = 5\n",
    "for epoch in range(num_epochs):\n",
    "    running_loss = 0.0\n",
    "    for i, data in enumerate(train_loader, 0):\n",
    "        inputs, labels = data\n",
    "        optimizer.zero_grad()\n",
    "\n",
    "        # Forward pass\n",
    "        outputs = icnn_model_with_skip_dropout_norm(inputs)\n",
    "        loss = criterion(outputs, labels)\n",
    "\n",
    "        # Backward pass and optimization\n",
    "        loss.backward()\n",
    "        optimizer.step()\n",
    "\n",
    "        running_loss += loss.item()\n",
    "\n",
    "        # Print statistics every 1000 batches\n",
    "        if i % 1000 == 999:\n",
    "            print('[%d, %5d] loss: %.3f' %\n",
    "                  (epoch + 1, i + 1, running_loss / 1000))\n",
    "            running_loss = 0.0\n",
    "\n",
    "print('Finished Training')"
   ]
  },
  {
   "cell_type": "code",
   "execution_count": null,
   "id": "ad23501e",
   "metadata": {},
   "outputs": [],
   "source": [
    "# Define a sample input (assuming 3 channels and 32x32 image size)\n",
    "sample_input = torch.randn((1, 3, 32, 32))\n",
    "\n",
    "# Forward pass\n",
    "output = cnn_model_with_skip_dropout_norm(sample_input)\n",
    "print(\"Model output shape with skip connection:\", output.shape)"
   ]
  }
 ],
 "metadata": {
  "kernelspec": {
   "display_name": "Python 3 (ipykernel)",
   "language": "python",
   "name": "python3"
  },
  "language_info": {
   "codemirror_mode": {
    "name": "ipython",
    "version": 3
   },
   "file_extension": ".py",
   "mimetype": "text/x-python",
   "name": "python",
   "nbconvert_exporter": "python",
   "pygments_lexer": "ipython3",
   "version": "3.10.12"
  }
 },
 "nbformat": 4,
 "nbformat_minor": 5
}
