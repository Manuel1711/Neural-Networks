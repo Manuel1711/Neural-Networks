{
 "cells": [
  {
   "cell_type": "markdown",
   "id": "69b1b7ed",
   "metadata": {},
   "source": [
    "<span style=\"color:red; font-size:30px;\"> The aim of this short code is to demonstrate that in the limit of very large size of a neural network the output distribution of data is Gaussian.</span>\n",
    "\n",
    "We use a very simple forward NN with a single hidden layer.\n",
    "\n",
    "If we use as input gaussian distributions with Mu=0 and STD=1 and we define the STD of the output layer as STD/hidden_size, then the minimum number of necessary neurons to have a final gaussian distribution is 3 (hidden_size = 3).\n",
    "\n",
    "Via continuous time gradient descent, the evolution of the parameters $\\theta$ and the logits $f$ can be written as\n",
    "\n",
    "$\\dot{\\theta}_t  = -\\eta \\nabla_\\theta f_t(\\mathcal{X})^T \\nabla_{f_t(\\mathcal{X})}\\mathcal{L}$,\n",
    "\n",
    "$\\dot{f}_t(\\mathcal{X}) = \\nabla_\\theta f_t(\\mathcal{X})\\dot{\\theta}_t = -\\eta \\hat{\\Theta}_t(\\mathcal{X},\\mathcal{X}) \\nabla_{f_t(\\mathcal{X})}\\mathcal{L}$.\n",
    "\n",
    "Here, the quantity $\\nabla_\\theta f_t(\\mathcal{X})$ is the gradient of the output of the NN in the space of the parameters. This quantity will have indices in the spaces of the parameters, of the number of inputs and possibly in the space of the repetitions of the initialization of the parameters from the gaussian distribution. \n",
    "\n",
    "$ \\bigg[ \\nabla_{[\\theta^\\ell]_{i_{init}}} f_t(\\mathcal{X_{n}}) \\bigg] = \\bigg[ \\nabla_\\theta f_t(\\mathcal{X}) \\bigg]_{\\ell, n}^{i_{init}}$ where  $i_{init} = 1, ..., N_{boot}$,  $\\ell = 1, ...,   L_{pars}$, $n = 1, ..., N_{in}$.\n",
    "\n",
    "Indeed the index $n$ goes on number of data, the index $\\ell$ goes on the number of parameters and $i_{init}$ goes on the different initializations of the parameters."
   ]
  },
  {
   "cell_type": "code",
   "execution_count": 10,
   "id": "90666082",
   "metadata": {},
   "outputs": [],
   "source": [
    "import tensorflow as tf\n",
    "import tensorflow_probability as tfp\n",
    "import matplotlib.pyplot as plt\n",
    "import numpy as np\n",
    "from scipy.stats import normaltest\n",
    "from scipy.stats import norm\n",
    "from scipy.optimize import curve_fit\n",
    "import math"
   ]
  },
  {
   "cell_type": "markdown",
   "id": "e2fa50c9",
   "metadata": {},
   "source": [
    "=======================================================================================\n",
    "\n",
    "\n",
    "<span style=\"color:blue; font-size:30px;\"> Functions Definition </span>\n",
    "\n",
    "\n",
    "$\\bullet$ <span style=\"color:black; font-size:15px;\"> $\\textit{inizialization}$ </span> : it builds the initialization of the weights and the biases of the NN. The inputs for the function are the size of the input of the NN, the size of the hidden layer, i.e. the number of neurons (we are considering that all the hidden layers have the same number of neurons), the mean and the sigma of the Gaussian distribution from which we extract the values and finally the number of layers;\n",
    "\n",
    "$\\bullet$ <span style=\"color:black; font-size:15px;\"> $\\textit{forward}$ </span> : it defines the architecture of the NN and it computes the gradients of the output of the NN with respect the parameters of the weights and the biases;\n",
    "\n",
    "$\\bullet$ <span style=\"color:black; font-size:15px;\"> $\\textit{bootobj_extr}$ </span> : it extracts from the list a one parameter to plot the input histogram on the bootstrap events;\n",
    "\n",
    "\n",
    "$\\bullet$ <span style=\"color:black; font-size:15px;\"> $\\textit{data_law}$ </span> : it defines the law that we want to reconstruct;\n",
    "\n",
    "\n",
    "$\\bullet$ <span style=\"color:black; font-size:15px;\"> $\\textit{mean}$ </span> : it performs the bootstrap mean;\n",
    "\n",
    "\n",
    "$\\bullet$ <span style=\"color:black; font-size:15px;\"> $\\textit{std_dev}$ </span> : it performs the bootstrap std.\n",
    "\n",
    "\n",
    "======================================================================================="
   ]
  },
  {
   "cell_type": "code",
   "execution_count": 102,
   "id": "7309caf8",
   "metadata": {},
   "outputs": [],
   "source": [
    "# Initialization of weights and bias with a normal distribution\n",
    "def initialization(input_size_, hidden_size_, Mu_, STD_, nl):\n",
    "    bname = 'b{}'.format(nl)\n",
    "    Wname = 'W{}'.format(nl)\n",
    "    WR = tf.Variable(tf.random.normal([input_size_, hidden_size_], mean=Mu_, stddev=STD_), name=Wname)\n",
    "    BR = tf.Variable(tf.random.normal([hidden_size_], mean=Mu_, stddev=STD_), name=bname)\n",
    "    return WR,BR\n",
    "\n",
    "# Define the forward function to compute the output of the neural network\n",
    "def forward(X, i, activation, depth_):\n",
    "    with tf.GradientTape() as tape:\n",
    "        tape.watch([param for param in [Ws[i, j] for j in range(depth_)] + [Bs[i, j] for j in range(depth_)]])\n",
    "        \n",
    "        A = X\n",
    "        for j in range(depth_):\n",
    "            Z = tf.add(tf.matmul(A, Ws[i, j]), Bs[i, j])\n",
    "            A = activation(Z)\n",
    "            \n",
    "        Z_last = Z\n",
    "    \n",
    "    gradients = tape.gradient(Z_last, [Ws[i, j] for j in range(depth_)] + [Bs[i, j] for j in range(depth_)])\n",
    "    return Z_last, gradients\n",
    "\n",
    "\n",
    "def bootobj_extr(layer_, el1_, el2_):\n",
    "    A = np.zeros(Nboot)\n",
    "    B = np.zeros(Nboot)\n",
    "    for i in range(Nboot):\n",
    "        matrW = Ws[i, layer_]\n",
    "        A[i] = matrW[el1_, el2_]\n",
    "        vecB = Bs[i,layer_]\n",
    "        B[i] = vecB[el1_]\n",
    "    return A,B\n",
    "\n",
    "#Chosen law for the test of the NN\n",
    "def data_law(x_):\n",
    "    return np.sin(np.squeeze(x_))\n",
    "\n",
    "#Bootstrap Mean and Sigma\n",
    "def mean(arr):\n",
    "    return sum(arr)/len(arr)\n",
    "def std_dev(arr):\n",
    "    arr_mean = mean(arr)\n",
    "    return (sum([(i - arr_mean)**2 for i in arr]) / (len(arr)-1))**0.5"
   ]
  },
  {
   "cell_type": "markdown",
   "id": "ee890240",
   "metadata": {},
   "source": [
    "=======================================================================================\n",
    "\n",
    "\n",
    "<span style=\"color:blue; font-size:30px;\"> NN output computation </span>\n",
    "\n",
    "In this part of the code we define the dimension of the NN and the input parameters.Then, given a training input and a test input we compute the output of the NN at the initialization. We also extract the gradient in both cases. These gradients are necessary to compute the $\\Theta$s later in the code.\n",
    "\n",
    "If we call:\n",
    "\n",
    "$\\bullet N_0$: the input size;\n",
    "\n",
    "$\\bullet N_\\ell$ with $\\ell \\in [1,L]$: the number of neurons for the $\\ell$ hidden layer;\n",
    "\n",
    "$\\bullet N_{L+1}$: the number of output neurons;\n",
    "\n",
    "the number of parameters of the NN will be\n",
    "\n",
    "$N_{tot} = (N_0\\times N_1 + N_1) + (N_1\\times N_2 + N_2) + (N_2\\times N_3 + N_3) + ... + (N_{L}\\times N_{L+1} + N_{L+1}) =\\sum_{i=1}^{L+1} (N_{i-1}\\times N_{i} + N_{i})$\n",
    "\n",
    "\n",
    "where the $L+1$ layer is the output layer.\n",
    "\n",
    "If we have a NN with a monodimensional input $N_0=1$ and a monodimensional output $N_{L+1}=1$ and 3 hidden layers having 3 neurons each, $N_\\ell = 3$ for $\\ell \\in [1,L]$, then the number of parameters will be\n",
    "\n",
    "$N_{tot} = (1\\times 3 + 3) + (3\\times 3 + 3)\\times 2 + (3\\times 1 + 1) = 34$.\n",
    "\n",
    "Of course the gradient will be a vector of that dimension. If we have $S$ inputs the it will become a matrix $S \\times N_{tot}$.\n",
    "\n",
    "======================================================================================="
   ]
  },
  {
   "cell_type": "code",
   "execution_count": 18,
   "id": "ee522c07",
   "metadata": {},
   "outputs": [
    {
     "name": "stdout",
     "output_type": "stream",
     "text": [
      "The structure of the NN is:  [1 3 3 3 1]\n",
      "The number of parameters is:  34\n",
      "The number of initializations is:  100\n",
      "The number of input quantities is:  2\n",
      "The dimensions of the training and test data matrix are respectively (Nin, Nboot):  (2, 100) (2, 100)\n",
      "The dimensions of the training gradient and test are respectively (Nin, Nboot, Lpar):  (2, 100, 34) (2, 100, 34)\n"
     ]
    }
   ],
   "source": [
    "# Define the dimensions of the NN\n",
    "input_size = 1\n",
    "hidden_size = 3\n",
    "output_size = 1\n",
    "depth = 4 #the depth also contains the output layer\n",
    "Nboot = 100\n",
    "lsizes = np.concatenate(([input_size], np.repeat(hidden_size, depth-1), [output_size]))\n",
    "print('The structure of the NN is: ',lsizes)\n",
    "\n",
    "Lpar = input_size*hidden_size + (depth-2)*hidden_size**2 + (depth-1)*hidden_size + hidden_size*output_size + output_size\n",
    "\n",
    "print('The number of parameters is: ',Lpar)\n",
    "print('The number of initializations is: ',Nboot)\n",
    "\n",
    "\n",
    "#Define parameters of the Gaussian distribution\n",
    "STD = 0.08\n",
    "Mu = 0.5\n",
    "\n",
    "\n",
    "#Weights and biases generation\n",
    "Ws = np.empty((Nboot, depth), dtype=object)  \n",
    "Bs = np.empty((Nboot, depth), dtype=object)\n",
    "for i in range(Nboot):\n",
    "    for l in range(depth):\n",
    "        Ws[i, l], Bs[i, l] = initialization(lsizes[l], lsizes[l+1], Mu, STD / lsizes[l], l)\n",
    "    \n",
    "# Input quantities\n",
    "Nin = 2\n",
    "X = tf.random.uniform(shape=(Nin,1,1), minval=1, maxval=200, dtype=tf.float32)\n",
    "xtest = tf.random.uniform(shape=(Nin,1,1), minval=1, maxval=200, dtype=tf.float32)\n",
    "    \n",
    "print('The number of input quantities is: ', Nin)\n",
    "    \n",
    "# We compute the output for each event for an input\n",
    "output_array = []\n",
    "output_array_test = []\n",
    "grads_array = np.array([])\n",
    "grads_array_test = np.array([])    \n",
    "for k in range(Nin):\n",
    "    for i in range (0, Nboot):\n",
    "        \n",
    "        Y, Grad = forward(X[k],i,tf.nn.relu, depth)\n",
    "        Y_test, Grad_test = forward(xtest[k],i,tf.nn.relu, depth)\n",
    "        output_array.append(Y.numpy()[0][0])\n",
    "        output_array_test.append(Y_test.numpy()[0][0])\n",
    "        \n",
    "        # Flattening e concatenation of derivatives for training and test\n",
    "        grads_np = np.concatenate([g.numpy().flatten() for g in Grad])  \n",
    "        grads_test_np = np.concatenate([g.numpy().flatten() for g in Grad_test])  \n",
    "        grads_array = np.vstack([grads_array, grads_np]) if grads_array.size else grads_np\n",
    "        grads_array_test = np.vstack([grads_array_test, grads_test_np]) if grads_array_test.size else grads_test_np \n",
    "\n",
    "\n",
    "output_array = np.array(output_array).reshape((Nin,Nboot))\n",
    "output_array_test =  np.array(output_array_test).reshape((Nin,Nboot))\n",
    "grads_array = grads_array.reshape((Nin,Nboot,int(grads_array[0,:].shape[0]))) \n",
    "grads_array_test = grads_array_test.reshape((Nin,Nboot,int(grads_array_test[0,:].shape[0]))) \n",
    "\n",
    "print('The dimensions of the training and test data matrix are respectively (Nin, Nboot): ', output_array.shape, output_array.shape)\n",
    "print('The dimensions of the training gradient and test are respectively (Nin, Nboot, Lpar): ', grads_array.shape, grads_array_test.shape)"
   ]
  },
  {
   "cell_type": "markdown",
   "id": "ecf0e61c",
   "metadata": {},
   "source": [
    "=======================================================================================\n",
    "\n",
    "\n",
    "<span style=\"color:blue; font-size:30px;\"> Input distributions histograms</span>\n",
    "\n",
    "\n",
    "We check the input distribution of weights and biases.\n",
    "\n",
    "=======================================================================================\n"
   ]
  },
  {
   "cell_type": "code",
   "execution_count": 4,
   "id": "a6fa22f3",
   "metadata": {},
   "outputs": [
    {
     "data": {
      "image/png": "[encoded data removed]",
      "text/plain": [
       "<Figure size 640x480 with 1 Axes>"
      ]
     },
     "metadata": {},
     "output_type": "display_data"
    },
    {
     "name": "stdout",
     "output_type": "stream",
     "text": [
      "Data follow a gaussian distribution.\n"
     ]
    },
    {
     "data": {
      "image/png": "[encoded data removed]",
      "text/plain": [
       "<Figure size 640x480 with 1 Axes>"
      ]
     },
     "metadata": {},
     "output_type": "display_data"
    },
    {
     "data": {
      "text/plain": [
       "<Figure size 640x480 with 0 Axes>"
      ]
     },
     "metadata": {},
     "output_type": "display_data"
    }
   ],
   "source": [
    "Whist, Bhist = bootobj_extr(1,1,1)\n",
    "\n",
    "\n",
    "# Print the input distributions of the weights and bias\n",
    "plt.hist(Bhist, bins=100)\n",
    "plt.xlabel('b1')\n",
    "plt.ylabel('Frequency')\n",
    "plt.title('Bias 1 input distribution')\n",
    "plt.savefig('Bias1.png')\n",
    "plt.show()\n",
    "\n",
    "# Test of the gaussianity\n",
    "stat, p = normaltest(Bhist)\n",
    "\n",
    "# Print the result of the test\n",
    "if p < 0.05:\n",
    "    print(\"Data don't follow a gaussian distribution.\")\n",
    "else:\n",
    "    print(\"Data follow a gaussian distribution.\")\n",
    "\n",
    "plt.clf()\n",
    "\n",
    "\n",
    "plt.hist(Whist, bins=100)\n",
    "plt.xlabel('W1')\n",
    "plt.ylabel('Frequency')\n",
    "plt.title('Weight 1 input distribution')\n",
    "plt.show()\n",
    "\n",
    "plt.clf()"
   ]
  },
  {
   "cell_type": "markdown",
   "id": "547bd91a",
   "metadata": {},
   "source": [
    "=======================================================================================\n",
    "\n",
    "\n",
    "<span style=\"color:blue; font-size:30px;\"> Output distribution histogram</span>\n",
    "\n",
    "\n",
    "We study the output distribution.\n",
    "\n",
    "\n",
    "======================================================================================="
   ]
  },
  {
   "cell_type": "code",
   "execution_count": 5,
   "id": "5141a2ba",
   "metadata": {},
   "outputs": [
    {
     "name": "stdout",
     "output_type": "stream",
     "text": [
      "Gaussian distribution.\n"
     ]
    },
    {
     "data": {
      "image/png": "[encoded data removed]",
      "text/plain": [
       "<Figure size 640x480 with 1 Axes>"
      ]
     },
     "metadata": {},
     "output_type": "display_data"
    },
    {
     "name": "stdout",
     "output_type": "stream",
     "text": [
      "Mean: 152.62520654940724\n",
      "Standard deviation: -20.43025060966963\n",
      "Amplitude: 1.5069697796613093\n"
     ]
    }
   ],
   "source": [
    "# Test of the gaussianity\n",
    "stat, p = normaltest(output_array[0])\n",
    "\n",
    "# Print the result of the test\n",
    "if p < 0.05:\n",
    "    string = \"No gaussian distribution.\" \n",
    "    print(string)\n",
    "else:\n",
    "    string = \"Gaussian distribution.\"\n",
    "    print(string)\n",
    "\n",
    "# Take parameters of our histogram\n",
    "counts, bins, _ = plt.hist(output_array[0], bins=100)\n",
    "\n",
    "ylim = max(counts)-10\n",
    "xlim = min(bins)\n",
    "xlim2 = max(bins)\n",
    "\n",
    "# Define the Gaussian function\n",
    "def gaussian(x, mu, sigma, A):\n",
    "    return A * np.exp(-(x - mu)**2 / (2 * sigma**2))\n",
    "\n",
    "\n",
    "# Plot the histogram and the fitted Gaussian function\n",
    "plt.clf()\n",
    "x = np.linspace(xlim, xlim2, 1000)\n",
    "plt.hist(output_array[0], bins=100, color ='blue')\n",
    "plt.xlabel('Output')\n",
    "plt.ylabel('Frequency')\n",
    "plt.suptitle('Output distribution and gaussian fit')\n",
    "plt.title('p='+ str(p))\n",
    "p0 = [(xlim+xlim2)/2, xlim2-xlim, 1]\n",
    "coeff, var_matrix = curve_fit(gaussian, bins[:-1], counts, p0=p0)\n",
    "plt.plot(x, gaussian(x, *coeff), 'r--', label='fit')    \n",
    "    \n",
    "#plt.text(xlim-3, ylim, 'L='+ str(hidden_size), fontsize=18)\n",
    "#plt.text(xlim-3, ylim, string, fontsize=8)\n",
    "plt.savefig('Output.png')\n",
    "plt.show()\n",
    "\n",
    "# Print gaussian parameters\n",
    "print(\"Mean:\", coeff[0])\n",
    "print(\"Standard deviation:\", coeff[1])\n",
    "print(\"Amplitude:\", coeff[2])"
   ]
  },
  {
   "cell_type": "markdown",
   "id": "424a1f88",
   "metadata": {},
   "source": [
    "=======================================================================================\n",
    "\n",
    "<span style=\"color:blue; font-size:30px;\"> Computation of the theta quantities </span>\n",
    "\n",
    "\n",
    "$\\hat{\\Theta}_0(\\mathcal{X},\\mathcal{X}) = \\theta = \\sum_{l=1}^{L+1}\\nabla_{\\theta^\\ell}f_0(\\mathcal{X})\\nabla_{\\theta^\\ell}f_0(\\mathcal{X})^T$\n",
    "\n",
    "$\\hat{\\Theta}_0(x,\\mathcal{X}) = \\theta_{test} = \\sum_{l=1}^{L+1}\\nabla_{\\theta^\\ell}f_0($x$)\\nabla_{\\theta^\\ell}f_0(\\mathcal{X})^T$ \n",
    "\n",
    "where $x$ is the test input value while $\\mathcal{X}$ is the training input value.\n",
    "\n",
    "The theta quantities are scalars in the space of the parameters $\\theta$ and matrices in the space of the input/output, namely \n",
    "\n",
    "$\\big[ \\Theta_0 \\big]_{n_1, n_2}^{i_{init}} = \\sum_{\\ell = 1}^{L_{par}} \\bigg[ \\nabla_\\theta f_0(\\mathcal{X}) \\bigg]_{\\ell, n_1}^{i_{init}} \\bigg[ \\nabla_\\theta f_0(\\mathcal{X}) \\bigg]_{n_2, \\ell}^{i_{init}} = \\begin{bmatrix}\n",
    "    \\Theta(\\mathcal{X}_1, \\mathcal{X}_1) & \\Theta(\\mathcal{X}_1, \\mathcal{X}_2) & ... & \\Theta(\\mathcal{X}_{N_{in}}, \\mathcal{X}_{N_in})) \\\\\n",
    "    ...  & ... &  ... & ... \\\\\n",
    "    \\Theta(\\mathcal{X}_{N_{in}}, \\mathcal{X}_1) & \\Theta(\\mathcal{X}_{N_{in}}, \\mathcal{X}_2) & ... & \\Theta(\\mathcal{X}_{N_{in}}, \\mathcal{X}_{N_{in}}) \\\\\n",
    "\\end{bmatrix}$, \n",
    "\n",
    "such that in the limit of large width this becomes the covariance matrix $K_{n_1,n_2}^{i_{boot}}$.\n",
    "\n",
    "======================================================================================="
   ]
  },
  {
   "cell_type": "code",
   "execution_count": 22,
   "id": "3098ba38",
   "metadata": {},
   "outputs": [
    {
     "name": "stdout",
     "output_type": "stream",
     "text": [
      "The shape of the theta quantities is (Nin, Nin, Nboot):  (2, 2, 100) (2, 2, 100)\n"
     ]
    }
   ],
   "source": [
    "#Theta computation\n",
    "theta = np.zeros((Nin, Nin, Nboot))\n",
    "for n1 in range(Nin):\n",
    "    for n2 in range(Nin):\n",
    "        for iboot in range(Nboot):\n",
    "            theta[n1,n2,iboot] = sum(grads_array[n1,iboot,i]*grads_array[n2,iboot,i] for i in range(int(grads_array[0,0,:].shape[0])))\n",
    "\n",
    "#Theta test computation\n",
    "theta_test = np.zeros((Nin, Nin, Nboot))\n",
    "for n1 in range(Nin):\n",
    "    for n2 in range(Nin):\n",
    "        for iboot in range(Nboot):\n",
    "            theta_test[n1,n2,iboot] = sum(grads_array_test[n1,iboot,i]*grads_array[n2,iboot,i] for i in range(int(grads_array[0,0,:].shape[0])))\n",
    "\n",
    "print('The shape of the theta quantities is (Nin, Nin, Nboot): ',theta.shape, theta_test.shape)"
   ]
  },
  {
   "cell_type": "markdown",
   "id": "f9503404",
   "metadata": {},
   "source": [
    "=======================================================================================\n",
    "\n",
    "<span style=\"color:blue; font-size:30px;\"> Definition of the ODE solutions for the training and the test </span>\n",
    "\n",
    "TRAINING:\n",
    "\n",
    "$\\omega_t = -\\nabla_\\theta f_0(\\mathcal{X})^T\\hat{\\Theta}_0^{-1}\\bigg(\\mathbb{I}-e^{-\\eta \\hat{\\Theta}_0 t}\\bigg)\\big(f_0(\\mathcal{X})-\\mathcal(Y)\\big),\\\\$\n",
    "$f_t^{lin}(\\mathcal{X}) = \\bigg(\\mathbb{I} - e^{-\\eta \\hat{\\Theta}_0 t}\\bigg)\\mathcal{Y}+e^{-\\eta \\hat{\\Theta}_0 t} f_0(\\mathcal{X}).$\n",
    "\n",
    "TEST:\n",
    "\n",
    "$f_t^{lin}(x) = \\mu_t(x) + \\gamma_t(x)$\n",
    "\n",
    "where\n",
    "\n",
    "$\\mu_t(x) = \\hat{\\Theta}_0(x,\\mathcal{X}) \\hat{\\Theta}_0^{-1} \\bigg(\\mathbb{I}-e^{-\\eta \\hat{\\Theta}_0 t}\\bigg) \\mathcal{Y},\\\\$\n",
    "$\\gamma_t(x) = f_0(x) - \\hat{\\Theta}_0(x,\\mathcal{X}) \\hat{\\Theta}_0^{-1} \\bigg(\\mathbb{I}-e^{-\\eta \\hat{\\Theta}_0 t}\\bigg) f_0(\\mathcal{X})$\n",
    "\n",
    "\n",
    "======================================================================================="
   ]
  },
  {
   "cell_type": "code",
   "execution_count": 87,
   "id": "83f7c9e4",
   "metadata": {
    "scrolled": true
   },
   "outputs": [
    {
     "name": "stdout",
     "output_type": "stream",
     "text": [
      "(2, 100) (2, 100)\n"
     ]
    }
   ],
   "source": [
    "def Train(grad_, theta_, eta_, t_, output_, Y_):\n",
    "    omega_t = -np.transpose(grad_)@(theta_**(-1))@(np.eye(len(Y_))-np.exp(-eta_*theta_*t_))*(output_ - Y_)\n",
    "    f_lin = (np.eye(len(Y_))-np.exp(-eta_*theta_*t_))@Y_ + np.exp(-eta_*theta_*t_)@output_\n",
    "    return omega_t, f_lin\n",
    "\n",
    "def Ver(theta_, theta_test_, eta_, t_, Y_, output_test_, output_):\n",
    "    mu_t = theta_test_@theta_**(-1)@(np.eye(len(Y_))-np.exp(-eta_*theta_*t_))@Y_\n",
    "    gamma_t = output_test_ - theta_@theta_**(-1)@(np.eye(len(Y_))-np.exp(-theta_*eta_*t_))@output_\n",
    "    flin_f = mu_t + gamma_t\n",
    "    return flin_f\n",
    "print(output_array.shape, output_array_test.shape)"
   ]
  },
  {
   "cell_type": "markdown",
   "id": "6bb6bb85",
   "metadata": {},
   "source": [
    "=======================================================================================\n",
    "\n",
    "<span style=\"color:blue; font-size:30px;\"> Computation of the training functions as a function of time $t$ for different bins </span>\n",
    "\n",
    "We expect that in the limit of large values of time the function tends to the value $\\mathcal{Y}$\n",
    "\n",
    "======================================================================================="
   ]
  },
  {
   "cell_type": "code",
   "execution_count": 88,
   "id": "72894b73",
   "metadata": {},
   "outputs": [
    {
     "name": "stdout",
     "output_type": "stream",
     "text": [
      "[-0.8704766  -0.97466398] (2, 100, 34)\n",
      "(2, 100) 2\n",
      "(2, 34) (34, 2) (2, 100) (2,)\n",
      "(100, 250, 2)\n"
     ]
    },
    {
     "data": {
      "image/png": "[encoded data removed]",
      "text/plain": [
       "<Figure size 640x480 with 1 Axes>"
      ]
     },
     "metadata": {},
     "output_type": "display_data"
    }
   ],
   "source": [
    "# True value for our chosen law\n",
    "Y = np.zeros(Nin)\n",
    "for i in range(Nin):\n",
    "    Y[i] = data_law(X[i])\n",
    "print(Y, grads_array.shape)\n",
    "print(theta[:,0].shape, len(Y))\n",
    "\n",
    "# Bins of t\n",
    "Bins = np.arange(0,50,0.2)\n",
    "\n",
    "\n",
    "# Computation of flin for the training\n",
    "flin_tr = np.empty((Nboot, len(Bins), Nin))\n",
    "\n",
    "\n",
    "print(grads_array[:,0,:].shape, np.transpose(grads_array[:,0,:]).shape, theta[:,0].shape, output_array[:,0].shape)\n",
    "np.transpose(grads_array[:,0,:])@theta[:,0]**(-1)\n",
    "\n",
    "\n",
    "for i in range(Nboot):\n",
    "    for j in range(len(Bins)):\n",
    "        _, flin_tr[i,j,:] = Train(grads_array[:,i,:],theta[:,:,i], 0.00001, Bins[j], output_array[:,i], Y)\n",
    "        \n",
    "        \n",
    "        #flin_tr[i,j] = flin_tr_app\n",
    "print(flin_tr.shape)\n",
    "\n",
    "# Bootstrap mean and sigma\n",
    "flin_tr_mu = np.empty((len(Bins), Nin))\n",
    "flin_tr_s = np.empty((len(Bins), Nin))\n",
    "\n",
    "for j in range(Nin):\n",
    "    for i in range(len(Bins)):\n",
    "        flin_tr_mu[i,j] = mean(flin_tr[:,i,j])\n",
    "        flin_tr_s[i,j] = std_dev(flin_tr[:,i,j])\n",
    "    \n",
    "#print(flin_tr_mu , flin_tr_mu.shape, flin_tr_s.shape)\n",
    "\n",
    "\n",
    "# Plot of the shape as a function of t\n",
    "plt.errorbar(Bins[1:], flin_tr_mu[1:,1], yerr=flin_tr_s[1:,1], fmt='x', capsize=5)\n",
    "plt.axhline(y=Y[1], color='r', linestyle='--', label='True result Y')\n",
    "plt.legend()\n",
    "plt.xlabel('t')\n",
    "plt.ylabel('ft_lin')\n",
    "plt.show()"
   ]
  },
  {
   "cell_type": "markdown",
   "id": "71e674b6",
   "metadata": {},
   "source": [
    "=======================================================================================\n",
    "\n",
    "<span style=\"color:blue; font-size:30px;\"> Computation of the test functions as a function of time $t$ for different bins </span>\n",
    "\n",
    "\n",
    "======================================================================================="
   ]
  },
  {
   "cell_type": "code",
   "execution_count": 108,
   "id": "fd28f35b",
   "metadata": {},
   "outputs": [
    {
     "data": {
      "image/png": "[encoded data removed]",
      "text/plain": [
       "<Figure size 640x480 with 1 Axes>"
      ]
     },
     "metadata": {},
     "output_type": "display_data"
    },
    {
     "name": "stdout",
     "output_type": "stream",
     "text": [
      "[-0.8704766  -0.97466398] [234.01715 202.96072 222.04938 223.84119 236.52762 257.2327  238.82254\n",
      " 240.20314 230.88866 262.6695  242.87999 252.81415 209.92047 204.09628\n",
      " 218.9412  243.38742 241.09236 252.07016 249.55914 184.16571 233.03589\n",
      " 212.25174 243.40714 250.97559 273.2612  212.4383  255.75208 199.51294\n",
      " 243.91327 240.07407 199.52568 264.14944 270.2852  273.64096 254.67004\n",
      " 240.92834 230.68285 265.92477 270.85904 268.51202 230.74825 252.1669\n",
      " 234.30939 264.0802  232.75543 242.58395 248.98232 254.79616 242.18561\n",
      " 249.40247 272.40262 230.33604 226.22952 274.21323 261.7518  258.78867\n",
      " 245.41783 222.31396 228.07484 287.45575 264.0576  235.89154 241.13943\n",
      " 264.99802 264.21863 285.1943  212.4656  214.02135 250.79259 227.59946\n",
      " 233.52586 263.79684 300.1293  203.54755 261.1213  195.97008 225.55804\n",
      " 246.96182 230.7006  240.62727 256.4062  244.43916 300.07297 247.3382\n",
      " 257.11765 230.7347  257.2599  253.48495 274.94598 251.95538 200.25577\n",
      " 303.79855 297.675   283.12387 218.6394  254.1974  265.7928  211.59538\n",
      " 239.05879 258.19086]\n",
      "tf.Tensor(\n",
      "[[[ 94.61486]]\n",
      "\n",
      " [[162.06699]]], shape=(2, 1, 1), dtype=float32)\n"
     ]
    },
    {
     "data": {
      "image/png": "[encoded data removed]",
      "text/plain": [
       "<Figure size 640x480 with 1 Axes>"
      ]
     },
     "metadata": {},
     "output_type": "display_data"
    }
   ],
   "source": [
    "flin = np.empty((Nboot, len(Bins), Nin))\n",
    "for i in range(Nboot):\n",
    "    for j in range(len(Bins)):\n",
    "        flin[i,j,:] = Ver(theta[:,:,i], theta_test[:,:,i], 0.00001, Bins[j], Y, output_array_test[:,i], output_array[:,i])\n",
    "        \n",
    "\n",
    "#print(theta_test[0]/theta[0], theta_test[0], theta[0])\n",
    "        \n",
    "plt.hist(flin[:,88,0], bins=100)\n",
    "plt.xlabel('flin')\n",
    "plt.ylabel('Frequency')\n",
    "plt.title('')\n",
    "plt.show()\n",
    "\n",
    "print(Y, output_array[0])\n",
    "\n",
    "flin_mu = np.empty((len(Bins), Nin))\n",
    "flin_s = np.empty((len(Bins), Nin))\n",
    "for i in range(len(Bins)):\n",
    "    for j in range(Nin):\n",
    "        flin_mu[i,j] = mean(flin[:,i,j])\n",
    "        flin_s[i,j] = std_dev(flin[:,i,j])\n",
    "\n",
    "print(xtest)\n",
    "Y2 = data_law(xtest.numpy())\n",
    "\n",
    "plt.errorbar(Bins, flin_mu[:,0], yerr=flin_s[:,0], fmt='x', capsize=5)\n",
    "plt.axhline(Y2[0], color='r', linestyle='--', label='True result')\n",
    "plt.legend()\n",
    "plt.xlabel('t')\n",
    "plt.ylabel('ft_lin')\n",
    "plt.show()"
   ]
  },
  {
   "cell_type": "code",
   "execution_count": null,
   "id": "da7994d0",
   "metadata": {},
   "outputs": [],
   "source": []
  }
 ],
 "metadata": {
  "kernelspec": {
   "display_name": "Python 3 (ipykernel)",
   "language": "python",
   "name": "python3"
  },
  "language_info": {
   "codemirror_mode": {
    "name": "ipython",
    "version": 3
   },
   "file_extension": ".py",
   "mimetype": "text/x-python",
   "name": "python",
   "nbconvert_exporter": "python",
   "pygments_lexer": "ipython3",
   "version": "3.11.3"
  }
 },
 "nbformat": 4,
 "nbformat_minor": 5
}
