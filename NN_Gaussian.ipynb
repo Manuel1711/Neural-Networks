{
 "cells": [
  {
   "cell_type": "markdown",
   "id": "69b1b7ed",
   "metadata": {},
   "source": [
    "<span style=\"color:red; font-size:30px;\"> The aim of this short code is to demonstrate that in the limit of very large size of a neural network the output distribution of data is Gaussian.</span>\n",
    "\n",
    "We use a very simple forward NN with a single hidden layer.\n",
    "\n",
    "If we use as input gaussian distributions with Mu=0 and STD=1 and we define the STD of the output layer as STD/hidden_size, then the minimum number of necessary neurons to have a final gaussian distribution is 3 (hidden_size = 3).\n",
    "\n",
    "Via continuous time gradient descent, the evolution of the parameters $\\theta$ and the logits $f$ can be written as\n",
    "\n",
    "$\\dot{\\theta}_t  = -\\eta \\nabla_\\theta f_t(\\mathcal{X})^T \\nabla_{f_t(\\mathcal{X})}\\mathcal{L}$,\n",
    "\n",
    "$\\dot{f}_t(\\mathcal{X}) = \\nabla_\\theta f_t(\\mathcal{X})\\dot{\\theta}_t = -\\eta \\hat{\\Theta}_t(\\mathcal{X},\\mathcal{X}) \\nabla_{f_t(\\mathcal{X})}\\mathcal{L}$.\n",
    "\n",
    "Here, the quantity $\\nabla_\\theta f_t(\\mathcal{X})$ is the gradient of the output of the NN in the space of the parameters. This quantity will have indices in the spaces of the parameters, of the number of inputs and possibly in the space of the repetitions of the initialization of the parameters from the gaussian distribution. \n",
    "\n",
    "$ \\bigg[ \\nabla_{[\\theta^\\ell]_{i_{init}}} f_t(\\mathcal{X_{n}}) \\bigg] = \\bigg[ \\nabla_\\theta f_t(\\mathcal{X}) \\bigg]_{\\ell, n}^{i_{init}}$ where  $i_{init} = 1, ..., N_{boot}$,  $\\ell = 1, ...,   L_{pars}$, $n = 1, ..., N_{in}$.\n",
    "\n",
    "Indeed the index $n$ goes on number of data, the index $\\ell$ goes on the number of parameters and $i_{init}$ goes on the different initializations of the parameters.\n",
    "\n",
    "### Notes\n",
    "\n",
    "We add the parameter $\\sigma_b$ for the bias and $\\sigma_w$ for the weights in the definition of the forward function associated with the Neural Network. "
   ]
  },
  {
   "cell_type": "code",
   "execution_count": 2,
   "id": "90666082",
   "metadata": {},
   "outputs": [
    {
     "name": "stderr",
     "output_type": "stream",
     "text": [
      "2023-07-23 19:41:38.959295: I tensorflow/tsl/cuda/cudart_stub.cc:28] Could not find cuda drivers on your machine, GPU will not be used.\n",
      "2023-07-23 19:41:39.998339: I tensorflow/tsl/cuda/cudart_stub.cc:28] Could not find cuda drivers on your machine, GPU will not be used.\n",
      "2023-07-23 19:41:40.005624: I tensorflow/core/platform/cpu_feature_guard.cc:182] This TensorFlow binary is optimized to use available CPU instructions in performance-critical operations.\n",
      "To enable the following instructions: AVX2 FMA, in other operations, rebuild TensorFlow with the appropriate compiler flags.\n",
      "2023-07-23 19:41:46.379068: W tensorflow/compiler/tf2tensorrt/utils/py_utils.cc:38] TF-TRT Warning: Could not find TensorRT\n"
     ]
    }
   ],
   "source": [
    "import tensorflow as tf\n",
    "import tensorflow_probability as tfp\n",
    "import matplotlib.pyplot as plt\n",
    "import numpy as np\n",
    "from scipy.stats import normaltest\n",
    "from scipy.stats import norm\n",
    "from scipy.optimize import curve_fit\n",
    "import math\n",
    "import sys"
   ]
  },
  {
   "cell_type": "markdown",
   "id": "e2fa50c9",
   "metadata": {},
   "source": [
    "=======================================================================================\n",
    "\n",
    "\n",
    "<span style=\"color:blue; font-size:30px;\"> Functions Definition </span>\n",
    "\n",
    "\n",
    "$\\bullet$ <span style=\"color:black; font-size:15px;\"> $\\textit{inizialization}$ </span> : it builds the initialization of the weights and the biases of the NN. The inputs for the function are the size of the input of the NN, the size of the hidden layer, i.e. the number of neurons (we are considering that all the hidden layers have the same number of neurons), the mean and the sigma of the Gaussian distribution from which we extract the values and finally the number of layers;\n",
    "\n",
    "$\\bullet$ <span style=\"color:black; font-size:15px;\"> $\\textit{forward}$ </span> : it defines the architecture of the NN and it computes the gradients of the output of the NN with respect the parameters of the weights and the biases;\n",
    "\n",
    "$\\bullet$ <span style=\"color:black; font-size:15px;\"> $\\textit{bootobj_extr}$ </span> : it extracts from the list a one parameter to plot the input histogram on the bootstrap events;\n",
    "\n",
    "\n",
    "$\\bullet$ <span style=\"color:black; font-size:15px;\"> $\\textit{data_law}$ </span> : it defines the law that we want to reconstruct;\n",
    "\n",
    "\n",
    "$\\bullet$ <span style=\"color:black; font-size:15px;\"> $\\textit{mean}$ </span> : it performs the bootstrap mean;\n",
    "\n",
    "\n",
    "$\\bullet$ <span style=\"color:black; font-size:15px;\"> $\\textit{std_dev}$ </span> : it performs the bootstrap std.\n",
    "\n",
    "\n",
    "======================================================================================="
   ]
  },
  {
   "cell_type": "code",
   "execution_count": 3,
   "id": "7309caf8",
   "metadata": {},
   "outputs": [],
   "source": [
    "# Initialization of weights and bias with a normal distribution\n",
    "def initialization(input_size_, hidden_size_, Mu_, STD_, nl):\n",
    "    bname = 'b{}'.format(nl)\n",
    "    Wname = 'W{}'.format(nl)\n",
    "    WR = tf.Variable(tf.random.normal([input_size_, hidden_size_], mean=Mu_, stddev=STD_), name=Wname)\n",
    "    BR = tf.Variable(tf.random.normal([hidden_size_], mean=Mu_, stddev=STD_), name=bname)\n",
    "    return WR,BR\n",
    "\n",
    "# Define the forward function to compute the output of the neural network\n",
    "def forward(X, i, activation, depth_):\n",
    "    with tf.GradientTape() as tape:\n",
    "        tape.watch([param for param in [Ws[i, j] for j in range(depth_)] + [Bs[i, j] for j in range(depth_)]])\n",
    "        \n",
    "        A = X\n",
    "        for j in range(depth_):\n",
    "            Z = tf.add(tf.matmul(A, sigma_w/lsizes[j]**0.5*Ws[i, j]), sigma_b*Bs[i, j])\n",
    "            A = activation(Z)\n",
    "            \n",
    "        Z_last = Z\n",
    "    \n",
    "        gradients = tape.gradient(Z_last, [Ws[i, j] for j in range(depth_)] + [Bs[i, j] for j in range(depth_)])\n",
    "    return Z_last, gradients\n",
    "\n",
    "\n",
    "def bootobj_extr(layer_, el1_, el2_):\n",
    "    A = np.zeros(Nboot)\n",
    "    B = np.zeros(Nboot)\n",
    "    for i in range(Nboot):\n",
    "        matrW = Ws[i, layer_]\n",
    "        A[i] = matrW[el1_, el2_]\n",
    "        vecB = Bs[i,layer_]\n",
    "        B[i] = vecB[el1_]\n",
    "    return A,B\n",
    "\n",
    "#Chosen law for the test of the NN\n",
    "def data_law(x_):\n",
    "    return np.sin(np.squeeze(x_))\n",
    "\n",
    "#Bootstrap Mean and Sigma\n",
    "def mean(arr):\n",
    "    return sum(arr)/len(arr)\n",
    "def std_dev(arr):\n",
    "    arr_mean = mean(arr)\n",
    "    return (sum([(i - arr_mean)**2 for i in arr]) / (len(arr)-1))**0.5"
   ]
  },
  {
   "cell_type": "markdown",
   "id": "ee890240",
   "metadata": {},
   "source": [
    "=======================================================================================\n",
    "\n",
    "\n",
    "<span style=\"color:blue; font-size:30px;\"> NN output computation </span>\n",
    "\n",
    "In this part of the code we define the dimension of the NN and the input parameters.Then, given a training input and a test input we compute the output of the NN at the initialization. We also extract the gradient in both cases. These gradients are necessary to compute the $\\Theta$s later in the code.\n",
    "\n",
    "If we call:\n",
    "\n",
    "$\\bullet N_0$: the input size;\n",
    "\n",
    "$\\bullet N_\\ell$ with $\\ell \\in [1,L]$: the number of neurons for the $\\ell$ hidden layer;\n",
    "\n",
    "$\\bullet N_{L+1}$: the number of output neurons;\n",
    "\n",
    "the number of parameters of the NN will be\n",
    "\n",
    "$N_{tot} = (N_0\\times N_1 + N_1) + (N_1\\times N_2 + N_2) + (N_2\\times N_3 + N_3) + ... + (N_{L}\\times N_{L+1} + N_{L+1}) =\\sum_{i=1}^{L+1} (N_{i-1}\\times N_{i} + N_{i})$\n",
    "\n",
    "\n",
    "where the $L+1$ layer is the output layer.\n",
    "\n",
    "If we have a NN with a monodimensional input $N_0=1$ and a monodimensional output $N_{L+1}=1$ and 3 hidden layers having 3 neurons each, $N_\\ell = 3$ for $\\ell \\in [1,L]$, then the number of parameters will be\n",
    "\n",
    "$N_{tot} = (1\\times 3 + 3) + (3\\times 3 + 3)\\times 2 + (3\\times 1 + 1) = 34$.\n",
    "\n",
    "Of course the gradient will be a vector of that dimension. If we have $S$ inputs the it will become a matrix $S \\times N_{tot}$.\n",
    "\n",
    "======================================================================================="
   ]
  },
  {
   "cell_type": "code",
   "execution_count": 4,
   "id": "ee522c07",
   "metadata": {},
   "outputs": [
    {
     "name": "stdout",
     "output_type": "stream",
     "text": [
      "The structure of the NN is:  [1 3 3 3 1]\n",
      "The number of parameters is:  34\n",
      "The number of initializations is:  100\n",
      "The number of input quantities is:  2\n",
      "The dimensions of the training and test data matrix are respectively (Nin, Nboot):  (2, 100) (2, 100)\n",
      "The dimensions of the training gradient and test are respectively (Nin, Nboot, Lpar):  (2, 100, 34) (2, 100, 34)\n"
     ]
    }
   ],
   "source": [
    "# Define the dimensions of the NN\n",
    "input_size = 1\n",
    "hidden_size = 3\n",
    "output_size = 1\n",
    "depth = 4 #the depth also contains the output layer\n",
    "Nboot = 100\n",
    "\n",
    "lsizes = np.concatenate(([input_size], np.repeat(hidden_size, depth-1), [output_size]))\n",
    "print('The structure of the NN is: ',lsizes)\n",
    "\n",
    "Lpar = input_size*hidden_size + (depth-2)*hidden_size**2 + (depth-1)*hidden_size + hidden_size*output_size + output_size\n",
    "\n",
    "print('The number of parameters is: ',Lpar)\n",
    "print('The number of initializations is: ',Nboot)\n",
    "\n",
    "# Define the net parameters\n",
    "sigma_b = 1.\n",
    "sigma_w = 1.\n",
    "\n",
    "#Define parameters of the Gaussian distribution\n",
    "STD = 0.08\n",
    "Mu = 0.5\n",
    "\n",
    "\n",
    "#Weights and biases generation\n",
    "Ws = np.empty((Nboot, depth), dtype=object)  \n",
    "Bs = np.empty((Nboot, depth), dtype=object)\n",
    "for i in range(Nboot):\n",
    "    for l in range(depth):\n",
    "        Ws[i, l], Bs[i, l] = initialization(lsizes[l], lsizes[l+1], Mu, STD, l)\n",
    "    \n",
    "# Input quantities\n",
    "Nin = 2\n",
    "X = tf.random.uniform(shape=(Nin,1,1), minval=1, maxval=200, dtype=tf.float32)\n",
    "xtest = tf.random.uniform(shape=(Nin,1,1), minval=1, maxval=200, dtype=tf.float32)\n",
    "    \n",
    "print('The number of input quantities is: ', Nin)\n",
    "    \n",
    "# We compute the output for each event for an input\n",
    "output_array = []\n",
    "output_array_test = []\n",
    "grads_array = np.array([])\n",
    "grads_array_test = np.array([])    \n",
    "for k in range(Nin):\n",
    "    for i in range (0, Nboot):\n",
    "        \n",
    "        Y, Grad = forward(X[k],i,tf.nn.relu, depth)\n",
    "        Y_test, Grad_test = forward(xtest[k],i,tf.nn.relu, depth)\n",
    "        output_array.append(Y.numpy()[0][0])\n",
    "        output_array_test.append(Y_test.numpy()[0][0])\n",
    "        \n",
    "        # Flattening e concatenation of derivatives for training and test\n",
    "        grads_np = np.concatenate([g.numpy().flatten() for g in Grad])  \n",
    "        grads_test_np = np.concatenate([g.numpy().flatten() for g in Grad_test])  \n",
    "        grads_array = np.vstack([grads_array, grads_np]) if grads_array.size else grads_np\n",
    "        grads_array_test = np.vstack([grads_array_test, grads_test_np]) if grads_array_test.size else grads_test_np \n",
    "\n",
    "\n",
    "output_array = np.array(output_array).reshape((Nin,Nboot))\n",
    "output_array_test =  np.array(output_array_test).reshape((Nin,Nboot))\n",
    "grads_array = grads_array.reshape((Nin,Nboot,int(grads_array[0,:].shape[0]))) \n",
    "grads_array_test = grads_array_test.reshape((Nin,Nboot,int(grads_array_test[0,:].shape[0]))) \n",
    "\n",
    "print('The dimensions of the training and test data matrix are respectively (Nin, Nboot): ', output_array.shape, output_array.shape)\n",
    "print('The dimensions of the training gradient and test are respectively (Nin, Nboot, Lpar): ', grads_array.shape, grads_array_test.shape)"
   ]
  },
  {
   "cell_type": "markdown",
   "id": "ecf0e61c",
   "metadata": {},
   "source": [
    "=======================================================================================\n",
    "\n",
    "\n",
    "<span style=\"color:blue; font-size:30px;\"> Input distributions histograms</span>\n",
    "\n",
    "\n",
    "We check the input distribution of weights and biases.\n",
    "\n",
    "=======================================================================================\n"
   ]
  },
  {
   "cell_type": "code",
   "execution_count": 5,
   "id": "a6fa22f3",
   "metadata": {},
   "outputs": [
    {
     "data": {
      "image/png": "[encoded data removed]",
      "text/plain": [
       "<Figure size 640x480 with 1 Axes>"
      ]
     },
     "metadata": {},
     "output_type": "display_data"
    },
    {
     "name": "stdout",
     "output_type": "stream",
     "text": [
      "Data follow a gaussian distribution.\n"
     ]
    },
    {
     "data": {
      "image/png": "[encoded data removed]",
      "text/plain": [
       "<Figure size 640x480 with 1 Axes>"
      ]
     },
     "metadata": {},
     "output_type": "display_data"
    },
    {
     "data": {
      "text/plain": [
       "<Figure size 640x480 with 0 Axes>"
      ]
     },
     "metadata": {},
     "output_type": "display_data"
    }
   ],
   "source": [
    "Whist, Bhist = bootobj_extr(1,1,1)\n",
    "\n",
    "\n",
    "# Print the input distributions of the weights and bias\n",
    "plt.hist(Bhist, bins=100)\n",
    "plt.xlabel('b1')\n",
    "plt.ylabel('Frequency')\n",
    "plt.title('Bias 1 input distribution')\n",
    "plt.savefig('Bias1.png')\n",
    "plt.show()\n",
    "\n",
    "# Test of the gaussianity\n",
    "stat, p = normaltest(Bhist)\n",
    "\n",
    "# Print the result of the test\n",
    "if p < 0.05:\n",
    "    print(\"Data don't follow a gaussian distribution.\")\n",
    "else:\n",
    "    print(\"Data follow a gaussian distribution.\")\n",
    "\n",
    "plt.clf()\n",
    "\n",
    "\n",
    "plt.hist(Whist, bins=100)\n",
    "plt.xlabel('W1')\n",
    "plt.ylabel('Frequency')\n",
    "plt.title('Weight 1 input distribution')\n",
    "plt.show()\n",
    "\n",
    "plt.clf()"
   ]
  },
  {
   "cell_type": "markdown",
   "id": "547bd91a",
   "metadata": {},
   "source": [
    "=======================================================================================\n",
    "\n",
    "\n",
    "<span style=\"color:blue; font-size:30px;\"> Output distribution histogram</span>\n",
    "\n",
    "\n",
    "We study the output distribution.\n",
    "\n",
    "\n",
    "======================================================================================="
   ]
  },
  {
   "cell_type": "code",
   "execution_count": 6,
   "id": "5141a2ba",
   "metadata": {},
   "outputs": [
    {
     "name": "stdout",
     "output_type": "stream",
     "text": [
      "Gaussian distribution.\n"
     ]
    },
    {
     "data": {
      "image/png": "[encoded data removed]",
      "text/plain": [
       "<Figure size 640x480 with 1 Axes>"
      ]
     },
     "metadata": {},
     "output_type": "display_data"
    },
    {
     "name": "stdout",
     "output_type": "stream",
     "text": [
      "Mean: 29.349733934447027\n",
      "Standard deviation: -4.665165155062336\n",
      "Amplitude: 2.0067443106847085\n"
     ]
    }
   ],
   "source": [
    "# Test of the gaussianity\n",
    "stat, p = normaltest(output_array[0])\n",
    "\n",
    "# Print the result of the test\n",
    "if p < 0.05:\n",
    "    string = \"No gaussian distribution.\" \n",
    "    print(string)\n",
    "else:\n",
    "    string = \"Gaussian distribution.\"\n",
    "    print(string)\n",
    "\n",
    "# Take parameters of our histogram\n",
    "counts, bins, _ = plt.hist(output_array[0], bins=100)\n",
    "\n",
    "ylim = max(counts)-10\n",
    "xlim = min(bins)\n",
    "xlim2 = max(bins)\n",
    "\n",
    "# Define the Gaussian function\n",
    "def gaussian(x, mu, sigma, A):\n",
    "    return A * np.exp(-(x - mu)**2 / (2 * sigma**2))\n",
    "\n",
    "\n",
    "# Plot the histogram and the fitted Gaussian function\n",
    "plt.clf()\n",
    "x = np.linspace(xlim, xlim2, 1000)\n",
    "plt.hist(output_array[0], bins=100, color ='blue')\n",
    "plt.xlabel('Output')\n",
    "plt.ylabel('Frequency')\n",
    "plt.suptitle('Output distribution and gaussian fit')\n",
    "plt.title('p='+ str(p))\n",
    "p0 = [(xlim+xlim2)/2, xlim2-xlim, 1]\n",
    "coeff, var_matrix = curve_fit(gaussian, bins[:-1], counts, p0=p0)\n",
    "plt.plot(x, gaussian(x, *coeff), 'r--', label='fit')    \n",
    "    \n",
    "#plt.text(xlim-3, ylim, 'L='+ str(hidden_size), fontsize=18)\n",
    "#plt.text(xlim-3, ylim, string, fontsize=8)\n",
    "plt.savefig('Output.png')\n",
    "plt.show()\n",
    "\n",
    "# Print gaussian parameters\n",
    "print(\"Mean:\", coeff[0])\n",
    "print(\"Standard deviation:\", coeff[1])\n",
    "print(\"Amplitude:\", coeff[2])"
   ]
  },
  {
   "cell_type": "markdown",
   "id": "424a1f88",
   "metadata": {},
   "source": [
    "=======================================================================================\n",
    "\n",
    "<span style=\"color:blue; font-size:30px;\"> Computation of the theta quantities </span>\n",
    "\n",
    "\n",
    "$\\hat{\\Theta}_0(\\mathcal{X},\\mathcal{X}) = \\theta = \\sum_{l=1}^{L+1}\\nabla_{\\theta^\\ell}f_0(\\mathcal{X})\\nabla_{\\theta^\\ell}f_0(\\mathcal{X})^T$\n",
    "\n",
    "$\\hat{\\Theta}_0(x,\\mathcal{X}) = \\theta_{test} = \\sum_{l=1}^{L+1}\\nabla_{\\theta^\\ell}f_0($x$)\\nabla_{\\theta^\\ell}f_0(\\mathcal{X})^T$ \n",
    "\n",
    "where $x$ is the test input value while $\\mathcal{X}$ is the training input value.\n",
    "\n",
    "The theta quantities are scalars in the space of the parameters $\\theta$ and matrices in the space of the input/output, namely \n",
    "\n",
    "$\\big[ \\Theta_0 \\big]_{n_1, n_2}^{i_{init}} = \\sum_{\\ell = 1}^{L_{par}} \\bigg[ \\nabla_\\theta f_0(\\mathcal{X}) \\bigg]_{\\ell, n_1}^{i_{init}} \\bigg[ \\nabla_\\theta f_0(\\mathcal{X}) \\bigg]_{n_2, \\ell}^{i_{init}} = \\begin{bmatrix}\n",
    "    \\Theta(\\mathcal{X}_1, \\mathcal{X}_1) & \\Theta(\\mathcal{X}_1, \\mathcal{X}_2) & ... & \\Theta(\\mathcal{X}_{N_{in}}, \\mathcal{X}_{N_in})) \\\\\n",
    "    ...  & ... &  ... & ... \\\\\n",
    "    \\Theta(\\mathcal{X}_{N_{in}}, \\mathcal{X}_1) & \\Theta(\\mathcal{X}_{N_{in}}, \\mathcal{X}_2) & ... & \\Theta(\\mathcal{X}_{N_{in}}, \\mathcal{X}_{N_{in}}) \\\\\n",
    "\\end{bmatrix}$, \n",
    "\n",
    "such that in the limit of large width this becomes the covariance matrix $K_{n_1,n_2}^{i_{boot}}$.\n",
    "\n",
    "======================================================================================="
   ]
  },
  {
   "cell_type": "code",
   "execution_count": 7,
   "id": "3098ba38",
   "metadata": {},
   "outputs": [
    {
     "name": "stdout",
     "output_type": "stream",
     "text": [
      "The shape of the theta quantities is (Nin, Nin, Nboot):  (2, 2, 100) (2, 2, 100)\n"
     ]
    }
   ],
   "source": [
    "#Theta computation\n",
    "theta = np.zeros((Nin, Nin, Nboot))\n",
    "for n1 in range(Nin):\n",
    "    for n2 in range(Nin):\n",
    "        for iboot in range(Nboot):\n",
    "            theta[n1,n2,iboot] = sum(grads_array[n1,iboot,i]*grads_array[n2,iboot,i] for i in range(int(grads_array[0,0,:].shape[0])))\n",
    "\n",
    "#Theta test computation\n",
    "theta_test = np.zeros((Nin, Nin, Nboot))\n",
    "for n1 in range(Nin):\n",
    "    for n2 in range(Nin):\n",
    "        for iboot in range(Nboot):\n",
    "            theta_test[n1,n2,iboot] = sum(grads_array_test[n1,iboot,i]*grads_array[n2,iboot,i] for i in range(int(grads_array[0,0,:].shape[0])))\n",
    "\n",
    "print('The shape of the theta quantities is (Nin, Nin, Nboot): ',theta.shape, theta_test.shape)"
   ]
  },
  {
   "cell_type": "markdown",
   "id": "f9503404",
   "metadata": {},
   "source": [
    "=======================================================================================\n",
    "\n",
    "<span style=\"color:blue; font-size:30px;\"> Definition of the ODE solutions for the training and the test </span>\n",
    "\n",
    "TRAINING:\n",
    "\n",
    "$\\omega_t = -\\nabla_\\theta f_0(\\mathcal{X})^T\\hat{\\Theta}_0^{-1}\\bigg(\\mathbb{I}-e^{-\\eta \\hat{\\Theta}_0 t}\\bigg)\\big(f_0(\\mathcal{X})-\\mathcal(Y)\\big),\\\\$\n",
    "$f_t^{lin}(\\mathcal{X}) = \\bigg(\\mathbb{I} - e^{-\\eta \\hat{\\Theta}_0 t}\\bigg)\\mathcal{Y}+e^{-\\eta \\hat{\\Theta}_0 t} f_0(\\mathcal{X}).$\n",
    "\n",
    "TEST:\n",
    "\n",
    "$f_t^{lin}(x) = \\mu_t(x) + \\gamma_t(x)$\n",
    "\n",
    "where\n",
    "\n",
    "$\\mu_t(x) = \\hat{\\Theta}_0(x,\\mathcal{X}) \\hat{\\Theta}_0^{-1} \\bigg(\\mathbb{I}-e^{-\\eta \\hat{\\Theta}_0 t}\\bigg) \\mathcal{Y},\\\\$\n",
    "$\\gamma_t(x) = f_0(x) - \\hat{\\Theta}_0(x,\\mathcal{X}) \\hat{\\Theta}_0^{-1} \\bigg(\\mathbb{I}-e^{-\\eta \\hat{\\Theta}_0 t}\\bigg) f_0(\\mathcal{X})$\n",
    "\n",
    "\n",
    "======================================================================================="
   ]
  },
  {
   "cell_type": "code",
   "execution_count": 8,
   "id": "83f7c9e4",
   "metadata": {
    "scrolled": true
   },
   "outputs": [
    {
     "name": "stdout",
     "output_type": "stream",
     "text": [
      "(2, 100) (2, 100)\n"
     ]
    }
   ],
   "source": [
    "def Train(grad_, theta_, eta_, t_, output_, Y_):\n",
    "    omega_t = -np.transpose(grad_)@(theta_**(-1))@(np.eye(len(Y_))-np.exp(-eta_*theta_*t_))*(output_ - Y_)\n",
    "    f_lin = (np.eye(len(Y_))-np.exp(-eta_*theta_*t_))@Y_ + np.exp(-eta_*theta_*t_)@output_\n",
    "    return omega_t, f_lin\n",
    "\n",
    "def Ver(theta_, theta_test_, eta_, t_, Y_, output_test_, output_):\n",
    "    mu_t = theta_test_@theta_**(-1)@(np.eye(len(Y_))-np.exp(-eta_*theta_*t_))@Y_\n",
    "    gamma_t = output_test_ - theta_@theta_**(-1)@(np.eye(len(Y_))-np.exp(-theta_*eta_*t_))@output_\n",
    "    flin_f = mu_t + gamma_t\n",
    "    return flin_f\n",
    "print(output_array.shape, output_array_test.shape)"
   ]
  },
  {
   "cell_type": "markdown",
   "id": "6bb6bb85",
   "metadata": {},
   "source": [
    "=======================================================================================\n",
    "\n",
    "<span style=\"color:blue; font-size:30px;\"> Computation of the training functions as a function of time $t$ for different bins </span>\n",
    "\n",
    "We expect that in the limit of large values of time the function tends to the value $\\mathcal{Y}$\n",
    "\n",
    "======================================================================================="
   ]
  },
  {
   "cell_type": "code",
   "execution_count": 9,
   "id": "72894b73",
   "metadata": {},
   "outputs": [
    {
     "name": "stdout",
     "output_type": "stream",
     "text": [
      "[-0.96436787 -0.1253354 ] (2, 100, 34)\n",
      "(2, 100) 2\n",
      "(2, 34) (34, 2) (2, 100) (2,)\n",
      "(100, 250, 2)\n"
     ]
    },
    {
     "data": {
      "image/png": "[encoded data removed]",
      "text/plain": [
       "<Figure size 640x480 with 1 Axes>"
      ]
     },
     "metadata": {},
     "output_type": "display_data"
    }
   ],
   "source": [
    "# True value for our chosen law\n",
    "Y = np.zeros(Nin)\n",
    "for i in range(Nin):\n",
    "    Y[i] = data_law(X[i])\n",
    "print(Y, grads_array.shape)\n",
    "print(theta[:,0].shape, len(Y))\n",
    "\n",
    "# Bins of t\n",
    "Bins = np.arange(0,50,0.2)\n",
    "\n",
    "\n",
    "# Computation of flin for the training\n",
    "flin_tr = np.empty((Nboot, len(Bins), Nin))\n",
    "\n",
    "\n",
    "print(grads_array[:,0,:].shape, np.transpose(grads_array[:,0,:]).shape, theta[:,0].shape, output_array[:,0].shape)\n",
    "np.transpose(grads_array[:,0,:])@theta[:,0]**(-1)\n",
    "\n",
    "\n",
    "for i in range(Nboot):\n",
    "    for j in range(len(Bins)):\n",
    "        _, flin_tr[i,j,:] = Train(grads_array[:,i,:],theta[:,:,i], 0.00001, Bins[j], output_array[:,i], Y)\n",
    "        \n",
    "        \n",
    "        #flin_tr[i,j] = flin_tr_app\n",
    "print(flin_tr.shape)\n",
    "\n",
    "# Bootstrap mean and sigma\n",
    "flin_tr_mu = np.empty((len(Bins), Nin))\n",
    "flin_tr_s = np.empty((len(Bins), Nin))\n",
    "\n",
    "for j in range(Nin):\n",
    "    for i in range(len(Bins)):\n",
    "        flin_tr_mu[i,j] = mean(flin_tr[:,i,j])\n",
    "        flin_tr_s[i,j] = std_dev(flin_tr[:,i,j])\n",
    "    \n",
    "#print(flin_tr_mu , flin_tr_mu.shape, flin_tr_s.shape)\n",
    "\n",
    "\n",
    "# Plot of the shape as a function of t\n",
    "plt.errorbar(Bins[1:], flin_tr_mu[1:,1], yerr=flin_tr_s[1:,1], fmt='x', capsize=5)\n",
    "plt.axhline(y=Y[1], color='r', linestyle='--', label='True result Y')\n",
    "plt.legend()\n",
    "plt.xlabel('t')\n",
    "plt.ylabel('ft_lin')\n",
    "plt.show()"
   ]
  },
  {
   "cell_type": "markdown",
   "id": "71e674b6",
   "metadata": {},
   "source": [
    "=======================================================================================\n",
    "\n",
    "<span style=\"color:blue; font-size:30px;\"> Computation of the test functions as a function of time $t$ for different bins </span>\n",
    "\n",
    "\n",
    "======================================================================================="
   ]
  },
  {
   "cell_type": "code",
   "execution_count": 10,
   "id": "fd28f35b",
   "metadata": {
    "scrolled": false
   },
   "outputs": [
    {
     "data": {
      "image/png": "[encoded data removed]",
      "text/plain": [
       "<Figure size 640x480 with 1 Axes>"
      ]
     },
     "metadata": {},
     "output_type": "display_data"
    },
    {
     "name": "stdout",
     "output_type": "stream",
     "text": [
      "[-0.96436787 -0.1253354 ] [20.635426 27.722387 25.143127 23.140568 26.833677 28.173569 34.287792\n",
      " 27.372375 28.400629 32.71597  26.651571 26.187284 41.249607 31.64432\n",
      " 31.7859   31.34714  32.82256  30.29967  30.598492 29.123959 33.572315\n",
      " 25.2138   27.283085 27.92856  18.047638 23.188784 34.62218  27.523136\n",
      " 31.7669   28.844374 34.034245 30.450518 37.724026 25.649687 31.169975\n",
      " 24.166689 24.47269  33.38887  21.24759  28.502243 35.984715 26.401186\n",
      " 32.209545 33.61111  32.007454 29.743458 36.11947  40.615784 29.616077\n",
      " 31.045654 23.488531 23.491032 28.418291 25.48653  31.85745  27.815582\n",
      " 31.450363 24.078577 34.504204 26.95395  27.270208 27.21491  27.09168\n",
      " 34.90528  29.08743  30.622772 33.93259  34.446323 26.045204 29.795994\n",
      " 31.635683 31.50911  20.042473 31.616781 32.50438  35.071934 31.22396\n",
      " 23.37416  30.05742  32.756195 26.122938 32.32272  30.589306 32.46684\n",
      " 24.360558 37.61011  30.017324 25.381882 26.667202 31.15925  26.255236\n",
      " 31.035799 23.960726 20.542805 23.276896 27.37829  24.97911  32.448044\n",
      " 34.790127 39.987   ]\n",
      "tf.Tensor(\n",
      "[[[  6.80664]]\n",
      "\n",
      " [[157.44553]]], shape=(2, 1, 1), dtype=float32)\n"
     ]
    },
    {
     "data": {
      "image/png": "[encoded data removed]",
      "text/plain": [
       "<Figure size 640x480 with 1 Axes>"
      ]
     },
     "metadata": {},
     "output_type": "display_data"
    }
   ],
   "source": [
    "flin = np.empty((Nboot, len(Bins), Nin))\n",
    "for i in range(Nboot):\n",
    "    for j in range(len(Bins)):\n",
    "        flin[i,j,:] = Ver(theta[:,:,i], theta_test[:,:,i], 0.00001, Bins[j], Y, output_array_test[:,i], output_array[:,i])\n",
    "        \n",
    "\n",
    "#print(theta_test[0]/theta[0], theta_test[0], theta[0])\n",
    "        \n",
    "plt.hist(flin[:,88,0], bins=100)\n",
    "plt.xlabel('flin')\n",
    "plt.ylabel('Frequency')\n",
    "plt.title('')\n",
    "plt.show()\n",
    "\n",
    "print(Y, output_array[0])\n",
    "\n",
    "flin_mu = np.empty((len(Bins), Nin))\n",
    "flin_s = np.empty((len(Bins), Nin))\n",
    "for i in range(len(Bins)):\n",
    "    for j in range(Nin):\n",
    "        flin_mu[i,j] = mean(flin[:,i,j])\n",
    "        flin_s[i,j] = std_dev(flin[:,i,j])\n",
    "\n",
    "print(xtest)\n",
    "Y2 = data_law(xtest.numpy())\n",
    "\n",
    "plt.errorbar(Bins, flin_mu[:,0], yerr=flin_s[:,0], fmt='x', capsize=5)\n",
    "plt.axhline(Y2[0], color='r', linestyle='--', label='True result')\n",
    "plt.legend()\n",
    "plt.xlabel('t')\n",
    "plt.ylabel('ft_lin')\n",
    "plt.show()"
   ]
  },
  {
   "cell_type": "markdown",
   "id": "77913603",
   "metadata": {},
   "source": [
    "### Experiment\n",
    "\n",
    "Construct a neural network which simulates the interpolate function $x(\\alpha) = \\alpha x^{(1)} + (1-\\alpha) x^{(2)}$; then, we average the results under 100 NNs"
   ]
  },
  {
   "cell_type": "code",
   "execution_count": 11,
   "id": "bd6bcd06",
   "metadata": {},
   "outputs": [
    {
     "name": "stderr",
     "output_type": "stream",
     "text": [
      "Progress: 100%|█████████████████████████████████████████████████████| 10/10 [01:09<00:00,  6.93s/it]\n"
     ]
    }
   ],
   "source": [
    "from tqdm import tqdm\n",
    "Nin = 100\n",
    "Nout = 100\n",
    "\n",
    "xx1 = tf.constant(-1., shape=(Nin, 1, 1), dtype=tf.float32)\n",
    "xx2 = tf.constant(1., shape=(Nin, 1, 1), dtype=tf.float32)\n",
    "\n",
    "def interp(_alpha):\n",
    "    condition1 = tf.logical_and(_alpha <= 1, _alpha >= 0)\n",
    "    condition2 = _alpha > 1\n",
    "    condition3 = _alpha < 0\n",
    "    \n",
    "    result = tf.where(condition1, _alpha * xx1 + (1 - _alpha) * xx2, tf.where(condition2, xx1, xx2))\n",
    "    return result\n",
    "\n",
    "alpha_out = tf.random.uniform(shape=(Nout,1,1), minval=-2, maxval=3, dtype=tf.float32)\n",
    "\n",
    "#print(x_train)\n",
    "#sys.exit()\n",
    "\n",
    "sigma_w = np.sqrt(1.5)\n",
    "sigma_b = 1.\n",
    "Mu = 0.\n",
    "STD = 1.\n",
    "Nboot = 10\n",
    "depth = 3\n",
    "input_size = 1\n",
    "hidden_size = 32\n",
    "output_size = 1\n",
    "eta = 0.5\n",
    "\n",
    "\n",
    "# Numb of train epochs\n",
    "num_epochs = 1000\n",
    "\n",
    "lsizes = np.concatenate(([input_size], np.repeat(hidden_size, depth-1), [output_size]))\n",
    "#print(lsizes)\n",
    "\n",
    "#loss_fun = tf.losses.mean_squared_error()\n",
    "\n",
    "# obser_sum = [mean output net, dev_std output net, loss]\n",
    "obser_sum = np.ndarray(shape=(num_epochs, 3, Nout, Nboot), dtype=float, buffer=np.zeros((num_epochs, 3, Nout, Nboot)))\n",
    "\n",
    "for i in tqdm(range(Nboot), desc=\"Progress\", ncols=100):\n",
    "    \n",
    "    alpha_train = tf.random.uniform(shape=(Nin,1,1), minval=-2, maxval=3, dtype=tf.float32)\n",
    "    #alpha_train = tf.constant([[[0]], [[1]]], shape=(2, 1, 1), dtype=tf.float32)\n",
    "    x_train = interp(alpha_train)\n",
    "    \n",
    "    for l in range(depth):\n",
    "        Ws[i, l], Bs[i, l] = initialization(lsizes[l], lsizes[l+1], Mu, STD / lsizes[l]**0.5, l)\n",
    "        #print(l, Ws[i,l].shape)\n",
    "\n",
    "    # Optimizer definition \n",
    "    optimizer = tf.keras.optimizers.Adam()\n",
    "\n",
    "    # Train function\n",
    "    @tf.function\n",
    "    def train_step(X, Y):\n",
    "        with tf.GradientTape() as tape:\n",
    "            Z, gradients = forward(X, i, tf.nn.tanh, depth)\n",
    "            loss = tf.losses.mean_squared_error(Z, x_train)  # Define loss func using Z and x_train\n",
    "\n",
    "        variables = [param for param in [Ws[i, j] for j in range(depth)] + [Bs[i, j] for j in range(depth)]]\n",
    "        gradients = tape.gradient(loss, variables)\n",
    "        #eta_tf = tf.fill(tf.shape(gradients), eta)\n",
    "        gradients2 = [gradients[i]*eta for i in range(len(gradients))] \n",
    "        #gradients_yy = tf.multiply(eta, gradients)\n",
    "        optimizer.apply_gradients(zip(gradients2, variables))\n",
    "\n",
    "        return Z, loss\n",
    "\n",
    "    # Train cycle\n",
    "    for epoch in range(num_epochs):\n",
    "        Z, loss = train_step(alpha_train, x_train)\n",
    "        loss_value = tf.reduce_mean(loss)\n",
    "        \n",
    "        Z, _ = forward(alpha_out, i, tf.nn.tanh, depth)\n",
    "        Z2 = tf.square(Z)\n",
    "        #print(Z.numpy())\n",
    "        obser_sum[epoch, 0, :, i] = np.reshape(Z.numpy(), (Nout,) )\n",
    "        obser_sum[epoch, 1, :, i] = np.reshape(Z2.numpy(), (Nout,) )\n",
    "        #obser_sum[epoch, 2, :, i] = np.reshape(loss.numpy(), (Nout,) )\n",
    "alpha_np = alpha_train.numpy()"
   ]
  },
  {
   "cell_type": "code",
   "execution_count": 12,
   "id": "40341fb4",
   "metadata": {},
   "outputs": [
    {
     "name": "stdout",
     "output_type": "stream",
     "text": [
      "[0.01946186 0.02807866 0.00756523 0.00722722 0.03387585 0.00760792\n",
      " 0.01809768 0.01273282 0.03660697 0.01508766 0.01560521 0.01390558\n",
      " 0.00648764 0.01384649 0.01503779 0.01601887 0.00660368 0.01354823\n",
      " 0.00976211 0.01044777 0.00562528 0.00540511 0.01211363 0.00571628\n",
      " 0.00876877 0.00859984 0.01621672 0.00563077 0.00588424 0.00718251\n",
      " 0.00622392 0.02280934 0.03663487 0.01204366 0.01057805 0.0102196\n",
      " 0.01402227 0.00510329 0.00530144 0.00934982 0.00945264 0.0176862\n",
      " 0.00977675 0.0068469  0.02193371 0.03670299 0.02687444 0.00933863\n",
      " 0.00517128 0.00599823 0.01060248 0.01236169 0.01319986 0.01937712\n",
      " 0.0074896  0.01316498 0.02220057 0.0070663  0.01208001 0.01157959\n",
      " 0.01900775 0.0223838  0.03619677 0.02262226 0.03207342 0.01896194\n",
      " 0.03595899 0.02457919 0.01454781 0.02033719 0.01397724 0.03306835\n",
      " 0.01256942 0.00848243 0.01485526 0.00511115 0.01593043 0.02240144\n",
      " 0.02214687 0.02059918 0.00570998 0.00738441 0.01363825 0.01338712\n",
      " 0.01379698 0.00529598 0.01553353 0.01399237 0.03550048 0.02269856\n",
      " 0.01244483 0.03530335 0.01214403 0.01602699 0.01205631 0.01396976\n",
      " 0.03567326 0.01883056 0.01319143 0.00818678]\n"
     ]
    },
    {
     "data": {
      "image/png": "[encoded data removed]",
      "text/plain": [
       "<Figure size 640x480 with 1 Axes>"
      ]
     },
     "metadata": {},
     "output_type": "display_data"
    }
   ],
   "source": [
    "xx1 = tf.constant(-1., shape=(Nout, 1, 1), dtype=tf.float32)\n",
    "xx2 = tf.constant(1., shape=(Nout, 1, 1), dtype=tf.float32)\n",
    "\n",
    "alpha_np = alpha_out.numpy()\n",
    "alpha_np = np.reshape(alpha_out, (Nout,))\n",
    "\n",
    "x_np = interp(alpha_out)\n",
    "x_np = np.reshape(x_np.numpy(), (Nout,))\n",
    "epoch_fix = 999\n",
    "\n",
    "y = np.array([0.]*len(alpha_np))\n",
    "erry = np.array([0.]*len(alpha_np))\n",
    "\n",
    "for i in range(len(alpha_np)):\n",
    "    y[i] = mean(obser_sum[epoch_fix, 0, i, :])\n",
    "    erry[i] = np.sqrt(mean(obser_sum[epoch_fix, 1, i, :]) - y[i]**2.)#std_dev(Nboot*obser_sum[epoch_fix, 0, i, :])\n",
    "\n",
    "print(erry)\n",
    "\n",
    "#print(mean(obser_sum[epoch_fix, 0, 0, :]), std_dev(obser_sum[epoch_fix, 0, 0, :])*Nboot**0.5, (mean(obser_sum[epoch_fix, 1, 0, :]) - mean(obser_sum[epoch_fix, 0, 0, :])**2.)**0.5)\n",
    "\n",
    "#err = np.sqrt(obser_sum[epoch_fix, 1, :] - obser_sum[epoch_fix, 0, :]**2.)\n",
    "#print(alpha_np[0:5], x_np[0:5], obser_sum[400, 0, 0:5], obser_sum[400, 2, 0:5])\n",
    "plt.errorbar(alpha_np, y, yerr=2.*erry, fmt = '.', capsize=1)\n",
    "plt.errorbar(alpha_np, x_np, fmt = '.', capsize=1)\n",
    "plt.errorbar(np.reshape(alpha_train.numpy(), (Nin, )), np.reshape(x_train.numpy(), (Nin,)), fmt = 'o', capsize=30)\n",
    "plt.show()\n",
    "\n",
    "# PUT THE BIAS AT ZERO AND CHANGE THE DEV_STD\n"
   ]
  },
  {
   "cell_type": "code",
   "execution_count": 13,
   "id": "dc7595b6",
   "metadata": {},
   "outputs": [],
   "source": [
    "def Sigma(arr1, arr2):\n",
    "    Sigma = np.ndarray(shape = (2,2))\n",
    "    Sigma[0,0] = np.dot(arr1,arr1)\n",
    "    Sigma[0,1] = np.dot(arr1,arr2)\n",
    "    Sigma[1,0] = Sigma[0,1]\n",
    "    Sigma[1,1] = np.dot(arr2,arr2)\n",
    "    return Sigma\n",
    "\n",
    "def calT(Sigma):\n",
    "    #calTp = 4./ np.pi / np.sqrt(np.linalg.det(eye(2) + 2*Sigma))\n",
    "    calT = 2./np.pi * np.arcsin( 2.* Sigma[0,1] / np.sqrt((1+2*Sigma[0,0])*(1+2*Sigma[1,1])))\n",
    "    return calT#, calTp\n",
    "\n",
    "def mathT(a, b, c, d):\n",
    "    return 2./np.pi * np.arcsin( 2.* b / np.sqrt((1+2*a)*(1+2*d)))\n",
    "\n",
    "def mathTp(a, b, c, d):\n",
    "    det = a*c - b*d\n",
    "    return 4./ np.pi / np.sqrt(np.linalg.det(eye(2) + 2*det))"
   ]
  },
  {
   "cell_type": "markdown",
   "id": "07d30ab7",
   "metadata": {},
   "source": [
    "The expression ${\\cal K}^\\ell$ indicates a set of function applied at each $\\ell$ layer. Therefore, the ${\\cal K}^{L+1}$ corresponds ${\\cal K}$."
   ]
  },
  {
   "cell_type": "code",
   "execution_count": 14,
   "id": "5597023c",
   "metadata": {},
   "outputs": [],
   "source": [
    "def Kappa(arr1, arr2, l_index, sigma_w, sigma_b, n0):\n",
    "    if l_index == 1:\n",
    "        return np.dot(arr1,arr2)/n0*sigma_w**2. + sigma_b**2.\n",
    "    else:\n",
    "        T11 = kappa(arr1, arr1, l_index-1, sigma_w, sigma_b, n0)\n",
    "        T12 = kappa(arr1, arr2, l_index-1, sigma_w, sigma_b, n0)\n",
    "        T21 = T12\n",
    "        T22 = kappa(arr2, arr2, l_index-1, sigma_w, sigma_b, n0)\n",
    "        return sigma_w**2.*mathT(T11, T12, T21, T22) + sigma_b**2.\n",
    "\n",
    "    \n",
    "    \n",
    "def Theta(arr1, arr2, l_index, sigma_w, sigma_b, n0):\n",
    "    if l_index == 1:\n",
    "        return np.dot(arr1,arr2)/n0*sigma_w**2. + sigma_b**2.\n",
    "    else:\n",
    "        T11 = kappa(arr1, arr1, l_index-1, sigma_w, sigma_b, n0)\n",
    "        T12 = kappa(arr1, arr2, l_index-1, sigma_w, sigma_b, n0)\n",
    "        T21 = T12\n",
    "        T22 = kappa(arr2, arr2, l_index-1, sigma_w, sigma_b, n0)\n",
    "        return sigma_w**2.*mathTp(T11, T12, T21, T22)*Theta(arr1, arr2, l_index-1, sigma_w, sigma_b, n0)"
   ]
  },
  {
   "cell_type": "markdown",
   "id": "974dca6b",
   "metadata": {},
   "source": [
    "### NNGP "
   ]
  },
  {
   "cell_type": "code",
   "execution_count": null,
   "id": "3a389e44",
   "metadata": {},
   "outputs": [],
   "source": []
  }
 ],
 "metadata": {
  "kernelspec": {
   "display_name": "Python 3 (ipykernel)",
   "language": "python",
   "name": "python3"
  },
  "language_info": {
   "codemirror_mode": {
    "name": "ipython",
    "version": 3
   },
   "file_extension": ".py",
   "mimetype": "text/x-python",
   "name": "python",
   "nbconvert_exporter": "python",
   "pygments_lexer": "ipython3",
   "version": "3.10.6"
  }
 },
 "nbformat": 4,
 "nbformat_minor": 5
}
