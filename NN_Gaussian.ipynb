{
 "cells": [
  {
   "cell_type": "markdown",
   "id": "69b1b7ed",
   "metadata": {},
   "source": [
    "<span style=\"color:red; font-size:30px;\"> The aim of this short code is to demonstrate that in the limit of very large size of a neural network the output distribution of data is Gaussian.</span>\n",
    "\n",
    "We use a very simple forward NN with a single hidden layer.\n",
    "\n",
    "If we use as input gaussian distributions with Mu=0 and STD=1 and we define the STD of the output layer as STD/hidden_size, then the minimum number of necessary neurons to have a final gaussian distribution is 3 (hidden_size = 3).\n",
    "\n",
    "Via continuous time gradient descent, the evolution of the parameters $\\theta$ and the logits $f$ can be written as\n",
    "\n",
    "$\\dot{\\theta}_t  = -\\eta \\nabla_\\theta f_t(\\mathcal{X})^T \\nabla_{f_t(\\mathcal{X})}\\mathcal{L}$,\n",
    "\n",
    "$\\dot{f}_t(\\mathcal{X}) = \\nabla_\\theta f_t(\\mathcal{X})\\dot{\\theta}_t = -\\eta \\hat{\\Theta}_t(\\mathcal{X},\\mathcal{X}) \\nabla_{f_t(\\mathcal{X})}\\mathcal{L}$.\n",
    "\n",
    "Here, the quantity $\\nabla_\\theta f_t(\\mathcal{X})$ is the gradient of the output of the NN in the space of the parameters. This quantity will have indices in the spaces of the parameters, of the number of inputs and possibly in the space of the repetitions of the initialization of the parameters from the gaussian distribution. \n",
    "\n",
    "$ \\bigg[ \\nabla_{[\\theta^\\ell]_{i_{init}}} f_t(\\mathcal{X_{n}}) \\bigg] = \\bigg[ \\nabla_\\theta f_t(\\mathcal{X}) \\bigg]_{\\ell, n}^{i_{init}}$ where  $i_{init} = 1, ..., N_{boot}$,  $\\ell = 1, ...,   L_{pars}$, $n = 1, ..., N_{in}$.\n",
    "\n",
    "Indeed the index $n$ goes on number of data, the index $\\ell$ goes on the number of parameters and $i_{init}$ goes on the different initializations of the parameters.\n",
    "\n",
    "### Notes\n",
    "\n",
    "We add the parameter $\\sigma_b$ for the bias and $\\sigma_w$ for the weights in the definition of the forward function associated with the Neural Network. "
   ]
  },
  {
   "cell_type": "code",
   "execution_count": 1,
   "id": "90666082",
   "metadata": {},
   "outputs": [
    {
     "name": "stderr",
     "output_type": "stream",
     "text": [
      "2023-07-29 20:04:44.114039: I tensorflow/tsl/cuda/cudart_stub.cc:28] Could not find cuda drivers on your machine, GPU will not be used.\n",
      "2023-07-29 20:04:44.145618: I tensorflow/tsl/cuda/cudart_stub.cc:28] Could not find cuda drivers on your machine, GPU will not be used.\n",
      "2023-07-29 20:04:44.146298: I tensorflow/core/platform/cpu_feature_guard.cc:182] This TensorFlow binary is optimized to use available CPU instructions in performance-critical operations.\n",
      "To enable the following instructions: AVX2 FMA, in other operations, rebuild TensorFlow with the appropriate compiler flags.\n",
      "2023-07-29 20:04:44.723709: W tensorflow/compiler/tf2tensorrt/utils/py_utils.cc:38] TF-TRT Warning: Could not find TensorRT\n"
     ]
    }
   ],
   "source": [
    "import tensorflow as tf\n",
    "import tensorflow_probability as tfp\n",
    "import matplotlib.pyplot as plt\n",
    "import numpy as np\n",
    "from scipy.stats import normaltest\n",
    "from scipy.stats import norm\n",
    "from scipy.optimize import curve_fit\n",
    "import math\n",
    "import sys"
   ]
  },
  {
   "cell_type": "markdown",
   "id": "e2fa50c9",
   "metadata": {},
   "source": [
    "=======================================================================================\n",
    "\n",
    "\n",
    "<span style=\"color:blue; font-size:30px;\"> Functions Definition </span>\n",
    "\n",
    "\n",
    "$\\bullet$ <span style=\"color:black; font-size:15px;\"> $\\textit{inizialization}$ </span> : it builds the initialization of the weights and the biases of the NN. The inputs for the function are the size of the input of the NN, the size of the hidden layer, i.e. the number of neurons (we are considering that all the hidden layers have the same number of neurons), the mean and the sigma of the Gaussian distribution from which we extract the values and finally the number of layers;\n",
    "\n",
    "$\\bullet$ <span style=\"color:black; font-size:15px;\"> $\\textit{forward}$ </span> : it defines the architecture of the NN and it computes the gradients of the output of the NN with respect the parameters of the weights and the biases;\n",
    "\n",
    "$\\bullet$ <span style=\"color:black; font-size:15px;\"> $\\textit{bootobj_extr}$ </span> : it extracts from the list a one parameter to plot the input histogram on the bootstrap events;\n",
    "\n",
    "\n",
    "$\\bullet$ <span style=\"color:black; font-size:15px;\"> $\\textit{data_law}$ </span> : it defines the law that we want to reconstruct;\n",
    "\n",
    "\n",
    "$\\bullet$ <span style=\"color:black; font-size:15px;\"> $\\textit{mean}$ </span> : it performs the bootstrap mean;\n",
    "\n",
    "\n",
    "$\\bullet$ <span style=\"color:black; font-size:15px;\"> $\\textit{std_dev}$ </span> : it performs the bootstrap std.\n",
    "\n",
    "\n",
    "======================================================================================="
   ]
  },
  {
   "cell_type": "code",
   "execution_count": 5,
   "id": "7309caf8",
   "metadata": {},
   "outputs": [],
   "source": [
    "# Initialization of weights and bias with a normal distribution\n",
    "def initialization(input_size_, hidden_size_, Mu_, STD_, nl):\n",
    "    bname = 'b{}'.format(nl)\n",
    "    Wname = 'W{}'.format(nl)\n",
    "    WR = tf.Variable(tf.random.normal([input_size_, hidden_size_], mean=Mu_, stddev=STD_), name=Wname)\n",
    "    BR = tf.Variable(tf.random.normal([hidden_size_], mean=Mu_, stddev=STD_), name=bname)\n",
    "    return WR,BR\n",
    "\n",
    "# Define the forward function to compute the output of the neural network\n",
    "def forward(X, i, activation, depth_):\n",
    "    with tf.GradientTape() as tape:\n",
    "        tape.watch([param for param in [Ws[i, j] for j in range(depth_)] + [Bs[i, j] for j in range(depth_)]])\n",
    "        \n",
    "        A = X\n",
    "        for j in range(depth_):\n",
    "            Z = tf.add(tf.matmul(A, sigma_w/lsizes[j]**0.5*Ws[i, j]), sigma_b*Bs[i, j])\n",
    "            A = activation(Z)\n",
    "            \n",
    "        Z_last = Z\n",
    "    \n",
    "        gradients = tape.gradient(Z_last, [Ws[i, j] for j in range(depth_)] + [Bs[i, j] for j in range(depth_)])\n",
    "    return Z_last, gradients\n",
    "\n",
    "\n",
    "def bootobj_extr(layer_, el1_, el2_):\n",
    "    A = np.zeros(Nboot)\n",
    "    B = np.zeros(Nboot)\n",
    "    for i in range(Nboot):\n",
    "        matrW = Ws[i, layer_]\n",
    "        A[i] = matrW[el1_, el2_]\n",
    "        vecB = Bs[i,layer_]\n",
    "        B[i] = vecB[el1_]\n",
    "    return A,B\n",
    "\n",
    "#Chosen law for the test of the NN\n",
    "def data_law(x_):\n",
    "    return np.sin(np.squeeze(x_))\n",
    "\n",
    "#Bootstrap Mean and Sigma\n",
    "def mean(arr):\n",
    "    return sum(arr)/len(arr)\n",
    "def std_dev(arr):\n",
    "    arr_mean = mean(arr)\n",
    "    return (sum([(i - arr_mean)**2 for i in arr]) / (len(arr)-1))**0.5"
   ]
  },
  {
   "cell_type": "markdown",
   "id": "ee890240",
   "metadata": {},
   "source": [
    "=======================================================================================\n",
    "\n",
    "\n",
    "<span style=\"color:blue; font-size:30px;\"> NN output computation </span>\n",
    "\n",
    "In this part of the code we define the dimension of the NN and the input parameters.Then, given a training input and a test input we compute the output of the NN at the initialization. We also extract the gradient in both cases. These gradients are necessary to compute the $\\Theta$s later in the code.\n",
    "\n",
    "If we call:\n",
    "\n",
    "$\\bullet N_0$: the input size;\n",
    "\n",
    "$\\bullet N_\\ell$ with $\\ell \\in [1,L]$: the number of neurons for the $\\ell$ hidden layer;\n",
    "\n",
    "$\\bullet N_{L+1}$: the number of output neurons;\n",
    "\n",
    "the number of parameters of the NN will be\n",
    "\n",
    "$N_{tot} = (N_0\\times N_1 + N_1) + (N_1\\times N_2 + N_2) + (N_2\\times N_3 + N_3) + ... + (N_{L}\\times N_{L+1} + N_{L+1}) =\\sum_{i=1}^{L+1} (N_{i-1}\\times N_{i} + N_{i})$\n",
    "\n",
    "\n",
    "where the $L+1$ layer is the output layer.\n",
    "\n",
    "If we have a NN with a monodimensional input $N_0=1$ and a monodimensional output $N_{L+1}=1$ and 3 hidden layers having 3 neurons each, $N_\\ell = 3$ for $\\ell \\in [1,L]$, then the number of parameters will be\n",
    "\n",
    "$N_{tot} = (1\\times 3 + 3) + (3\\times 3 + 3)\\times 2 + (3\\times 1 + 1) = 34$.\n",
    "\n",
    "Of course the gradient will be a vector of that dimension. If we have $S$ inputs the it will become a matrix $S \\times N_{tot}$.\n",
    "\n",
    "======================================================================================="
   ]
  },
  {
   "cell_type": "code",
   "execution_count": 91,
   "id": "ee522c07",
   "metadata": {},
   "outputs": [
    {
     "name": "stdout",
     "output_type": "stream",
     "text": [
      "The structure of the NN is:  [1 3 3 3 1]\n",
      "The number of parameters is:  34\n",
      "The number of initializations is:  100\n",
      "The number of input quantities is:  2\n",
      "The dimensions of the training and test data matrix are respectively (Nin, Nboot):  (2, 100) (2, 100)\n",
      "The dimensions of the training gradient and test are respectively (Nin, Nboot, Lpar):  (2, 100, 34) (2, 100, 34)\n"
     ]
    }
   ],
   "source": [
    "# Define the dimensions of the NN\n",
    "input_size = 1\n",
    "hidden_size = 3\n",
    "output_size = 1\n",
    "depth = 4 #the depth also contains the output layer\n",
    "Nboot = 100\n",
    "\n",
    "lsizes = np.concatenate(([input_size], np.repeat(hidden_size, depth-1), [output_size]))\n",
    "print('The structure of the NN is: ',lsizes)\n",
    "\n",
    "Lpar = input_size*hidden_size + (depth-2)*hidden_size**2 + (depth-1)*hidden_size + hidden_size*output_size + output_size\n",
    "\n",
    "print('The number of parameters is: ',Lpar)\n",
    "print('The number of initializations is: ',Nboot)\n",
    "\n",
    "# Define the net parameters\n",
    "sigma_b = 1.\n",
    "sigma_w = 1.\n",
    "\n",
    "#Define parameters of the Gaussian distribution\n",
    "STD = 0.08\n",
    "Mu = 0.5\n",
    "\n",
    "\n",
    "#Weights and biases generation\n",
    "Ws = np.empty((Nboot, depth), dtype=object)  \n",
    "Bs = np.empty((Nboot, depth), dtype=object)\n",
    "for i in range(Nboot):\n",
    "    for l in range(depth):\n",
    "        Ws[i, l], Bs[i, l] = initialization(lsizes[l], lsizes[l+1], Mu, STD, l)\n",
    "    \n",
    "# Input quantities\n",
    "Nin = 2\n",
    "X = tf.random.uniform(shape=(Nin,1,1), minval=1, maxval=200, dtype=tf.float32)\n",
    "xtest = tf.random.uniform(shape=(Nin,1,1), minval=1, maxval=200, dtype=tf.float32)\n",
    "    \n",
    "print('The number of input quantities is: ', Nin)\n",
    "    \n",
    "# We compute the output for each event for an input\n",
    "output_array = []\n",
    "output_array_test = []\n",
    "grads_array = np.array([])\n",
    "grads_array_test = np.array([])    \n",
    "for k in range(Nin):\n",
    "    for i in range (0, Nboot):\n",
    "        \n",
    "        Y, Grad = forward(X[k],i,tf.nn.relu, depth)\n",
    "        Y_test, Grad_test = forward(xtest[k],i,tf.nn.relu, depth)\n",
    "        output_array.append(Y.numpy()[0][0])\n",
    "        output_array_test.append(Y_test.numpy()[0][0])\n",
    "        \n",
    "        # Flattening e concatenation of derivatives for training and test\n",
    "        grads_np = np.concatenate([g.numpy().flatten() for g in Grad])  \n",
    "        grads_test_np = np.concatenate([g.numpy().flatten() for g in Grad_test])  \n",
    "        grads_array = np.vstack([grads_array, grads_np]) if grads_array.size else grads_np\n",
    "        grads_array_test = np.vstack([grads_array_test, grads_test_np]) if grads_array_test.size else grads_test_np \n",
    "\n",
    "\n",
    "output_array = np.array(output_array).reshape((Nin,Nboot))\n",
    "output_array_test =  np.array(output_array_test).reshape((Nin,Nboot))\n",
    "grads_array = grads_array.reshape((Nin,Nboot,int(grads_array[0,:].shape[0]))) \n",
    "grads_array_test = grads_array_test.reshape((Nin,Nboot,int(grads_array_test[0,:].shape[0]))) \n",
    "\n",
    "print('The dimensions of the training and test data matrix are respectively (Nin, Nboot): ', output_array.shape, output_array.shape)\n",
    "print('The dimensions of the training gradient and test are respectively (Nin, Nboot, Lpar): ', grads_array.shape, grads_array_test.shape)"
   ]
  },
  {
   "cell_type": "markdown",
   "id": "ecf0e61c",
   "metadata": {},
   "source": [
    "=======================================================================================\n",
    "\n",
    "\n",
    "<span style=\"color:blue; font-size:30px;\"> Input distributions histograms</span>\n",
    "\n",
    "\n",
    "We check the input distribution of weights and biases.\n",
    "\n",
    "=======================================================================================\n"
   ]
  },
  {
   "cell_type": "code",
   "execution_count": 92,
   "id": "a6fa22f3",
   "metadata": {},
   "outputs": [
    {
     "data": {
      "image/png": "[encoded data removed]",
      "text/plain": [
       "<Figure size 640x480 with 1 Axes>"
      ]
     },
     "metadata": {},
     "output_type": "display_data"
    },
    {
     "name": "stdout",
     "output_type": "stream",
     "text": [
      "Data don't follow a gaussian distribution.\n"
     ]
    },
    {
     "data": {
      "image/png": "[encoded data removed]",
      "text/plain": [
       "<Figure size 640x480 with 1 Axes>"
      ]
     },
     "metadata": {},
     "output_type": "display_data"
    },
    {
     "data": {
      "text/plain": [
       "<Figure size 640x480 with 0 Axes>"
      ]
     },
     "metadata": {},
     "output_type": "display_data"
    }
   ],
   "source": [
    "Whist, Bhist = bootobj_extr(1,1,1)\n",
    "\n",
    "\n",
    "# Print the input distributions of the weights and bias\n",
    "plt.hist(Bhist, bins=100)\n",
    "plt.xlabel('b1')\n",
    "plt.ylabel('Frequency')\n",
    "plt.title('Bias 1 input distribution')\n",
    "plt.savefig('Bias1.png')\n",
    "plt.show()\n",
    "\n",
    "# Test of the gaussianity\n",
    "stat, p = normaltest(Bhist)\n",
    "\n",
    "# Print the result of the test\n",
    "if p < 0.05:\n",
    "    print(\"Data don't follow a gaussian distribution.\")\n",
    "else:\n",
    "    print(\"Data follow a gaussian distribution.\")\n",
    "\n",
    "plt.clf()\n",
    "\n",
    "\n",
    "plt.hist(Whist, bins=100)\n",
    "plt.xlabel('W1')\n",
    "plt.ylabel('Frequency')\n",
    "plt.title('Weight 1 input distribution')\n",
    "plt.show()\n",
    "\n",
    "plt.clf()"
   ]
  },
  {
   "cell_type": "markdown",
   "id": "547bd91a",
   "metadata": {},
   "source": [
    "=======================================================================================\n",
    "\n",
    "\n",
    "<span style=\"color:blue; font-size:30px;\"> Output distribution histogram</span>\n",
    "\n",
    "\n",
    "We study the output distribution.\n",
    "\n",
    "\n",
    "======================================================================================="
   ]
  },
  {
   "cell_type": "code",
   "execution_count": 93,
   "id": "5141a2ba",
   "metadata": {},
   "outputs": [
    {
     "name": "stdout",
     "output_type": "stream",
     "text": [
      "Gaussian distribution.\n"
     ]
    },
    {
     "data": {
      "image/png": "[encoded data removed]",
      "text/plain": [
       "<Figure size 640x480 with 1 Axes>"
      ]
     },
     "metadata": {},
     "output_type": "display_data"
    },
    {
     "name": "stdout",
     "output_type": "stream",
     "text": [
      "Mean: 19.069546942496853\n",
      "Standard deviation: -2.414906873641762\n",
      "Amplitude: 1.9968789881818159\n"
     ]
    }
   ],
   "source": [
    "# Test of the gaussianity\n",
    "stat, p = normaltest(output_array[0])\n",
    "\n",
    "# Print the result of the test\n",
    "if p < 0.05:\n",
    "    string = \"No gaussian distribution.\" \n",
    "    print(string)\n",
    "else:\n",
    "    string = \"Gaussian distribution.\"\n",
    "    print(string)\n",
    "\n",
    "# Take parameters of our histogram\n",
    "counts, bins, _ = plt.hist(output_array[0], bins=100)\n",
    "\n",
    "ylim = max(counts)-10\n",
    "xlim = min(bins)\n",
    "xlim2 = max(bins)\n",
    "\n",
    "# Define the Gaussian function\n",
    "def gaussian(x, mu, sigma, A):\n",
    "    return A * np.exp(-(x - mu)**2 / (2 * sigma**2))\n",
    "\n",
    "\n",
    "# Plot the histogram and the fitted Gaussian function\n",
    "plt.clf()\n",
    "x = np.linspace(xlim, xlim2, 1000)\n",
    "plt.hist(output_array[0], bins=100, color ='blue')\n",
    "plt.xlabel('Output')\n",
    "plt.ylabel('Frequency')\n",
    "plt.suptitle('Output distribution and gaussian fit')\n",
    "plt.title('p='+ str(p))\n",
    "p0 = [(xlim+xlim2)/2, xlim2-xlim, 1]\n",
    "coeff, var_matrix = curve_fit(gaussian, bins[:-1], counts, p0=p0)\n",
    "plt.plot(x, gaussian(x, *coeff), 'r--', label='fit')    \n",
    "    \n",
    "#plt.text(xlim-3, ylim, 'L='+ str(hidden_size), fontsize=18)\n",
    "#plt.text(xlim-3, ylim, string, fontsize=8)\n",
    "plt.savefig('Output.png')\n",
    "plt.show()\n",
    "\n",
    "# Print gaussian parameters\n",
    "print(\"Mean:\", coeff[0])\n",
    "print(\"Standard deviation:\", coeff[1])\n",
    "print(\"Amplitude:\", coeff[2])"
   ]
  },
  {
   "cell_type": "markdown",
   "id": "424a1f88",
   "metadata": {},
   "source": [
    "=======================================================================================\n",
    "\n",
    "<span style=\"color:blue; font-size:30px;\"> Computation of the theta quantities </span>\n",
    "\n",
    "\n",
    "$\\hat{\\Theta}_0(\\mathcal{X},\\mathcal{X}) = \\theta = \\sum_{l=1}^{L+1}\\nabla_{\\theta^\\ell}f_0(\\mathcal{X})\\nabla_{\\theta^\\ell}f_0(\\mathcal{X})^T$\n",
    "\n",
    "$\\hat{\\Theta}_0(x,\\mathcal{X}) = \\theta_{test} = \\sum_{l=1}^{L+1}\\nabla_{\\theta^\\ell}f_0($x$)\\nabla_{\\theta^\\ell}f_0(\\mathcal{X})^T$ \n",
    "\n",
    "where $x$ is the test input value while $\\mathcal{X}$ is the training input value.\n",
    "\n",
    "The theta quantities are scalars in the space of the parameters $\\theta$ and matrices in the space of the input/output, namely \n",
    "\n",
    "$\\big[ \\Theta_0 \\big]_{n_1, n_2}^{i_{init}} = \\sum_{\\ell = 1}^{L_{par}} \\bigg[ \\nabla_\\theta f_0(\\mathcal{X}) \\bigg]_{\\ell, n_1}^{i_{init}} \\bigg[ \\nabla_\\theta f_0(\\mathcal{X}) \\bigg]_{n_2, \\ell}^{i_{init}} = \\begin{bmatrix}\n",
    "    \\Theta(\\mathcal{X}_1, \\mathcal{X}_1) & \\Theta(\\mathcal{X}_1, \\mathcal{X}_2) & ... & \\Theta(\\mathcal{X}_{N_{in}}, \\mathcal{X}_{N_in})) \\\\\n",
    "    ...  & ... &  ... & ... \\\\\n",
    "    \\Theta(\\mathcal{X}_{N_{in}}, \\mathcal{X}_1) & \\Theta(\\mathcal{X}_{N_{in}}, \\mathcal{X}_2) & ... & \\Theta(\\mathcal{X}_{N_{in}}, \\mathcal{X}_{N_{in}}) \\\\\n",
    "\\end{bmatrix}$, \n",
    "\n",
    "such that in the limit of large width this becomes the covariance matrix $K_{n_1,n_2}^{i_{boot}}$.\n",
    "\n",
    "======================================================================================="
   ]
  },
  {
   "cell_type": "code",
   "execution_count": 94,
   "id": "3098ba38",
   "metadata": {},
   "outputs": [
    {
     "name": "stdout",
     "output_type": "stream",
     "text": [
      "The shape of the theta quantities is (Nin, Nin, Nboot):  (2, 2, 100) (2, 2, 100)\n"
     ]
    }
   ],
   "source": [
    "#Theta computation\n",
    "theta = np.zeros((Nin, Nin, Nboot))\n",
    "for n1 in range(Nin):\n",
    "    for n2 in range(Nin):\n",
    "        for iboot in range(Nboot):\n",
    "            theta[n1,n2,iboot] = sum(grads_array[n1,iboot,i]*grads_array[n2,iboot,i] for i in range(int(grads_array[0,0,:].shape[0])))\n",
    "\n",
    "#Theta test computation\n",
    "theta_test = np.zeros((Nin, Nin, Nboot))\n",
    "for n1 in range(Nin):\n",
    "    for n2 in range(Nin):\n",
    "        for iboot in range(Nboot):\n",
    "            theta_test[n1,n2,iboot] = sum(grads_array_test[n1,iboot,i]*grads_array[n2,iboot,i] for i in range(int(grads_array[0,0,:].shape[0])))\n",
    "\n",
    "print('The shape of the theta quantities is (Nin, Nin, Nboot): ',theta.shape, theta_test.shape)"
   ]
  },
  {
   "cell_type": "markdown",
   "id": "f9503404",
   "metadata": {},
   "source": [
    "=======================================================================================\n",
    "\n",
    "<span style=\"color:blue; font-size:30px;\"> Definition of the ODE solutions for the training and the test </span>\n",
    "\n",
    "TRAINING:\n",
    "\n",
    "$\\omega_t = -\\nabla_\\theta f_0(\\mathcal{X})^T\\hat{\\Theta}_0^{-1}\\bigg(\\mathbb{I}-e^{-\\eta \\hat{\\Theta}_0 t}\\bigg)\\big(f_0(\\mathcal{X})-\\mathcal(Y)\\big),\\\\$\n",
    "$f_t^{lin}(\\mathcal{X}) = \\bigg(\\mathbb{I} - e^{-\\eta \\hat{\\Theta}_0 t}\\bigg)\\mathcal{Y}+e^{-\\eta \\hat{\\Theta}_0 t} f_0(\\mathcal{X}).$\n",
    "\n",
    "TEST:\n",
    "\n",
    "$f_t^{lin}(x) = \\mu_t(x) + \\gamma_t(x)$\n",
    "\n",
    "where\n",
    "\n",
    "$\\mu_t(x) = \\hat{\\Theta}_0(x,\\mathcal{X}) \\hat{\\Theta}_0^{-1} \\bigg(\\mathbb{I}-e^{-\\eta \\hat{\\Theta}_0 t}\\bigg) \\mathcal{Y},\\\\$\n",
    "$\\gamma_t(x) = f_0(x) - \\hat{\\Theta}_0(x,\\mathcal{X}) \\hat{\\Theta}_0^{-1} \\bigg(\\mathbb{I}-e^{-\\eta \\hat{\\Theta}_0 t}\\bigg) f_0(\\mathcal{X})$\n",
    "\n",
    "\n",
    "======================================================================================="
   ]
  },
  {
   "cell_type": "code",
   "execution_count": 95,
   "id": "83f7c9e4",
   "metadata": {
    "scrolled": true
   },
   "outputs": [
    {
     "name": "stdout",
     "output_type": "stream",
     "text": [
      "(2, 100) (2, 100)\n"
     ]
    }
   ],
   "source": [
    "def Train(grad_, theta_, eta_, t_, output_, Y_):\n",
    "    omega_t = -np.transpose(grad_)@(theta_**(-1))@(np.eye(len(Y_))-np.exp(-eta_*theta_*t_))*(output_ - Y_)\n",
    "    f_lin = (np.eye(len(Y_))-np.exp(-eta_*theta_*t_))@Y_ + np.exp(-eta_*theta_*t_)@output_\n",
    "    return omega_t, f_lin\n",
    "\n",
    "def Ver(theta_, theta_test_, eta_, t_, Y_, output_test_, output_):\n",
    "    mu_t = theta_test_@theta_**(-1)@(np.eye(len(Y_))-np.exp(-eta_*theta_*t_))@Y_\n",
    "    gamma_t = output_test_ - theta_@theta_**(-1)@(np.eye(len(Y_))-np.exp(-theta_*eta_*t_))@output_\n",
    "    flin_f = mu_t + gamma_t\n",
    "    return flin_f\n",
    "print(output_array.shape, output_array_test.shape)"
   ]
  },
  {
   "cell_type": "markdown",
   "id": "6bb6bb85",
   "metadata": {},
   "source": [
    "=======================================================================================\n",
    "\n",
    "<span style=\"color:blue; font-size:30px;\"> Computation of the training functions as a function of time $t$ for different bins </span>\n",
    "\n",
    "We expect that in the limit of large values of time the function tends to the value $\\mathcal{Y}$\n",
    "\n",
    "======================================================================================="
   ]
  },
  {
   "cell_type": "code",
   "execution_count": 96,
   "id": "72894b73",
   "metadata": {},
   "outputs": [
    {
     "name": "stdout",
     "output_type": "stream",
     "text": [
      "[0.58947015 0.991346  ] (2, 100, 34)\n",
      "(2, 100) 2\n",
      "(2, 34) (34, 2) (2, 100) (2,)\n",
      "(100, 250, 2)\n"
     ]
    },
    {
     "data": {
      "image/png": "[encoded data removed]",
      "text/plain": [
       "<Figure size 640x480 with 1 Axes>"
      ]
     },
     "metadata": {},
     "output_type": "display_data"
    }
   ],
   "source": [
    "# True value for our chosen law\n",
    "Y = np.zeros(Nin)\n",
    "for i in range(Nin):\n",
    "    Y[i] = data_law(X[i])\n",
    "print(Y, grads_array.shape)\n",
    "print(theta[:,0].shape, len(Y))\n",
    "\n",
    "# Bins of t\n",
    "Bins = np.arange(0,50,0.2)\n",
    "\n",
    "\n",
    "# Computation of flin for the training\n",
    "flin_tr = np.empty((Nboot, len(Bins), Nin))\n",
    "\n",
    "\n",
    "print(grads_array[:,0,:].shape, np.transpose(grads_array[:,0,:]).shape, theta[:,0].shape, output_array[:,0].shape)\n",
    "np.transpose(grads_array[:,0,:])@theta[:,0]**(-1)\n",
    "\n",
    "\n",
    "for i in range(Nboot):\n",
    "    for j in range(len(Bins)):\n",
    "        _, flin_tr[i,j,:] = Train(grads_array[:,i,:],theta[:,:,i], 0.00001, Bins[j], output_array[:,i], Y)\n",
    "        \n",
    "        \n",
    "        #flin_tr[i,j] = flin_tr_app\n",
    "print(flin_tr.shape)\n",
    "\n",
    "# Bootstrap mean and sigma\n",
    "flin_tr_mu = np.empty((len(Bins), Nin))\n",
    "flin_tr_s = np.empty((len(Bins), Nin))\n",
    "\n",
    "for j in range(Nin):\n",
    "    for i in range(len(Bins)):\n",
    "        flin_tr_mu[i,j] = mean(flin_tr[:,i,j])\n",
    "        flin_tr_s[i,j] = std_dev(flin_tr[:,i,j])\n",
    "    \n",
    "#print(flin_tr_mu , flin_tr_mu.shape, flin_tr_s.shape)\n",
    "\n",
    "\n",
    "# Plot of the shape as a function of t\n",
    "plt.errorbar(Bins[1:], flin_tr_mu[1:,1], yerr=flin_tr_s[1:,1], fmt='x', capsize=5)\n",
    "plt.axhline(y=Y[1], color='r', linestyle='--', label='True result Y')\n",
    "plt.legend()\n",
    "plt.xlabel('t')\n",
    "plt.ylabel('ft_lin')\n",
    "plt.show()"
   ]
  },
  {
   "cell_type": "markdown",
   "id": "71e674b6",
   "metadata": {},
   "source": [
    "=======================================================================================\n",
    "\n",
    "<span style=\"color:blue; font-size:30px;\"> Computation of the test functions as a function of time $t$ for different bins </span>\n",
    "\n",
    "\n",
    "======================================================================================="
   ]
  },
  {
   "cell_type": "code",
   "execution_count": 97,
   "id": "fd28f35b",
   "metadata": {
    "scrolled": false
   },
   "outputs": [
    {
     "data": {
      "image/png": "[encoded data removed]",
      "text/plain": [
       "<Figure size 640x480 with 1 Axes>"
      ]
     },
     "metadata": {},
     "output_type": "display_data"
    },
    {
     "name": "stdout",
     "output_type": "stream",
     "text": [
      "[0.58947015 0.991346  ] [14.075639 16.500332 21.205534 21.640265 17.003214 18.196745 18.311073\n",
      " 20.909554 19.263783 20.840876 18.546219 18.31194  16.371712 17.365423\n",
      " 16.343708 17.650892 18.834436 21.196281 20.962667 16.968191 17.36504\n",
      " 22.787682 18.896791 21.020905 20.049677 19.356195 18.195827 17.952978\n",
      " 16.201548 20.093004 17.172487 20.253115 19.931925 20.800821 20.842384\n",
      " 21.72491  14.347287 16.04119  19.442896 21.465473 20.087702 15.205549\n",
      " 15.287518 18.348179 12.734184 17.437654 20.626442 17.608942 15.68264\n",
      " 19.145052 19.547262 18.446571 21.275469 15.010955 13.963418 19.38375\n",
      " 22.44343  21.483559 17.388247 17.491852 20.85712  14.389852 17.91538\n",
      " 18.351387 19.978615 20.492785 15.454999 19.382654 22.470758 19.75102\n",
      " 20.307232 24.56424  15.913043 22.677494 18.38567  16.874872 20.24812\n",
      " 18.558933 19.090618 19.16775  19.556093 19.597572 20.044348 23.255198\n",
      " 18.77317  23.07602  18.0074   18.341179 21.382254 22.393883 15.607263\n",
      " 21.469707 24.788353 20.640032 16.768599 20.064547 18.05615  17.631472\n",
      " 20.849865 18.50222 ]\n",
      "tf.Tensor(\n",
      "[[[194.67917]]\n",
      "\n",
      " [[147.2185 ]]], shape=(2, 1, 1), dtype=float32)\n"
     ]
    },
    {
     "data": {
      "image/png": "[encoded data removed]",
      "text/plain": [
       "<Figure size 640x480 with 1 Axes>"
      ]
     },
     "metadata": {},
     "output_type": "display_data"
    }
   ],
   "source": [
    "flin = np.empty((Nboot, len(Bins), Nin))\n",
    "for i in range(Nboot):\n",
    "    for j in range(len(Bins)):\n",
    "        flin[i,j,:] = Ver(theta[:,:,i], theta_test[:,:,i], 0.00001, Bins[j], Y, output_array_test[:,i], output_array[:,i])\n",
    "        \n",
    "\n",
    "#print(theta_test[0]/theta[0], theta_test[0], theta[0])\n",
    "        \n",
    "plt.hist(flin[:,88,0], bins=100)\n",
    "plt.xlabel('flin')\n",
    "plt.ylabel('Frequency')\n",
    "plt.title('')\n",
    "plt.show()\n",
    "\n",
    "print(Y, output_array[0])\n",
    "\n",
    "flin_mu = np.empty((len(Bins), Nin))\n",
    "flin_s = np.empty((len(Bins), Nin))\n",
    "for i in range(len(Bins)):\n",
    "    for j in range(Nin):\n",
    "        flin_mu[i,j] = mean(flin[:,i,j])\n",
    "        flin_s[i,j] = std_dev(flin[:,i,j])\n",
    "\n",
    "print(xtest)\n",
    "Y2 = data_law(xtest.numpy())\n",
    "\n",
    "plt.errorbar(Bins, flin_mu[:,0], yerr=flin_s[:,0], fmt='x', capsize=5)\n",
    "plt.axhline(Y2[0], color='r', linestyle='--', label='True result')\n",
    "plt.legend()\n",
    "plt.xlabel('t')\n",
    "plt.ylabel('ft_lin')\n",
    "plt.show()"
   ]
  },
  {
   "cell_type": "markdown",
   "id": "77913603",
   "metadata": {},
   "source": [
    "### Experiment\n",
    "\n",
    "Construct a neural network which simulates the interpolate function $x(\\alpha) = \\alpha x^{(1)} + (1-\\alpha) x^{(2)}$; then, we average the results under 100 NNs"
   ]
  },
  {
   "cell_type": "code",
   "execution_count": 3,
   "id": "0c15eef3",
   "metadata": {},
   "outputs": [],
   "source": [
    "from tqdm import tqdm\n",
    "Nin = 100\n",
    "Nout = 100\n",
    "\n",
    "xx1 = tf.constant(-1., shape=(Nin, 1, 1), dtype=tf.float32)\n",
    "xx2 = tf.constant(1., shape=(Nin, 1, 1), dtype=tf.float32)\n",
    "\n",
    "def interp(_alpha):\n",
    "    condition1 = tf.logical_and(_alpha <= 1, _alpha >= 0)\n",
    "    condition2 = _alpha > 1\n",
    "    condition3 = _alpha < 0\n",
    "    \n",
    "    result = tf.where(condition1, _alpha * xx1 + (1 - _alpha) * xx2, tf.where(condition2, xx1, xx2))\n",
    "    return result\n",
    "\n",
    "alpha_out = tf.random.uniform(shape=(Nout,1,1), minval=-2, maxval=3, dtype=tf.float32)\n",
    "\n",
    "#print(x_train)\n",
    "#sys.exit()\n",
    "\n",
    "sigma_w = np.sqrt(1.5)\n",
    "sigma_b = 1.\n",
    "Mu = 0.\n",
    "STD = 1.\n",
    "Nboot = 10\n",
    "depth = 3\n",
    "input_size = 1\n",
    "hidden_size = 32\n",
    "output_size = 1\n",
    "eta = 0.5\n",
    "\n",
    "\n",
    "# Numb of train epochs\n",
    "num_epochs = 1000\n",
    "\n",
    "lsizes = np.concatenate(([input_size], np.repeat(hidden_size, depth-1), [output_size]))\n",
    "#print(lsizes)\n",
    "\n",
    "#loss_fun = tf.losses.mean_squared_error()\n",
    "\n",
    "# obser_sum = [mean output net, dev_std output net, loss]\n",
    "obser_sum = np.ndarray(shape=(num_epochs, 3, Nout, Nboot), dtype=float, buffer=np.zeros((num_epochs, 3, Nout, Nboot)))"
   ]
  },
  {
   "cell_type": "code",
   "execution_count": 98,
   "id": "bd6bcd06",
   "metadata": {},
   "outputs": [
    {
     "name": "stderr",
     "output_type": "stream",
     "text": [
      "Progress: 100%|█████████████████████████████████████████████████████| 10/10 [01:10<00:00,  7.03s/it]\n"
     ]
    }
   ],
   "source": [
    "for i in tqdm(range(Nboot), desc=\"Progress\", ncols=100):\n",
    "    \n",
    "    alpha_train = tf.random.uniform(shape=(Nin,1,1), minval=-2, maxval=3, dtype=tf.float32)\n",
    "    #alpha_train = tf.constant([[[0]], [[1]]], shape=(2, 1, 1), dtype=tf.float32)\n",
    "    x_train = interp(alpha_train)\n",
    "    \n",
    "    for l in range(depth):\n",
    "        Ws[i, l], Bs[i, l] = initialization(lsizes[l], lsizes[l+1], Mu, STD / lsizes[l]**0.5, l)\n",
    "        #print(l, Ws[i,l].shape)\n",
    "\n",
    "    # Optimizer definition \n",
    "    optimizer = tf.keras.optimizers.Adam()\n",
    "\n",
    "    # Train function\n",
    "    @tf.function\n",
    "    def train_step(X, Y):\n",
    "        with tf.GradientTape() as tape:\n",
    "            Z, gradients = forward(X, i, tf.nn.tanh, depth)\n",
    "            loss = tf.losses.mean_squared_error(Z, x_train)  # Define loss func using Z and x_train\n",
    "\n",
    "        variables = [param for param in [Ws[i, j] for j in range(depth)] + [Bs[i, j] for j in range(depth)]]\n",
    "        gradients = tape.gradient(loss, variables)\n",
    "        #eta_tf = tf.fill(tf.shape(gradients), eta)\n",
    "        gradients2 = [gradients[i]*eta for i in range(len(gradients))] \n",
    "        #gradients_yy = tf.multiply(eta, gradients)\n",
    "        optimizer.apply_gradients(zip(gradients2, variables))\n",
    "\n",
    "        return Z, loss\n",
    "\n",
    "    # Train cycle\n",
    "    for epoch in range(num_epochs):\n",
    "        Z, loss = train_step(alpha_train, x_train)\n",
    "        loss_value = tf.reduce_mean(loss)\n",
    "        \n",
    "        Z, _ = forward(alpha_out, i, tf.nn.tanh, depth)\n",
    "        Z2 = tf.square(Z)\n",
    "        #print(Z.numpy())\n",
    "        obser_sum[epoch, 0, :, i] = np.reshape(Z.numpy(), (Nout,) )\n",
    "        obser_sum[epoch, 1, :, i] = np.reshape(Z2.numpy(), (Nout,) )\n",
    "        #obser_sum[epoch, 2, :, i] = np.reshape(loss.numpy(), (Nout,) )\n",
    "alpha_np = alpha_train.numpy()"
   ]
  },
  {
   "cell_type": "code",
   "execution_count": 99,
   "id": "40341fb4",
   "metadata": {},
   "outputs": [
    {
     "name": "stdout",
     "output_type": "stream",
     "text": [
      "[0.02771747 0.01106497 0.02514015 0.02795169 0.01024261 0.0066135\n",
      " 0.01135112 0.02798144 0.02678286 0.02793481 0.02156991 0.01509165\n",
      " 0.00664178 0.01488639 0.02584006 0.00874622 0.0068123  0.00959275\n",
      " 0.01825264 0.01213083 0.00952881 0.00672953 0.0209638  0.00830272\n",
      " 0.01022294 0.0081356  0.01789886 0.01609621 0.01002803 0.03384762\n",
      " 0.02210847 0.02949178 0.01533477 0.00889087 0.00690587 0.0338956\n",
      " 0.01159207 0.00680088 0.02810455 0.02682667 0.00938963 0.00987996\n",
      " 0.00834713 0.02811655 0.01361732 0.00664682 0.02175221 0.01116185\n",
      " 0.01403906 0.01285568 0.00696939 0.00682804 0.02147857 0.00660698\n",
      " 0.00956951 0.01055974 0.0277114  0.0083464  0.01110317 0.01390663\n",
      " 0.02800959 0.01340354 0.01137023 0.01126713 0.00927787 0.01535016\n",
      " 0.01426947 0.0109198  0.02797474 0.01826957 0.00697252 0.00775046\n",
      " 0.01286513 0.00657972 0.01163036 0.01139089 0.01645386 0.01068838\n",
      " 0.01035718 0.01301596 0.00960902 0.00697555 0.00663295 0.01902709\n",
      " 0.01973537 0.00696913 0.00658309 0.01763372 0.02794155 0.01298964\n",
      " 0.01125884 0.00738716 0.01927978 0.01787491 0.01161449 0.0272891\n",
      " 0.01807861 0.00740437 0.03365011 0.00867705]\n"
     ]
    },
    {
     "data": {
      "image/png": "[encoded data removed]",
      "text/plain": [
       "<Figure size 640x480 with 1 Axes>"
      ]
     },
     "metadata": {},
     "output_type": "display_data"
    }
   ],
   "source": [
    "xx1 = tf.constant(-1., shape=(Nout, 1, 1), dtype=tf.float32)\n",
    "xx2 = tf.constant(1., shape=(Nout, 1, 1), dtype=tf.float32)\n",
    "\n",
    "alpha_np = alpha_out.numpy()\n",
    "alpha_np = np.reshape(alpha_out, (Nout,))\n",
    "\n",
    "x_np = interp(alpha_out)\n",
    "x_np = np.reshape(x_np.numpy(), (Nout,))\n",
    "epoch_fix = 999\n",
    "\n",
    "y = np.array([0.]*len(alpha_np))\n",
    "erry = np.array([0.]*len(alpha_np))\n",
    "\n",
    "for i in range(len(alpha_np)):\n",
    "    y[i] = mean(obser_sum[epoch_fix, 0, i, :])\n",
    "    erry[i] = np.sqrt(mean(obser_sum[epoch_fix, 1, i, :]) - y[i]**2.)#std_dev(Nboot*obser_sum[epoch_fix, 0, i, :])\n",
    "\n",
    "print(erry)\n",
    "\n",
    "#print(mean(obser_sum[epoch_fix, 0, 0, :]), std_dev(obser_sum[epoch_fix, 0, 0, :])*Nboot**0.5, (mean(obser_sum[epoch_fix, 1, 0, :]) - mean(obser_sum[epoch_fix, 0, 0, :])**2.)**0.5)\n",
    "\n",
    "#err = np.sqrt(obser_sum[epoch_fix, 1, :] - obser_sum[epoch_fix, 0, :]**2.)\n",
    "#print(alpha_np[0:5], x_np[0:5], obser_sum[400, 0, 0:5], obser_sum[400, 2, 0:5])\n",
    "plt.errorbar(alpha_np, y, yerr=2.*erry, fmt = '.', capsize=1)\n",
    "plt.errorbar(alpha_np, x_np, fmt = '.', capsize=1)\n",
    "plt.errorbar(np.reshape(alpha_train.numpy(), (Nin, )), np.reshape(x_train.numpy(), (Nin,)), fmt = 'o', capsize=30)\n",
    "plt.show()\n",
    "\n",
    "# PUT THE BIAS AT ZERO AND CHANGE THE DEV_STD\n"
   ]
  },
  {
   "cell_type": "markdown",
   "id": "5d8ade4b",
   "metadata": {},
   "source": [
    "#### Definition of the ${\\cal T}$ and $\\dot{\\cal T}$\n",
    "\n",
    "For the activation function $\\phi = {\\rm erf}$, we have:"
   ]
  },
  {
   "cell_type": "code",
   "execution_count": 2,
   "id": "dc7595b6",
   "metadata": {},
   "outputs": [],
   "source": [
    "from scipy.linalg import fractional_matrix_power\n",
    "'''\n",
    "def Sigma(arr1, arr2):\n",
    "    Sigma = np.ndarray(shape = (2,2))\n",
    "    Sigma[0,0] = np.dot(arr1,arr1)\n",
    "    Sigma[0,1] = np.dot(arr1,arr2)\n",
    "    Sigma[1,0] = Sigma[0,1]\n",
    "    Sigma[1,1] = np.dot(arr2,arr2)\n",
    "    return Sigma\n",
    "\n",
    "def calT(Sigma):\n",
    "    #calTp = 4./ np.pi / np.sqrt(np.linalg.det(eye(2) + 2*Sigma))\n",
    "    calT = 2./np.pi * np.arcsin( 2.* Sigma[0,1] / np.sqrt((1+2*Sigma[0,0])*(1+2*Sigma[1,1])))\n",
    "    return calT#, calTp\n",
    "'''\n",
    "\n",
    "def mathT(a, b, c, d):\n",
    "    return 2./np.pi * np.arcsin( 2.* b / np.sqrt((1+2*a)*(1+2*d)))\n",
    "\n",
    "def mathTp(a, b, c, d):\n",
    "    #det = a*c - b*d\n",
    "    auxMat = np.empty((2,2))\n",
    "    auxMat[0,0] = a\n",
    "    auxMat[0,1] = b\n",
    "    auxMat[1,0] = c\n",
    "    auxMat[1,1] = d\n",
    "    return 4./ np.pi * np.linalg.det(fractional_matrix_power(np.eye(2) + 2*auxMat, -1./2.))\n",
    "    #return 4./ np.pi / (np.linalg.det(np.eye(2) + 2*auxMat))**2."
   ]
  },
  {
   "cell_type": "markdown",
   "id": "12d6dc65",
   "metadata": {},
   "source": [
    "For the activation function ReLU $\\phi(x) = \\max(x, 0)$, we have:"
   ]
  },
  {
   "cell_type": "code",
   "execution_count": 3,
   "id": "031619d5",
   "metadata": {},
   "outputs": [],
   "source": [
    "def mathT(a, b, c, d):\n",
    "    a = np.linalg.norm(a)\n",
    "    d = np.linalg.norm(d)\n",
    "    fact_or = b/np.sqrt(a*d)\n",
    "    output = np.sin(np.arccos(fact_or)) + (np.pi - np.arccos(fact_or))*fact_or\n",
    "    return 1./2./np.pi * np.sqrt(a*d) * output\n",
    "\n",
    "\n",
    "def mathTp(a, b, c, d):\n",
    "    a = np.linalg.norm(a)\n",
    "    d = np.linalg.norm(d)\n",
    "    return 1./2./np.pi * (np.pi - np.arccos(b/np.sqrt(a*d)))"
   ]
  },
  {
   "cell_type": "markdown",
   "id": "07d30ab7",
   "metadata": {},
   "source": [
    "The expression ${\\cal K}^\\ell$ indicates a set of function applied at each $\\ell$ layer. Therefore, the ${\\cal K}^{L+1}$ corresponds ${\\cal K}$.\n",
    "\n",
    "#### Computing NTK and NNGP Kernel\n",
    "\n",
    "Definition of the NNGP kernel ${\\cal K}$ and the tangent kernel ${\\cal \\Theta}$ using the Eqs. (S26, S27) and Eq. (S35)"
   ]
  },
  {
   "cell_type": "code",
   "execution_count": 4,
   "id": "5597023c",
   "metadata": {},
   "outputs": [],
   "source": [
    "def Kappa(arr1, arr2, l_index, sigma_w, sigma_b, n0):\n",
    "    if l_index == 1:\n",
    "        return np.dot(arr1,arr2)/n0*sigma_w**2. + sigma_b**2.\n",
    "    else:\n",
    "        T11 = Kappa(arr1, arr1, l_index-1, sigma_w, sigma_b, n0)\n",
    "        T12 = Kappa(arr1, arr2, l_index-1, sigma_w, sigma_b, n0)\n",
    "        T21 = T12\n",
    "        T22 = Kappa(arr2, arr2, l_index-1, sigma_w, sigma_b, n0)\n",
    "        return sigma_w**2.*mathT(T11, T12, T21, T22) + sigma_b**2.\n",
    "\n",
    "    \n",
    "    \n",
    "def Theta(arr1, arr2, l_index, sigma_w, sigma_b, n0):\n",
    "    if l_index == 1:\n",
    "        return np.dot(arr1,arr2)/n0*sigma_w**2. + sigma_b**2.\n",
    "    else:\n",
    "        T11 = Kappa(arr1, arr1, l_index-1, sigma_w, sigma_b, n0)\n",
    "        T12 = Kappa(arr1, arr2, l_index-1, sigma_w, sigma_b, n0)\n",
    "        T21 = T12\n",
    "        T22 = Kappa(arr2, arr2, l_index-1, sigma_w, sigma_b, n0)\n",
    "        return sigma_w**2.*mathTp(T11, T12, T21, T22)*Theta(arr1, arr2, l_index-1, sigma_w, sigma_b, n0)"
   ]
  },
  {
   "cell_type": "markdown",
   "id": "974dca6b",
   "metadata": {},
   "source": [
    "### NNGP\n",
    "\n",
    "Writing the mean value and the variance of the output throughout training which converges to a Gaussian distribution from Eqs (S22) and (S23)"
   ]
  },
  {
   "cell_type": "code",
   "execution_count": 5,
   "id": "3a389e44",
   "metadata": {},
   "outputs": [],
   "source": [
    "from scipy.linalg import expm\n",
    "\n",
    "def distribNNGP(time, x, input_train, output_train, eta, n_layer, sigma_w, sigma_b, n0):\n",
    "    tdim = len(input_train)\n",
    "    Kxx = Kappa(x, x, n_layer+1, sigma_w, sigma_b, n0)\n",
    "    KxCalX = np.empty((tdim))\n",
    "    KCalXCalX = np.empty((tdim, tdim))\n",
    "    \n",
    "    for index, elem in enumerate(input_train):\n",
    "        KxCalX[index] = Kappa(x, elem, n_layer+1, sigma_w, sigma_b, n0)\n",
    "        for jndex in range(index,tdim):\n",
    "            KCalXCalX[index, jndex] = Kappa(elem, input_train[jndex], n_layer+1, sigma_w, sigma_b, n0)\n",
    "            KCalXCalX[jndex, index] = KCalXCalX[index, jndex]\n",
    "            \n",
    "    K_inverse = np.linalg.inv(KCalXCalX)\n",
    "    Aux = expm(-eta*KCalXCalX*time)\n",
    "    Aux1 = np.eye(tdim) - np.matmul(Aux,Aux)\n",
    "    Aux = np.eye(tdim) - Aux\n",
    "    #print(Aux, output_train)\n",
    "    mean = np.matmul(KxCalX, np.matmul(K_inverse, np.matmul(Aux, output_train)))\n",
    "    variance = Kxx - np.matmul(KxCalX, np.matmul(K_inverse, np.matmul(Aux1, KxCalX)))\n",
    "    \n",
    "    return mean, np.sqrt(np.linalg.norm(variance))\n",
    "    "
   ]
  },
  {
   "cell_type": "markdown",
   "id": "149a86ab",
   "metadata": {},
   "source": [
    "### NKT GP\n",
    "Using the Eqs. (14, 15)"
   ]
  },
  {
   "cell_type": "code",
   "execution_count": 6,
   "id": "e628997f",
   "metadata": {},
   "outputs": [],
   "source": [
    "def distribNKTgp(time, x, input_train, output_train, eta, n_layer, sigma_w, sigma_b, n0):\n",
    "    tdim = len(input_train)\n",
    "    Kxx = Kappa(x, x, n_layer+1, sigma_w, sigma_b, n0)\n",
    "    KxCalX = np.empty((tdim))\n",
    "    TxCalX = np.empty((tdim))\n",
    "    KCalXCalX = np.empty((tdim, tdim))\n",
    "    TCalXCalX = np.empty((tdim, tdim))\n",
    "    \n",
    "    for index, elem in enumerate(input_train):\n",
    "        KxCalX[index] = Kappa(x, elem, n_layer+1, sigma_w, sigma_b, n0)\n",
    "        TxCalX[index] = Theta(x, elem, n_layer+1, sigma_w, sigma_b, n0)\n",
    "        for jndex in range(index,tdim):\n",
    "            KCalXCalX[index, jndex] = Kappa(elem, input_train[jndex], n_layer+1, sigma_w, sigma_b, n0)\n",
    "            KCalXCalX[jndex, index] = KCalXCalX[index, jndex]\n",
    "            TCalXCalX[index, jndex] = Theta(elem, input_train[jndex], n_layer+1, sigma_w, sigma_b, n0)\n",
    "            TCalXCalX[jndex, index] = TCalXCalX[index, jndex]\n",
    "\n",
    "    T_inverse = np.linalg.inv(TCalXCalX)\n",
    "    Aux = np.eye(tdim) - expm(-eta*TCalXCalX*time)\n",
    "    \n",
    "    mean = np.matmul(TxCalX, np.matmul(T_inverse, np.matmul(Aux, output_train)))\n",
    "    variance = Kxx + np.matmul(TxCalX, np.matmul(T_inverse, np.matmul(Aux, np.matmul(KCalXCalX, np.matmul(Aux, np.matmul(T_inverse, TxCalX))))))\n",
    "    vaux = np.matmul(TxCalX, np.matmul(T_inverse, np.matmul(Aux, KxCalX)))\n",
    "    variance -= vaux + np.conj(vaux)\n",
    "    return mean, np.sqrt(variance)"
   ]
  },
  {
   "cell_type": "markdown",
   "id": "325e2cb7",
   "metadata": {},
   "source": [
    "## Experiment\n",
    "\n",
    "<span style=\"color:red;\">ATTENTION: using different activation function the training initial data can lead to a non valid value error, then, for the moment, relunch the code, in the case we select the tf.random.generator_array</span>\n",
    "\n",
    "<span style='color:purple;'>ATTENTION: instead, if you use the np.random.array, only the ${\\rm ReLU}$ activation function formulas converge.<br>\n",
    "<u>**IN THIS CASE, ALL WORK !!!**</u></span>\n",
    "\n"
   ]
  },
  {
   "cell_type": "code",
   "execution_count": 11,
   "id": "a91ebce3",
   "metadata": {},
   "outputs": [],
   "source": [
    "Nin = 150\n",
    "Nout = 100\n",
    "\n",
    "xx1 = -1\n",
    "xx2 = 1\n",
    "\n",
    "def interp_np(_alpha):\n",
    "    condition1 = tf.logical_and(_alpha <= 1, _alpha >= 0)\n",
    "    condition2 = _alpha > 1\n",
    "    condition3 = _alpha < 0\n",
    "    \n",
    "    result = np.where(condition1, _alpha * xx1 + (1 - _alpha) * xx2, tf.where(condition2, xx1, xx2))\n",
    "    return result\n",
    "\n",
    "#print(x_train)CASE\n",
    "#sys.exit()\n",
    "\n",
    "sigma_w = np.sqrt(1.5)\n",
    "sigma_b = 1.\n",
    "Mu = 0.\n",
    "STD = 1.\n",
    "Nboot = 10\n",
    "depth = 3\n",
    "input_size = 1\n",
    "hidden_size = 32\n",
    "output_size = 1\n",
    "eta = 0.1\n",
    "n0 = 1\n",
    "\n",
    "'''\n",
    "xx1 = tf.constant(-1., shape=(Nin, 1, 1), dtype=tf.float32)\n",
    "xx2 = tf.constant(1., shape=(Nin, 1, 1), dtype=tf.float32)\n",
    "\n",
    "alpha_train = tf.random.uniform(shape=(Nin,1,1), minval=-2, maxval=3, dtype=tf.float32)\n",
    "#alpha_train = tf.constant([[[0]], [[1]]], shape=(2, 1, 1), dtype=tf.float32)\n",
    "x_train = interp(alpha_train)\n",
    "\n",
    "alpha_train_np = alpha_train.numpy()\n",
    "x_train_np = np.reshape(x_train.numpy(), (Nin,))\n",
    "\n",
    "xx1 = tf.constant(-1., shape=(Nout, 1, 1), dtype=tf.float32)\n",
    "xx2 = tf.constant(1., shape=(Nout, 1, 1), dtype=tf.float32)\n",
    "\n",
    "alpha_out = tf.random.uniform(shape=(Nout,1,1), minval=-2, maxval=3, dtype=tf.float32)\n",
    "x_out = interp(alpha_out)\n",
    "\n",
    "alpha_out_np = alpha_out.numpy()\n",
    "alpha_out_np = np.reshape(alpha_out_np, (Nout,))\n",
    "\n",
    "x_out_np = np.reshape(x_out.numpy(), (Nout,))\n",
    "'''\n",
    "\n",
    "alpha_train_np = np.random.uniform(-2, 3, Nin)\n",
    "#alpha_train = tf.constant([[[0]], [[1]]], shape=(2, 1, 1), dtype=tf.float32)\n",
    "x_train_np = interp_np(alpha_train_np)\n",
    "\n",
    "alpha_out_np = np.random.uniform(-2, 3, Nout)\n",
    "x_out = interp_np(alpha_out_np)\n",
    "\n",
    "#print(x_train_np)"
   ]
  },
  {
   "cell_type": "code",
   "execution_count": 15,
   "id": "9a684038",
   "metadata": {},
   "outputs": [
    {
     "name": "stdout",
     "output_type": "stream",
     "text": [
      "-0.19999999999999996\n"
     ]
    }
   ],
   "source": [
    "#time = 90\n",
    "alpha_test = np.array([0.6])\n",
    "print(interp_np(alpha_test)[0])"
   ]
  },
  {
   "cell_type": "code",
   "execution_count": 16,
   "id": "8fb0cdea",
   "metadata": {},
   "outputs": [
    {
     "name": "stdout",
     "output_type": "stream",
     "text": [
      "(-0.2000341003888202, 0.0016180061731243727)\n"
     ]
    }
   ],
   "source": [
    "time = 1200000\n",
    "print(distribNKTgp(time, alpha_test, alpha_train_np, x_train_np, eta, depth, sigma_w, sigma_b, n0))"
   ]
  },
  {
   "cell_type": "code",
   "execution_count": 17,
   "id": "a91789ed",
   "metadata": {},
   "outputs": [
    {
     "name": "stdout",
     "output_type": "stream",
     "text": [
      "(-0.19991922840345033, 0.013529258427796264)\n"
     ]
    }
   ],
   "source": [
    "print(distribNNGP(time, alpha_test, alpha_train_np, x_train_np, eta, depth, sigma_w, sigma_b, n0))"
   ]
  },
  {
   "cell_type": "code",
   "execution_count": 19,
   "id": "af239f72",
   "metadata": {},
   "outputs": [
    {
     "ename": "KeyboardInterrupt",
     "evalue": "",
     "output_type": "error",
     "traceback": [
      "\u001b[0;31m---------------------------------------------------------------------------\u001b[0m",
      "\u001b[0;31mKeyboardInterrupt\u001b[0m                         Traceback (most recent call last)",
      "Cell \u001b[0;32mIn[19], line 40\u001b[0m\n\u001b[1;32m     36\u001b[0m animation \u001b[38;5;241m=\u001b[39m FuncAnimation(fig, update, frames\u001b[38;5;241m=\u001b[39m\u001b[38;5;241m100\u001b[39m)  \u001b[38;5;66;03m# Update plot every 100 milliseconds\u001b[39;00m\n\u001b[1;32m     39\u001b[0m \u001b[38;5;28;01mfor\u001b[39;00m i \u001b[38;5;129;01min\u001b[39;00m \u001b[38;5;28mrange\u001b[39m(\u001b[38;5;241m100\u001b[39m):\n\u001b[0;32m---> 40\u001b[0m     \u001b[43manimation\u001b[49m\u001b[38;5;241;43m.\u001b[39;49m\u001b[43m_func\u001b[49m\u001b[43m(\u001b[49m\u001b[43mi\u001b[49m\u001b[43m)\u001b[49m\n\u001b[1;32m     41\u001b[0m     display(fig)\n\u001b[1;32m     42\u001b[0m     clear_output(wait\u001b[38;5;241m=\u001b[39m\u001b[38;5;28;01mTrue\u001b[39;00m)\n",
      "Cell \u001b[0;32mIn[19], line 20\u001b[0m, in \u001b[0;36mupdate\u001b[0;34m(frame)\u001b[0m\n\u001b[1;32m     16\u001b[0m \u001b[38;5;28;01mdef\u001b[39;00m \u001b[38;5;21mupdate\u001b[39m(frame):\n\u001b[1;32m     18\u001b[0m     \u001b[38;5;28;01mglobal\u001b[39;00m ttime\n\u001b[0;32m---> 20\u001b[0m     mean, st_dd \u001b[38;5;241m=\u001b[39m \u001b[43mdistribNKTgp\u001b[49m\u001b[43m(\u001b[49m\u001b[43mttime\u001b[49m\u001b[43m,\u001b[49m\u001b[43m \u001b[49m\u001b[43malpha_test\u001b[49m\u001b[43m,\u001b[49m\u001b[43m \u001b[49m\u001b[43malpha_train_np\u001b[49m\u001b[43m,\u001b[49m\u001b[43m \u001b[49m\u001b[43mx_train_np\u001b[49m\u001b[43m,\u001b[49m\u001b[43m \u001b[49m\u001b[43meta\u001b[49m\u001b[43m,\u001b[49m\u001b[43m \u001b[49m\u001b[43mdepth\u001b[49m\u001b[43m,\u001b[49m\u001b[43m \u001b[49m\u001b[43msigma_w\u001b[49m\u001b[43m,\u001b[49m\u001b[43m \u001b[49m\u001b[43msigma_b\u001b[49m\u001b[43m,\u001b[49m\u001b[43m \u001b[49m\u001b[43mn0\u001b[49m\u001b[43m)\u001b[49m\n\u001b[1;32m     21\u001b[0m     xvalues\u001b[38;5;241m.\u001b[39mappend(mean)\n\u001b[1;32m     22\u001b[0m     err_xval\u001b[38;5;241m.\u001b[39mappend(st_dd)\n",
      "Cell \u001b[0;32mIn[6], line 13\u001b[0m, in \u001b[0;36mdistribNKTgp\u001b[0;34m(time, x, input_train, output_train, eta, n_layer, sigma_w, sigma_b, n0)\u001b[0m\n\u001b[1;32m     11\u001b[0m TxCalX[index] \u001b[38;5;241m=\u001b[39m Theta(x, elem, n_layer\u001b[38;5;241m+\u001b[39m\u001b[38;5;241m1\u001b[39m, sigma_w, sigma_b, n0)\n\u001b[1;32m     12\u001b[0m \u001b[38;5;28;01mfor\u001b[39;00m jndex \u001b[38;5;129;01min\u001b[39;00m \u001b[38;5;28mrange\u001b[39m(index,tdim):\n\u001b[0;32m---> 13\u001b[0m     KCalXCalX[index, jndex] \u001b[38;5;241m=\u001b[39m \u001b[43mKappa\u001b[49m\u001b[43m(\u001b[49m\u001b[43melem\u001b[49m\u001b[43m,\u001b[49m\u001b[43m \u001b[49m\u001b[43minput_train\u001b[49m\u001b[43m[\u001b[49m\u001b[43mjndex\u001b[49m\u001b[43m]\u001b[49m\u001b[43m,\u001b[49m\u001b[43m \u001b[49m\u001b[43mn_layer\u001b[49m\u001b[38;5;241;43m+\u001b[39;49m\u001b[38;5;241;43m1\u001b[39;49m\u001b[43m,\u001b[49m\u001b[43m \u001b[49m\u001b[43msigma_w\u001b[49m\u001b[43m,\u001b[49m\u001b[43m \u001b[49m\u001b[43msigma_b\u001b[49m\u001b[43m,\u001b[49m\u001b[43m \u001b[49m\u001b[43mn0\u001b[49m\u001b[43m)\u001b[49m\n\u001b[1;32m     14\u001b[0m     KCalXCalX[jndex, index] \u001b[38;5;241m=\u001b[39m KCalXCalX[index, jndex]\n\u001b[1;32m     15\u001b[0m     TCalXCalX[index, jndex] \u001b[38;5;241m=\u001b[39m Theta(elem, input_train[jndex], n_layer\u001b[38;5;241m+\u001b[39m\u001b[38;5;241m1\u001b[39m, sigma_w, sigma_b, n0)\n",
      "Cell \u001b[0;32mIn[4], line 6\u001b[0m, in \u001b[0;36mKappa\u001b[0;34m(arr1, arr2, l_index, sigma_w, sigma_b, n0)\u001b[0m\n\u001b[1;32m      4\u001b[0m \u001b[38;5;28;01melse\u001b[39;00m:\n\u001b[1;32m      5\u001b[0m     T11 \u001b[38;5;241m=\u001b[39m Kappa(arr1, arr1, l_index\u001b[38;5;241m-\u001b[39m\u001b[38;5;241m1\u001b[39m, sigma_w, sigma_b, n0)\n\u001b[0;32m----> 6\u001b[0m     T12 \u001b[38;5;241m=\u001b[39m \u001b[43mKappa\u001b[49m\u001b[43m(\u001b[49m\u001b[43marr1\u001b[49m\u001b[43m,\u001b[49m\u001b[43m \u001b[49m\u001b[43marr2\u001b[49m\u001b[43m,\u001b[49m\u001b[43m \u001b[49m\u001b[43ml_index\u001b[49m\u001b[38;5;241;43m-\u001b[39;49m\u001b[38;5;241;43m1\u001b[39;49m\u001b[43m,\u001b[49m\u001b[43m \u001b[49m\u001b[43msigma_w\u001b[49m\u001b[43m,\u001b[49m\u001b[43m \u001b[49m\u001b[43msigma_b\u001b[49m\u001b[43m,\u001b[49m\u001b[43m \u001b[49m\u001b[43mn0\u001b[49m\u001b[43m)\u001b[49m\n\u001b[1;32m      7\u001b[0m     T21 \u001b[38;5;241m=\u001b[39m T12\n\u001b[1;32m      8\u001b[0m     T22 \u001b[38;5;241m=\u001b[39m Kappa(arr2, arr2, l_index\u001b[38;5;241m-\u001b[39m\u001b[38;5;241m1\u001b[39m, sigma_w, sigma_b, n0)\n",
      "Cell \u001b[0;32mIn[4], line 6\u001b[0m, in \u001b[0;36mKappa\u001b[0;34m(arr1, arr2, l_index, sigma_w, sigma_b, n0)\u001b[0m\n\u001b[1;32m      4\u001b[0m \u001b[38;5;28;01melse\u001b[39;00m:\n\u001b[1;32m      5\u001b[0m     T11 \u001b[38;5;241m=\u001b[39m Kappa(arr1, arr1, l_index\u001b[38;5;241m-\u001b[39m\u001b[38;5;241m1\u001b[39m, sigma_w, sigma_b, n0)\n\u001b[0;32m----> 6\u001b[0m     T12 \u001b[38;5;241m=\u001b[39m \u001b[43mKappa\u001b[49m\u001b[43m(\u001b[49m\u001b[43marr1\u001b[49m\u001b[43m,\u001b[49m\u001b[43m \u001b[49m\u001b[43marr2\u001b[49m\u001b[43m,\u001b[49m\u001b[43m \u001b[49m\u001b[43ml_index\u001b[49m\u001b[38;5;241;43m-\u001b[39;49m\u001b[38;5;241;43m1\u001b[39;49m\u001b[43m,\u001b[49m\u001b[43m \u001b[49m\u001b[43msigma_w\u001b[49m\u001b[43m,\u001b[49m\u001b[43m \u001b[49m\u001b[43msigma_b\u001b[49m\u001b[43m,\u001b[49m\u001b[43m \u001b[49m\u001b[43mn0\u001b[49m\u001b[43m)\u001b[49m\n\u001b[1;32m      7\u001b[0m     T21 \u001b[38;5;241m=\u001b[39m T12\n\u001b[1;32m      8\u001b[0m     T22 \u001b[38;5;241m=\u001b[39m Kappa(arr2, arr2, l_index\u001b[38;5;241m-\u001b[39m\u001b[38;5;241m1\u001b[39m, sigma_w, sigma_b, n0)\n",
      "Cell \u001b[0;32mIn[4], line 6\u001b[0m, in \u001b[0;36mKappa\u001b[0;34m(arr1, arr2, l_index, sigma_w, sigma_b, n0)\u001b[0m\n\u001b[1;32m      4\u001b[0m \u001b[38;5;28;01melse\u001b[39;00m:\n\u001b[1;32m      5\u001b[0m     T11 \u001b[38;5;241m=\u001b[39m Kappa(arr1, arr1, l_index\u001b[38;5;241m-\u001b[39m\u001b[38;5;241m1\u001b[39m, sigma_w, sigma_b, n0)\n\u001b[0;32m----> 6\u001b[0m     T12 \u001b[38;5;241m=\u001b[39m \u001b[43mKappa\u001b[49m\u001b[43m(\u001b[49m\u001b[43marr1\u001b[49m\u001b[43m,\u001b[49m\u001b[43m \u001b[49m\u001b[43marr2\u001b[49m\u001b[43m,\u001b[49m\u001b[43m \u001b[49m\u001b[43ml_index\u001b[49m\u001b[38;5;241;43m-\u001b[39;49m\u001b[38;5;241;43m1\u001b[39;49m\u001b[43m,\u001b[49m\u001b[43m \u001b[49m\u001b[43msigma_w\u001b[49m\u001b[43m,\u001b[49m\u001b[43m \u001b[49m\u001b[43msigma_b\u001b[49m\u001b[43m,\u001b[49m\u001b[43m \u001b[49m\u001b[43mn0\u001b[49m\u001b[43m)\u001b[49m\n\u001b[1;32m      7\u001b[0m     T21 \u001b[38;5;241m=\u001b[39m T12\n\u001b[1;32m      8\u001b[0m     T22 \u001b[38;5;241m=\u001b[39m Kappa(arr2, arr2, l_index\u001b[38;5;241m-\u001b[39m\u001b[38;5;241m1\u001b[39m, sigma_w, sigma_b, n0)\n",
      "Cell \u001b[0;32mIn[4], line 3\u001b[0m, in \u001b[0;36mKappa\u001b[0;34m(arr1, arr2, l_index, sigma_w, sigma_b, n0)\u001b[0m\n\u001b[1;32m      1\u001b[0m \u001b[38;5;28;01mdef\u001b[39;00m \u001b[38;5;21mKappa\u001b[39m(arr1, arr2, l_index, sigma_w, sigma_b, n0):\n\u001b[1;32m      2\u001b[0m     \u001b[38;5;28;01mif\u001b[39;00m l_index \u001b[38;5;241m==\u001b[39m \u001b[38;5;241m1\u001b[39m:\n\u001b[0;32m----> 3\u001b[0m         \u001b[38;5;28;01mreturn\u001b[39;00m \u001b[43mnp\u001b[49m\u001b[38;5;241;43m.\u001b[39;49m\u001b[43mdot\u001b[49m\u001b[43m(\u001b[49m\u001b[43marr1\u001b[49m\u001b[43m,\u001b[49m\u001b[43marr2\u001b[49m\u001b[43m)\u001b[49m\u001b[38;5;241m/\u001b[39mn0\u001b[38;5;241m*\u001b[39msigma_w\u001b[38;5;241m*\u001b[39m\u001b[38;5;241m*\u001b[39m\u001b[38;5;241m2.\u001b[39m \u001b[38;5;241m+\u001b[39m sigma_b\u001b[38;5;241m*\u001b[39m\u001b[38;5;241m*\u001b[39m\u001b[38;5;241m2.\u001b[39m\n\u001b[1;32m      4\u001b[0m     \u001b[38;5;28;01melse\u001b[39;00m:\n\u001b[1;32m      5\u001b[0m         T11 \u001b[38;5;241m=\u001b[39m Kappa(arr1, arr1, l_index\u001b[38;5;241m-\u001b[39m\u001b[38;5;241m1\u001b[39m, sigma_w, sigma_b, n0)\n",
      "File \u001b[0;32m<__array_function__ internals>:180\u001b[0m, in \u001b[0;36mdot\u001b[0;34m(*args, **kwargs)\u001b[0m\n",
      "\u001b[0;31mKeyboardInterrupt\u001b[0m: "
     ]
    },
    {
     "data": {
      "image/png": "[encoded data removed]",
      "text/plain": [
       "<Figure size 1000x800 with 1 Axes>"
      ]
     },
     "metadata": {},
     "output_type": "display_data"
    }
   ],
   "source": [
    "from matplotlib.animation import FuncAnimation\n",
    "from IPython.display import display, clear_output\n",
    "\n",
    "tmax = 5000\n",
    "dtime = tmax / 100\n",
    "ttime = 0\n",
    "\n",
    "fig,ax=plt.subplots(1,1,figsize=(10,8))\n",
    "ax.set_ylabel(\"value\")\n",
    "ax.set_xlabel(\"time\")\n",
    "\n",
    "xvalues = []\n",
    "err_xval = []\n",
    "time_set = []\n",
    "\n",
    "def update(frame):\n",
    "    \n",
    "    global ttime\n",
    "    \n",
    "    mean, st_dd = distribNKTgp(ttime, alpha_test, alpha_train_np, x_train_np, eta, depth, sigma_w, sigma_b, n0)\n",
    "    xvalues.append(mean)\n",
    "    err_xval.append(st_dd)\n",
    "    time_set.append(ttime)\n",
    "    ttime += dtime\n",
    "    \n",
    "    ax.clear()   \n",
    "    ax.grid(True)\n",
    "    \n",
    "    ax.errorbar(np.array(time_set), np.array(xvalues), yerr=np.array(err_xval), fmt = '.', capsize=1)\n",
    "    ax.axhline(0.0,color='grey',linestyle='--')\n",
    "    \n",
    "    ax.set_ylabel(\"value\")\n",
    "    ax.set_xlabel(\"time\")\n",
    "\n",
    "\n",
    "animation = FuncAnimation(fig, update, frames=100)  # Update plot every 100 milliseconds\n",
    "\n",
    "\n",
    "for i in range(100):\n",
    "    animation._func(i)\n",
    "    display(fig)\n",
    "    clear_output(wait=True)\n",
    "\n",
    "#for i in tqdm(range(30), desc=\"Progress\", ncols=100):\n",
    "#    mean, st_dd = distribNKTgp(ttime, alpha_test, alpha_train_np, x_train_np, eta, depth, sigma_w, sigma_b, n0)\n",
    "    #print(mean)\n",
    "#    xvalues.append(mean)\n",
    "#    err_xval.append(st_dd)\n",
    "#    time_set.append(ttime)\n",
    "#    ttime += dtime\n"
   ]
  },
  {
   "cell_type": "code",
   "execution_count": 24,
   "id": "a2515b93",
   "metadata": {},
   "outputs": [
    {
     "data": {
      "image/png": "[encoded data removed]",
      "text/plain": [
       "<Figure size 640x480 with 1 Axes>"
      ]
     },
     "metadata": {},
     "output_type": "display_data"
    }
   ],
   "source": [
    "#print(xvalues)\n",
    "array_set = [time_set, xvalues, err_xval]\n",
    "\n",
    "# Create a mask to erase the first element of each array\n",
    "mask = [slice(0, None) for _ in array_set]\n",
    "# Apply the mask to the array set to erase the first element\n",
    "array_set = [array[mask_] for array, mask_ in zip(array_set, mask)]\n",
    "\n",
    "plt.errorbar(np.array(time_set), np.array(xvalues), yerr=np.array(err_xval), fmt = '.', capsize=1)\n",
    "plt.show()"
   ]
  },
  {
   "cell_type": "code",
   "execution_count": null,
   "id": "5762d228",
   "metadata": {},
   "outputs": [],
   "source": []
  }
 ],
 "metadata": {
  "kernelspec": {
   "display_name": "Python 3 (ipykernel)",
   "language": "python",
   "name": "python3"
  },
  "language_info": {
   "codemirror_mode": {
    "name": "ipython",
    "version": 3
   },
   "file_extension": ".py",
   "mimetype": "text/x-python",
   "name": "python",
   "nbconvert_exporter": "python",
   "pygments_lexer": "ipython3",
   "version": "3.10.6"
  }
 },
 "nbformat": 4,
 "nbformat_minor": 5
}
